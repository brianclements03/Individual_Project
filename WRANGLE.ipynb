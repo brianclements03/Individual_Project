{
 "cells": [
  {
   "cell_type": "code",
   "execution_count": 1,
   "id": "883ea05c",
   "metadata": {},
   "outputs": [],
   "source": [
    "import pandas as pd\n",
    "import numpy as np\n",
    "from wrangle_module import acquire_permits"
   ]
  },
  {
   "cell_type": "code",
   "execution_count": 2,
   "id": "c7182d00",
   "metadata": {},
   "outputs": [
    {
     "data": {
      "text/plain": [
       "(76899, 14)"
      ]
     },
     "execution_count": 2,
     "metadata": {},
     "output_type": "execute_result"
    }
   ],
   "source": [
    "permits = acquire_permits()\n",
    "permits.shape"
   ]
  },
  {
   "cell_type": "code",
   "execution_count": null,
   "id": "be51f8d8",
   "metadata": {},
   "outputs": [],
   "source": []
  },
  {
   "cell_type": "code",
   "execution_count": null,
   "id": "41720775",
   "metadata": {},
   "outputs": [],
   "source": [
    "permits_2016 = pd.read_csv('DrillingPermitResults_2016.csv',sep=',')\n",
    "permits_2016.head(1)"
   ]
  },
  {
   "cell_type": "code",
   "execution_count": null,
   "id": "ebe884af",
   "metadata": {
    "scrolled": true
   },
   "outputs": [],
   "source": [
    "permits_2016.shape"
   ]
  },
  {
   "cell_type": "code",
   "execution_count": null,
   "id": "32390884",
   "metadata": {},
   "outputs": [],
   "source": [
    "permits_2017_1 = pd.read_csv('DrillingPermitResults_2017_1.csv', sep=',')\n",
    "permits_2017_1.head(1)"
   ]
  },
  {
   "cell_type": "code",
   "execution_count": null,
   "id": "191e9cfa",
   "metadata": {},
   "outputs": [],
   "source": [
    "permits_2017_1.shape"
   ]
  },
  {
   "cell_type": "code",
   "execution_count": null,
   "id": "a5f953b3",
   "metadata": {
    "scrolled": true
   },
   "outputs": [],
   "source": [
    "permits_2017_2 = pd.read_csv('DrillingPermitResults_2017_2.csv', sep=',')\n",
    "permits_2017_2.head(1)"
   ]
  },
  {
   "cell_type": "code",
   "execution_count": null,
   "id": "05a38ba2",
   "metadata": {},
   "outputs": [],
   "source": [
    "permits_2017_2.shape"
   ]
  },
  {
   "cell_type": "code",
   "execution_count": null,
   "id": "d49064b9",
   "metadata": {
    "scrolled": true
   },
   "outputs": [],
   "source": [
    "permits_2018_1 = pd.read_csv('DrillingPermitResults_2018_1.csv', sep=',')\n",
    "permits_2018_1.head(1)"
   ]
  },
  {
   "cell_type": "code",
   "execution_count": null,
   "id": "8b0a8c3d",
   "metadata": {
    "scrolled": true
   },
   "outputs": [],
   "source": [
    "permits_2018_1.shape"
   ]
  },
  {
   "cell_type": "code",
   "execution_count": null,
   "id": "bf9e7638",
   "metadata": {
    "scrolled": true
   },
   "outputs": [],
   "source": [
    "permits_2018_2 = pd.read_csv('DrillingPermitResults_2018_2.csv', sep=',')\n",
    "permits_2018_2.head(1)"
   ]
  },
  {
   "cell_type": "code",
   "execution_count": null,
   "id": "67a2e2d5",
   "metadata": {
    "scrolled": true
   },
   "outputs": [],
   "source": [
    "permits_2018_2.shape"
   ]
  },
  {
   "cell_type": "code",
   "execution_count": null,
   "id": "c4f74f4c",
   "metadata": {
    "scrolled": true
   },
   "outputs": [],
   "source": [
    "permits_2019_1 = pd.read_csv('DrillingPermitResults_2019_1.csv', sep=',')\n",
    "permits_2019_1.head(1)"
   ]
  },
  {
   "cell_type": "code",
   "execution_count": null,
   "id": "12ef64d9",
   "metadata": {
    "scrolled": true
   },
   "outputs": [],
   "source": [
    "permits_2019_1.shape"
   ]
  },
  {
   "cell_type": "code",
   "execution_count": null,
   "id": "85657ed3",
   "metadata": {
    "scrolled": true
   },
   "outputs": [],
   "source": [
    "permits_2019_2 = pd.read_csv('DrillingPermitResults_2019_2.csv', sep=',')\n",
    "permits_2019_2.head(1)"
   ]
  },
  {
   "cell_type": "code",
   "execution_count": null,
   "id": "a3f66f2a",
   "metadata": {},
   "outputs": [],
   "source": [
    "permits_2019_2.shape"
   ]
  },
  {
   "cell_type": "code",
   "execution_count": null,
   "id": "6b45c633",
   "metadata": {},
   "outputs": [],
   "source": [
    "permits_2020 = pd.read_csv('DrillingPermitResults_2020.csv',sep=',')\n",
    "permits_2020.head(1)"
   ]
  },
  {
   "cell_type": "code",
   "execution_count": null,
   "id": "fdcccbf9",
   "metadata": {},
   "outputs": [],
   "source": [
    "permits_2020.shape"
   ]
  },
  {
   "cell_type": "code",
   "execution_count": null,
   "id": "599ebbb8",
   "metadata": {
    "scrolled": true
   },
   "outputs": [],
   "source": [
    "permits_2021_1 = pd.read_csv('DrillingPermitResults_2021_1.csv', sep=',')\n",
    "permits_2021_1.head(1)"
   ]
  },
  {
   "cell_type": "code",
   "execution_count": null,
   "id": "60185daf",
   "metadata": {
    "scrolled": true
   },
   "outputs": [],
   "source": [
    "permits_2021_1.shape"
   ]
  },
  {
   "cell_type": "code",
   "execution_count": null,
   "id": "274ca65f",
   "metadata": {
    "scrolled": true
   },
   "outputs": [],
   "source": [
    "permits_2021_2 = pd.read_csv('DrillingPermitResults_2021_2.csv', sep=',')\n",
    "permits_2021_2.head(1)"
   ]
  },
  {
   "cell_type": "code",
   "execution_count": null,
   "id": "ad479108",
   "metadata": {},
   "outputs": [],
   "source": [
    "permits_2021_2.shape"
   ]
  },
  {
   "cell_type": "code",
   "execution_count": null,
   "id": "d57dfe91",
   "metadata": {
    "scrolled": true
   },
   "outputs": [],
   "source": [
    "permits = permits_2016.append(permits_2017_1).append(permits_2017_2)\\\n",
    "                .append(permits_2018_1).append(permits_2018_2).append(permits_2019_1)\\\n",
    "                .append(permits_2019_2).append(permits_2020).append(permits_2021_1)\\\n",
    "                .append(permits_2021_2)\n",
    "permits.head()"
   ]
  },
  {
   "cell_type": "code",
   "execution_count": null,
   "id": "477fe8d1",
   "metadata": {},
   "outputs": [],
   "source": [
    "permits_test.shape"
   ]
  },
  {
   "cell_type": "code",
   "execution_count": null,
   "id": "d40961c8",
   "metadata": {},
   "outputs": [],
   "source": []
  },
  {
   "cell_type": "code",
   "execution_count": null,
   "id": "957e0e1b",
   "metadata": {},
   "outputs": [],
   "source": []
  },
  {
   "cell_type": "code",
   "execution_count": null,
   "id": "5232507a",
   "metadata": {},
   "outputs": [],
   "source": []
  },
  {
   "cell_type": "code",
   "execution_count": null,
   "id": "a0000bf3",
   "metadata": {},
   "outputs": [],
   "source": [
    "x = df[\"Status Date\"].str.replace(\"Submitted\", \"\").str.replace(\"Approved\", \"\")\n",
    "x = x.str.split(n=2, expand=True)\n",
    "df[\"submitted\"] = x[0]\n",
    "df[\"approved\"] = x[1]"
   ]
  },
  {
   "cell_type": "code",
   "execution_count": null,
   "id": "38192bd4",
   "metadata": {},
   "outputs": [],
   "source": [
    "df.head()"
   ]
  },
  {
   "cell_type": "code",
   "execution_count": null,
   "id": "7ff73ece",
   "metadata": {},
   "outputs": [],
   "source": [
    "df['Operator Name/Number'].sample(100)"
   ]
  },
  {
   "cell_type": "code",
   "execution_count": null,
   "id": "9337755c",
   "metadata": {},
   "outputs": [],
   "source": [
    "x = df[\"Operator Name/Number\"].str.replace(\"Submitted\", \"\").str.replace(\"Approved\", \"\")\n",
    "x = x.str.split(n=2, expand=True)\n",
    "df[\"submitted\"] = x[0]\n",
    "df[\"approved\"] = x[1]"
   ]
  },
  {
   "cell_type": "code",
   "execution_count": null,
   "id": "12252fb4",
   "metadata": {},
   "outputs": [],
   "source": [
    "# ['Status_Date','Status_#','API_NO.','Operator_Name/Number','Lease_Name','Well_#','Dist.','County','Wellbore_Profile','Filing_Purpose','Amend','Total_Depth','Stacked_Lateral_Parent_Well_DP_#','Current_Queue']\n",
    " "
   ]
  },
  {
   "cell_type": "code",
   "execution_count": null,
   "id": "78eec915",
   "metadata": {},
   "outputs": [],
   "source": [
    "production_2016 = pd.read_csv('ProductionDataQuery_Lease_ReportCsv_Dist_01.csv', sep = ',')"
   ]
  },
  {
   "cell_type": "code",
   "execution_count": null,
   "id": "161576f6",
   "metadata": {},
   "outputs": [],
   "source": [
    "production_2016.head()"
   ]
  },
  {
   "cell_type": "code",
   "execution_count": null,
   "id": "3d3ea918",
   "metadata": {},
   "outputs": [],
   "source": []
  }
 ],
 "metadata": {
  "kernelspec": {
   "display_name": "Python 3",
   "language": "python",
   "name": "python3"
  },
  "language_info": {
   "codemirror_mode": {
    "name": "ipython",
    "version": 3
   },
   "file_extension": ".py",
   "mimetype": "text/x-python",
   "name": "python",
   "nbconvert_exporter": "python",
   "pygments_lexer": "ipython3",
   "version": "3.8.8"
  }
 },
 "nbformat": 4,
 "nbformat_minor": 5
}
