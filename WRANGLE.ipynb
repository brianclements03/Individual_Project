{
 "cells": [
  {
   "cell_type": "code",
   "execution_count": 1,
   "id": "883ea05c",
   "metadata": {},
   "outputs": [],
   "source": [
    "import pandas as pd\n",
    "import numpy as np"
   ]
  },
  {
   "cell_type": "code",
   "execution_count": 2,
   "id": "41720775",
   "metadata": {},
   "outputs": [
    {
     "data": {
      "text/html": [
       "<div>\n",
       "<style scoped>\n",
       "    .dataframe tbody tr th:only-of-type {\n",
       "        vertical-align: middle;\n",
       "    }\n",
       "\n",
       "    .dataframe tbody tr th {\n",
       "        vertical-align: top;\n",
       "    }\n",
       "\n",
       "    .dataframe thead th {\n",
       "        text-align: right;\n",
       "    }\n",
       "</style>\n",
       "<table border=\"1\" class=\"dataframe\">\n",
       "  <thead>\n",
       "    <tr style=\"text-align: right;\">\n",
       "      <th></th>\n",
       "      <th>Status Date</th>\n",
       "      <th>Status #</th>\n",
       "      <th>API NO.</th>\n",
       "      <th>Operator Name/Number</th>\n",
       "      <th>Lease Name</th>\n",
       "      <th>Well #</th>\n",
       "      <th>Dist.</th>\n",
       "      <th>County</th>\n",
       "      <th>Wellbore Profile</th>\n",
       "      <th>Filing Purpose</th>\n",
       "      <th>Amend</th>\n",
       "      <th>Total Depth</th>\n",
       "      <th>Stacked Lateral Parent Well DP #</th>\n",
       "      <th>Current Queue</th>\n",
       "    </tr>\n",
       "  </thead>\n",
       "  <tbody>\n",
       "    <tr>\n",
       "      <th>0</th>\n",
       "      <td>Submitted 12/07/2013 Approved 02/09/2016</td>\n",
       "      <td>747692</td>\n",
       "      <td>41739323</td>\n",
       "      <td>VAN OPERATING, LTD. (881442)</td>\n",
       "      <td>SOUTH GREEN '54'</td>\n",
       "      <td>3</td>\n",
       "      <td>7B</td>\n",
       "      <td>SHACKELFORD</td>\n",
       "      <td>Vertical</td>\n",
       "      <td>New Drill</td>\n",
       "      <td>Y</td>\n",
       "      <td>4700</td>\n",
       "      <td>NaN</td>\n",
       "      <td>APPROVED</td>\n",
       "    </tr>\n",
       "  </tbody>\n",
       "</table>\n",
       "</div>"
      ],
      "text/plain": [
       "                                Status Date  Status #   API NO.  \\\n",
       "0  Submitted 12/07/2013 Approved 02/09/2016    747692  41739323   \n",
       "\n",
       "           Operator Name/Number        Lease Name Well # Dist.       County  \\\n",
       "0  VAN OPERATING, LTD. (881442)  SOUTH GREEN '54'      3    7B  SHACKELFORD   \n",
       "\n",
       "  Wellbore Profile Filing Purpose Amend  Total Depth  \\\n",
       "0         Vertical      New Drill     Y         4700   \n",
       "\n",
       "   Stacked Lateral Parent Well DP # Current Queue  \n",
       "0                               NaN      APPROVED  "
      ]
     },
     "execution_count": 2,
     "metadata": {},
     "output_type": "execute_result"
    }
   ],
   "source": [
    "permits_2016 = pd.read_csv('DrillingPermitResults_2016.csv',sep=',')\n",
    "permits_2016.head(1)"
   ]
  },
  {
   "cell_type": "code",
   "execution_count": 4,
   "id": "78c306bd",
   "metadata": {
    "scrolled": true
   },
   "outputs": [
    {
     "data": {
      "text/plain": [
       "(9941, 14)"
      ]
     },
     "execution_count": 4,
     "metadata": {},
     "output_type": "execute_result"
    }
   ],
   "source": [
    "permits_2016.shape"
   ]
  },
  {
   "cell_type": "code",
   "execution_count": 5,
   "id": "f3958f3f",
   "metadata": {},
   "outputs": [
    {
     "data": {
      "text/html": [
       "<div>\n",
       "<style scoped>\n",
       "    .dataframe tbody tr th:only-of-type {\n",
       "        vertical-align: middle;\n",
       "    }\n",
       "\n",
       "    .dataframe tbody tr th {\n",
       "        vertical-align: top;\n",
       "    }\n",
       "\n",
       "    .dataframe thead th {\n",
       "        text-align: right;\n",
       "    }\n",
       "</style>\n",
       "<table border=\"1\" class=\"dataframe\">\n",
       "  <thead>\n",
       "    <tr style=\"text-align: right;\">\n",
       "      <th></th>\n",
       "      <th>Status Date</th>\n",
       "      <th>Status #</th>\n",
       "      <th>API NO.</th>\n",
       "      <th>Operator Name/Number</th>\n",
       "      <th>Lease Name</th>\n",
       "      <th>Well #</th>\n",
       "      <th>Dist.</th>\n",
       "      <th>County</th>\n",
       "      <th>Wellbore Profile</th>\n",
       "      <th>Filing Purpose</th>\n",
       "      <th>Amend</th>\n",
       "      <th>Total Depth</th>\n",
       "      <th>Stacked Lateral Parent Well DP #</th>\n",
       "      <th>Current Queue</th>\n",
       "    </tr>\n",
       "  </thead>\n",
       "  <tbody>\n",
       "    <tr>\n",
       "      <th>0</th>\n",
       "      <td>Submitted 10/21/2014 Approved 03/09/2017</td>\n",
       "      <td>774935</td>\n",
       "      <td>43936889</td>\n",
       "      <td>CHESAPEAKE OPERATING, L.L.C. (147699)</td>\n",
       "      <td>TCCD SOUTH</td>\n",
       "      <td>4H</td>\n",
       "      <td>05</td>\n",
       "      <td>TARRANT</td>\n",
       "      <td>Horizontal</td>\n",
       "      <td>New Drill</td>\n",
       "      <td>Y</td>\n",
       "      <td>9000</td>\n",
       "      <td>NaN</td>\n",
       "      <td>APPROVED</td>\n",
       "    </tr>\n",
       "  </tbody>\n",
       "</table>\n",
       "</div>"
      ],
      "text/plain": [
       "                                Status Date  Status #   API NO.  \\\n",
       "0  Submitted 10/21/2014 Approved 03/09/2017    774935  43936889   \n",
       "\n",
       "                    Operator Name/Number  Lease Name Well # Dist.   County  \\\n",
       "0  CHESAPEAKE OPERATING, L.L.C. (147699)  TCCD SOUTH     4H    05  TARRANT   \n",
       "\n",
       "  Wellbore Profile Filing Purpose Amend  Total Depth  \\\n",
       "0       Horizontal      New Drill     Y         9000   \n",
       "\n",
       "   Stacked Lateral Parent Well DP # Current Queue  \n",
       "0                               NaN      APPROVED  "
      ]
     },
     "execution_count": 5,
     "metadata": {},
     "output_type": "execute_result"
    }
   ],
   "source": [
    "permits_2017_1 = pd.read_csv('DrillingPermitResults_2017_1.csv', sep=',')\n",
    "permits_2017_1.head(1)"
   ]
  },
  {
   "cell_type": "code",
   "execution_count": 6,
   "id": "9c69347d",
   "metadata": {},
   "outputs": [
    {
     "data": {
      "text/plain": [
       "(7689, 14)"
      ]
     },
     "execution_count": 6,
     "metadata": {},
     "output_type": "execute_result"
    }
   ],
   "source": [
    "permits_2017_1.shape"
   ]
  },
  {
   "cell_type": "code",
   "execution_count": 7,
   "id": "dd6d4ef6",
   "metadata": {
    "scrolled": true
   },
   "outputs": [
    {
     "data": {
      "text/html": [
       "<div>\n",
       "<style scoped>\n",
       "    .dataframe tbody tr th:only-of-type {\n",
       "        vertical-align: middle;\n",
       "    }\n",
       "\n",
       "    .dataframe tbody tr th {\n",
       "        vertical-align: top;\n",
       "    }\n",
       "\n",
       "    .dataframe thead th {\n",
       "        text-align: right;\n",
       "    }\n",
       "</style>\n",
       "<table border=\"1\" class=\"dataframe\">\n",
       "  <thead>\n",
       "    <tr style=\"text-align: right;\">\n",
       "      <th></th>\n",
       "      <th>Status Date</th>\n",
       "      <th>Status #</th>\n",
       "      <th>API NO.</th>\n",
       "      <th>Operator Name/Number</th>\n",
       "      <th>Lease Name</th>\n",
       "      <th>Well #</th>\n",
       "      <th>Dist.</th>\n",
       "      <th>County</th>\n",
       "      <th>Wellbore Profile</th>\n",
       "      <th>Filing Purpose</th>\n",
       "      <th>Amend</th>\n",
       "      <th>Total Depth</th>\n",
       "      <th>Stacked Lateral Parent Well DP #</th>\n",
       "      <th>Current Queue</th>\n",
       "    </tr>\n",
       "  </thead>\n",
       "  <tbody>\n",
       "    <tr>\n",
       "      <th>0</th>\n",
       "      <td>Submitted 08/10/2016 Approved 07/10/2017</td>\n",
       "      <td>757258</td>\n",
       "      <td>38933659</td>\n",
       "      <td>CENTENNIAL RESOURCE PROD, LLC (141077)</td>\n",
       "      <td>WEAVER STATE</td>\n",
       "      <td>3H</td>\n",
       "      <td>08</td>\n",
       "      <td>REEVES</td>\n",
       "      <td>Horizontal</td>\n",
       "      <td>New Drill</td>\n",
       "      <td>Y</td>\n",
       "      <td>11500</td>\n",
       "      <td>NaN</td>\n",
       "      <td>APPROVED</td>\n",
       "    </tr>\n",
       "  </tbody>\n",
       "</table>\n",
       "</div>"
      ],
      "text/plain": [
       "                                Status Date  Status #   API NO.  \\\n",
       "0  Submitted 08/10/2016 Approved 07/10/2017    757258  38933659   \n",
       "\n",
       "                     Operator Name/Number    Lease Name Well # Dist.  County  \\\n",
       "0  CENTENNIAL RESOURCE PROD, LLC (141077)  WEAVER STATE     3H    08  REEVES   \n",
       "\n",
       "  Wellbore Profile Filing Purpose Amend  Total Depth  \\\n",
       "0       Horizontal      New Drill     Y        11500   \n",
       "\n",
       "   Stacked Lateral Parent Well DP # Current Queue  \n",
       "0                               NaN      APPROVED  "
      ]
     },
     "execution_count": 7,
     "metadata": {},
     "output_type": "execute_result"
    }
   ],
   "source": [
    "permits_2017_2 = pd.read_csv('DrillingPermitResults_2017_2.csv', sep=',')\n",
    "permits_2017_2.head(1)"
   ]
  },
  {
   "cell_type": "code",
   "execution_count": 8,
   "id": "8331f7d9",
   "metadata": {},
   "outputs": [
    {
     "data": {
      "text/plain": [
       "(7386, 14)"
      ]
     },
     "execution_count": 8,
     "metadata": {},
     "output_type": "execute_result"
    }
   ],
   "source": [
    "permits_2017_2.shape"
   ]
  },
  {
   "cell_type": "code",
   "execution_count": 9,
   "id": "fa925af0",
   "metadata": {
    "scrolled": true
   },
   "outputs": [
    {
     "data": {
      "text/html": [
       "<div>\n",
       "<style scoped>\n",
       "    .dataframe tbody tr th:only-of-type {\n",
       "        vertical-align: middle;\n",
       "    }\n",
       "\n",
       "    .dataframe tbody tr th {\n",
       "        vertical-align: top;\n",
       "    }\n",
       "\n",
       "    .dataframe thead th {\n",
       "        text-align: right;\n",
       "    }\n",
       "</style>\n",
       "<table border=\"1\" class=\"dataframe\">\n",
       "  <thead>\n",
       "    <tr style=\"text-align: right;\">\n",
       "      <th></th>\n",
       "      <th>Status Date</th>\n",
       "      <th>Status #</th>\n",
       "      <th>API NO.</th>\n",
       "      <th>Operator Name/Number</th>\n",
       "      <th>Lease Name</th>\n",
       "      <th>Well #</th>\n",
       "      <th>Dist.</th>\n",
       "      <th>County</th>\n",
       "      <th>Wellbore Profile</th>\n",
       "      <th>Filing Purpose</th>\n",
       "      <th>Amend</th>\n",
       "      <th>Total Depth</th>\n",
       "      <th>Stacked Lateral Parent Well DP #</th>\n",
       "      <th>Current Queue</th>\n",
       "    </tr>\n",
       "  </thead>\n",
       "  <tbody>\n",
       "    <tr>\n",
       "      <th>0</th>\n",
       "      <td>Submitted 03/13/2018 Approved 03/28/2018</td>\n",
       "      <td>837508</td>\n",
       "      <td>31700160</td>\n",
       "      <td>ENDEAVOR ENERGY RESOURCES L.P. (251726)</td>\n",
       "      <td>YATES, W. M.</td>\n",
       "      <td>2R</td>\n",
       "      <td>08</td>\n",
       "      <td>MARTIN</td>\n",
       "      <td>Vertical</td>\n",
       "      <td>Recompletion</td>\n",
       "      <td>N</td>\n",
       "      <td>12096</td>\n",
       "      <td>NaN</td>\n",
       "      <td>APPROVED</td>\n",
       "    </tr>\n",
       "  </tbody>\n",
       "</table>\n",
       "</div>"
      ],
      "text/plain": [
       "                                Status Date  Status #   API NO.  \\\n",
       "0  Submitted 03/13/2018 Approved 03/28/2018    837508  31700160   \n",
       "\n",
       "                      Operator Name/Number    Lease Name Well # Dist.  County  \\\n",
       "0  ENDEAVOR ENERGY RESOURCES L.P. (251726)  YATES, W. M.     2R    08  MARTIN   \n",
       "\n",
       "  Wellbore Profile Filing Purpose Amend  Total Depth  \\\n",
       "0         Vertical   Recompletion     N        12096   \n",
       "\n",
       "   Stacked Lateral Parent Well DP # Current Queue  \n",
       "0                               NaN      APPROVED  "
      ]
     },
     "execution_count": 9,
     "metadata": {},
     "output_type": "execute_result"
    }
   ],
   "source": [
    "permits_2018_1 = pd.read_csv('DrillingPermitResults_2018_1.csv', sep=',')\n",
    "permits_2018_1.head(1)"
   ]
  },
  {
   "cell_type": "code",
   "execution_count": 10,
   "id": "3e151291",
   "metadata": {
    "scrolled": true
   },
   "outputs": [
    {
     "data": {
      "text/plain": [
       "(8756, 14)"
      ]
     },
     "execution_count": 10,
     "metadata": {},
     "output_type": "execute_result"
    }
   ],
   "source": [
    "permits_2018_1.shape"
   ]
  },
  {
   "cell_type": "code",
   "execution_count": 11,
   "id": "9cdd3f6d",
   "metadata": {
    "scrolled": true
   },
   "outputs": [
    {
     "data": {
      "text/html": [
       "<div>\n",
       "<style scoped>\n",
       "    .dataframe tbody tr th:only-of-type {\n",
       "        vertical-align: middle;\n",
       "    }\n",
       "\n",
       "    .dataframe tbody tr th {\n",
       "        vertical-align: top;\n",
       "    }\n",
       "\n",
       "    .dataframe thead th {\n",
       "        text-align: right;\n",
       "    }\n",
       "</style>\n",
       "<table border=\"1\" class=\"dataframe\">\n",
       "  <thead>\n",
       "    <tr style=\"text-align: right;\">\n",
       "      <th></th>\n",
       "      <th>Status Date</th>\n",
       "      <th>Status #</th>\n",
       "      <th>API NO.</th>\n",
       "      <th>Operator Name/Number</th>\n",
       "      <th>Lease Name</th>\n",
       "      <th>Well #</th>\n",
       "      <th>Dist.</th>\n",
       "      <th>County</th>\n",
       "      <th>Wellbore Profile</th>\n",
       "      <th>Filing Purpose</th>\n",
       "      <th>Amend</th>\n",
       "      <th>Total Depth</th>\n",
       "      <th>Stacked Lateral Parent Well DP #</th>\n",
       "      <th>Current Queue</th>\n",
       "    </tr>\n",
       "  </thead>\n",
       "  <tbody>\n",
       "    <tr>\n",
       "      <th>0</th>\n",
       "      <td>Submitted 08/17/2017 Approved 07/23/2018</td>\n",
       "      <td>830013</td>\n",
       "      <td>35533494</td>\n",
       "      <td>KRC OPERATING, LLC (476900)</td>\n",
       "      <td>FLAME</td>\n",
       "      <td>3</td>\n",
       "      <td>04</td>\n",
       "      <td>NUECES</td>\n",
       "      <td>Vertical</td>\n",
       "      <td>Recompletion</td>\n",
       "      <td>N</td>\n",
       "      <td>10580</td>\n",
       "      <td>NaN</td>\n",
       "      <td>APPROVED</td>\n",
       "    </tr>\n",
       "  </tbody>\n",
       "</table>\n",
       "</div>"
      ],
      "text/plain": [
       "                                Status Date  Status #   API NO.  \\\n",
       "0  Submitted 08/17/2017 Approved 07/23/2018    830013  35533494   \n",
       "\n",
       "          Operator Name/Number Lease Name Well # Dist.  County  \\\n",
       "0  KRC OPERATING, LLC (476900)      FLAME      3    04  NUECES   \n",
       "\n",
       "  Wellbore Profile Filing Purpose Amend  Total Depth  \\\n",
       "0         Vertical   Recompletion     N        10580   \n",
       "\n",
       "   Stacked Lateral Parent Well DP # Current Queue  \n",
       "0                               NaN      APPROVED  "
      ]
     },
     "execution_count": 11,
     "metadata": {},
     "output_type": "execute_result"
    }
   ],
   "source": [
    "permits_2018_2 = pd.read_csv('DrillingPermitResults_2018_2.csv', sep=',')\n",
    "permits_2018_2.head(1)"
   ]
  },
  {
   "cell_type": "code",
   "execution_count": 12,
   "id": "e9bf5b41",
   "metadata": {
    "scrolled": true
   },
   "outputs": [
    {
     "data": {
      "text/plain": [
       "(8076, 14)"
      ]
     },
     "execution_count": 12,
     "metadata": {},
     "output_type": "execute_result"
    }
   ],
   "source": [
    "permits_2018_2.shape"
   ]
  },
  {
   "cell_type": "code",
   "execution_count": 13,
   "id": "0477685b",
   "metadata": {
    "scrolled": true
   },
   "outputs": [
    {
     "data": {
      "text/html": [
       "<div>\n",
       "<style scoped>\n",
       "    .dataframe tbody tr th:only-of-type {\n",
       "        vertical-align: middle;\n",
       "    }\n",
       "\n",
       "    .dataframe tbody tr th {\n",
       "        vertical-align: top;\n",
       "    }\n",
       "\n",
       "    .dataframe thead th {\n",
       "        text-align: right;\n",
       "    }\n",
       "</style>\n",
       "<table border=\"1\" class=\"dataframe\">\n",
       "  <thead>\n",
       "    <tr style=\"text-align: right;\">\n",
       "      <th></th>\n",
       "      <th>Status Date</th>\n",
       "      <th>Status #</th>\n",
       "      <th>API NO.</th>\n",
       "      <th>Operator Name/Number</th>\n",
       "      <th>Lease Name</th>\n",
       "      <th>Well #</th>\n",
       "      <th>Dist.</th>\n",
       "      <th>County</th>\n",
       "      <th>Wellbore Profile</th>\n",
       "      <th>Filing Purpose</th>\n",
       "      <th>Amend</th>\n",
       "      <th>Total Depth</th>\n",
       "      <th>Stacked Lateral Parent Well DP #</th>\n",
       "      <th>Current Queue</th>\n",
       "    </tr>\n",
       "  </thead>\n",
       "  <tbody>\n",
       "    <tr>\n",
       "      <th>0</th>\n",
       "      <td>Submitted 10/06/2011 Approved 01/07/2019</td>\n",
       "      <td>702117</td>\n",
       "      <td>24532673</td>\n",
       "      <td>GOLDSTON OIL CORPORATION (313990)</td>\n",
       "      <td>ATTRIDGE</td>\n",
       "      <td>1</td>\n",
       "      <td>03</td>\n",
       "      <td>JEFFERSON</td>\n",
       "      <td>Directional</td>\n",
       "      <td>New Drill</td>\n",
       "      <td>Y</td>\n",
       "      <td>8650</td>\n",
       "      <td>NaN</td>\n",
       "      <td>APPROVED</td>\n",
       "    </tr>\n",
       "  </tbody>\n",
       "</table>\n",
       "</div>"
      ],
      "text/plain": [
       "                                Status Date  Status #   API NO.  \\\n",
       "0  Submitted 10/06/2011 Approved 01/07/2019    702117  24532673   \n",
       "\n",
       "                Operator Name/Number Lease Name Well # Dist.     County  \\\n",
       "0  GOLDSTON OIL CORPORATION (313990)   ATTRIDGE      1    03  JEFFERSON   \n",
       "\n",
       "  Wellbore Profile Filing Purpose Amend  Total Depth  \\\n",
       "0      Directional      New Drill     Y         8650   \n",
       "\n",
       "   Stacked Lateral Parent Well DP # Current Queue  \n",
       "0                               NaN      APPROVED  "
      ]
     },
     "execution_count": 13,
     "metadata": {},
     "output_type": "execute_result"
    }
   ],
   "source": [
    "permits_2019_1 = pd.read_csv('DrillingPermitResults_2019_1.csv', sep=',')\n",
    "permits_2019_1.head(1)"
   ]
  },
  {
   "cell_type": "code",
   "execution_count": 14,
   "id": "cada4941",
   "metadata": {
    "scrolled": true
   },
   "outputs": [
    {
     "data": {
      "text/plain": [
       "(8343, 14)"
      ]
     },
     "execution_count": 14,
     "metadata": {},
     "output_type": "execute_result"
    }
   ],
   "source": [
    "permits_2019_1.shape"
   ]
  },
  {
   "cell_type": "code",
   "execution_count": 15,
   "id": "ed743385",
   "metadata": {
    "scrolled": true
   },
   "outputs": [
    {
     "data": {
      "text/html": [
       "<div>\n",
       "<style scoped>\n",
       "    .dataframe tbody tr th:only-of-type {\n",
       "        vertical-align: middle;\n",
       "    }\n",
       "\n",
       "    .dataframe tbody tr th {\n",
       "        vertical-align: top;\n",
       "    }\n",
       "\n",
       "    .dataframe thead th {\n",
       "        text-align: right;\n",
       "    }\n",
       "</style>\n",
       "<table border=\"1\" class=\"dataframe\">\n",
       "  <thead>\n",
       "    <tr style=\"text-align: right;\">\n",
       "      <th></th>\n",
       "      <th>Status Date</th>\n",
       "      <th>Status #</th>\n",
       "      <th>API NO.</th>\n",
       "      <th>Operator Name/Number</th>\n",
       "      <th>Lease Name</th>\n",
       "      <th>Well #</th>\n",
       "      <th>Dist.</th>\n",
       "      <th>County</th>\n",
       "      <th>Wellbore Profile</th>\n",
       "      <th>Filing Purpose</th>\n",
       "      <th>Amend</th>\n",
       "      <th>Total Depth</th>\n",
       "      <th>Stacked Lateral Parent Well DP #</th>\n",
       "      <th>Current Queue</th>\n",
       "    </tr>\n",
       "  </thead>\n",
       "  <tbody>\n",
       "    <tr>\n",
       "      <th>0</th>\n",
       "      <td>Submitted 05/02/2018 Approved 08/23/2019</td>\n",
       "      <td>835720</td>\n",
       "      <td>36538386</td>\n",
       "      <td>ROCKCLIFF ENERGY OPERATING LLC (722890)</td>\n",
       "      <td>POPE JEAN HV UNIT</td>\n",
       "      <td>2H</td>\n",
       "      <td>06</td>\n",
       "      <td>PANOLA</td>\n",
       "      <td>Horizontal</td>\n",
       "      <td>New Drill</td>\n",
       "      <td>Y</td>\n",
       "      <td>12000</td>\n",
       "      <td>NaN</td>\n",
       "      <td>APPROVED</td>\n",
       "    </tr>\n",
       "  </tbody>\n",
       "</table>\n",
       "</div>"
      ],
      "text/plain": [
       "                                Status Date  Status #   API NO.  \\\n",
       "0  Submitted 05/02/2018 Approved 08/23/2019    835720  36538386   \n",
       "\n",
       "                      Operator Name/Number         Lease Name Well # Dist.  \\\n",
       "0  ROCKCLIFF ENERGY OPERATING LLC (722890)  POPE JEAN HV UNIT     2H    06   \n",
       "\n",
       "   County Wellbore Profile Filing Purpose Amend  Total Depth  \\\n",
       "0  PANOLA       Horizontal      New Drill     Y        12000   \n",
       "\n",
       "   Stacked Lateral Parent Well DP # Current Queue  \n",
       "0                               NaN      APPROVED  "
      ]
     },
     "execution_count": 15,
     "metadata": {},
     "output_type": "execute_result"
    }
   ],
   "source": [
    "permits_2019_2 = pd.read_csv('DrillingPermitResults_2019_2.csv', sep=',')\n",
    "permits_2019_2.head(1)"
   ]
  },
  {
   "cell_type": "code",
   "execution_count": 16,
   "id": "97425a19",
   "metadata": {},
   "outputs": [
    {
     "data": {
      "text/plain": [
       "(7137, 14)"
      ]
     },
     "execution_count": 16,
     "metadata": {},
     "output_type": "execute_result"
    }
   ],
   "source": [
    "permits_2019_2.shape"
   ]
  },
  {
   "cell_type": "code",
   "execution_count": 17,
   "id": "5f234525",
   "metadata": {},
   "outputs": [
    {
     "data": {
      "text/html": [
       "<div>\n",
       "<style scoped>\n",
       "    .dataframe tbody tr th:only-of-type {\n",
       "        vertical-align: middle;\n",
       "    }\n",
       "\n",
       "    .dataframe tbody tr th {\n",
       "        vertical-align: top;\n",
       "    }\n",
       "\n",
       "    .dataframe thead th {\n",
       "        text-align: right;\n",
       "    }\n",
       "</style>\n",
       "<table border=\"1\" class=\"dataframe\">\n",
       "  <thead>\n",
       "    <tr style=\"text-align: right;\">\n",
       "      <th></th>\n",
       "      <th>Status Date</th>\n",
       "      <th>Status #</th>\n",
       "      <th>API NO.</th>\n",
       "      <th>Operator Name/Number</th>\n",
       "      <th>Lease Name</th>\n",
       "      <th>Well #</th>\n",
       "      <th>Dist.</th>\n",
       "      <th>County</th>\n",
       "      <th>Wellbore Profile</th>\n",
       "      <th>Filing Purpose</th>\n",
       "      <th>Amend</th>\n",
       "      <th>Total Depth</th>\n",
       "      <th>Stacked Lateral Parent Well DP #</th>\n",
       "      <th>Current Queue</th>\n",
       "    </tr>\n",
       "  </thead>\n",
       "  <tbody>\n",
       "    <tr>\n",
       "      <th>0</th>\n",
       "      <td>Submitted 10/07/2020 Approved 10/08/2020</td>\n",
       "      <td>865444</td>\n",
       "      <td>13543776</td>\n",
       "      <td>FASKEN OIL AND RANCH, LTD. (263696)</td>\n",
       "      <td>FEE 'BL'</td>\n",
       "      <td>3103</td>\n",
       "      <td>08</td>\n",
       "      <td>ECTOR</td>\n",
       "      <td>Vertical</td>\n",
       "      <td>New Drill</td>\n",
       "      <td>N</td>\n",
       "      <td>15000</td>\n",
       "      <td>NaN</td>\n",
       "      <td>APPROVED</td>\n",
       "    </tr>\n",
       "  </tbody>\n",
       "</table>\n",
       "</div>"
      ],
      "text/plain": [
       "                                Status Date  Status #   API NO.  \\\n",
       "0  Submitted 10/07/2020 Approved 10/08/2020    865444  13543776   \n",
       "\n",
       "                  Operator Name/Number Lease Name Well # Dist. County  \\\n",
       "0  FASKEN OIL AND RANCH, LTD. (263696)   FEE 'BL'   3103    08  ECTOR   \n",
       "\n",
       "  Wellbore Profile Filing Purpose Amend  Total Depth  \\\n",
       "0         Vertical      New Drill     N        15000   \n",
       "\n",
       "   Stacked Lateral Parent Well DP # Current Queue  \n",
       "0                               NaN      APPROVED  "
      ]
     },
     "execution_count": 17,
     "metadata": {},
     "output_type": "execute_result"
    }
   ],
   "source": [
    "permits_2020 = pd.read_csv('DrillingPermitResults_2020.csv',sep=',')\n",
    "permits_2020.head(1)"
   ]
  },
  {
   "cell_type": "code",
   "execution_count": 18,
   "id": "08aa49ad",
   "metadata": {},
   "outputs": [
    {
     "data": {
      "text/plain": [
       "(8635, 14)"
      ]
     },
     "execution_count": 18,
     "metadata": {},
     "output_type": "execute_result"
    }
   ],
   "source": [
    "permits_2020.shape"
   ]
  },
  {
   "cell_type": "code",
   "execution_count": 19,
   "id": "152840fe",
   "metadata": {
    "scrolled": true
   },
   "outputs": [
    {
     "data": {
      "text/html": [
       "<div>\n",
       "<style scoped>\n",
       "    .dataframe tbody tr th:only-of-type {\n",
       "        vertical-align: middle;\n",
       "    }\n",
       "\n",
       "    .dataframe tbody tr th {\n",
       "        vertical-align: top;\n",
       "    }\n",
       "\n",
       "    .dataframe thead th {\n",
       "        text-align: right;\n",
       "    }\n",
       "</style>\n",
       "<table border=\"1\" class=\"dataframe\">\n",
       "  <thead>\n",
       "    <tr style=\"text-align: right;\">\n",
       "      <th></th>\n",
       "      <th>Status Date</th>\n",
       "      <th>Status #</th>\n",
       "      <th>API NO.</th>\n",
       "      <th>Operator Name/Number</th>\n",
       "      <th>Lease Name</th>\n",
       "      <th>Well #</th>\n",
       "      <th>Dist.</th>\n",
       "      <th>County</th>\n",
       "      <th>Wellbore Profile</th>\n",
       "      <th>Filing Purpose</th>\n",
       "      <th>Amend</th>\n",
       "      <th>Total Depth</th>\n",
       "      <th>Stacked Lateral Parent Well DP #</th>\n",
       "      <th>Current Queue</th>\n",
       "    </tr>\n",
       "  </thead>\n",
       "  <tbody>\n",
       "    <tr>\n",
       "      <th>0</th>\n",
       "      <td>Submitted 03/15/2013 Approved 05/21/2021</td>\n",
       "      <td>758774</td>\n",
       "      <td>48333674</td>\n",
       "      <td>APACHE CORPORATION (027200)</td>\n",
       "      <td>STILES 68</td>\n",
       "      <td>3068H</td>\n",
       "      <td>10</td>\n",
       "      <td>WHEELER</td>\n",
       "      <td>Horizontal</td>\n",
       "      <td>New Drill</td>\n",
       "      <td>N</td>\n",
       "      <td>13500</td>\n",
       "      <td>NaN</td>\n",
       "      <td>APPROVED</td>\n",
       "    </tr>\n",
       "  </tbody>\n",
       "</table>\n",
       "</div>"
      ],
      "text/plain": [
       "                                Status Date  Status #   API NO.  \\\n",
       "0  Submitted 03/15/2013 Approved 05/21/2021    758774  48333674   \n",
       "\n",
       "          Operator Name/Number Lease Name  Well # Dist.   County  \\\n",
       "0  APACHE CORPORATION (027200)  STILES 68   3068H    10  WHEELER   \n",
       "\n",
       "  Wellbore Profile Filing Purpose Amend  Total Depth  \\\n",
       "0       Horizontal      New Drill     N        13500   \n",
       "\n",
       "   Stacked Lateral Parent Well DP # Current Queue  \n",
       "0                               NaN      APPROVED  "
      ]
     },
     "execution_count": 19,
     "metadata": {},
     "output_type": "execute_result"
    }
   ],
   "source": [
    "permits_2021_1 = pd.read_csv('DrillingPermitResults_2021_1.csv', sep=',')\n",
    "permits_2021_1.head(1)"
   ]
  },
  {
   "cell_type": "code",
   "execution_count": 21,
   "id": "649bc60f",
   "metadata": {
    "scrolled": true
   },
   "outputs": [
    {
     "data": {
      "text/plain": [
       "(5077, 14)"
      ]
     },
     "execution_count": 21,
     "metadata": {},
     "output_type": "execute_result"
    }
   ],
   "source": [
    "permits_2021_1.shape"
   ]
  },
  {
   "cell_type": "code",
   "execution_count": 22,
   "id": "37199c86",
   "metadata": {
    "scrolled": true
   },
   "outputs": [
    {
     "data": {
      "text/html": [
       "<div>\n",
       "<style scoped>\n",
       "    .dataframe tbody tr th:only-of-type {\n",
       "        vertical-align: middle;\n",
       "    }\n",
       "\n",
       "    .dataframe tbody tr th {\n",
       "        vertical-align: top;\n",
       "    }\n",
       "\n",
       "    .dataframe thead th {\n",
       "        text-align: right;\n",
       "    }\n",
       "</style>\n",
       "<table border=\"1\" class=\"dataframe\">\n",
       "  <thead>\n",
       "    <tr style=\"text-align: right;\">\n",
       "      <th></th>\n",
       "      <th>Status Date</th>\n",
       "      <th>Status #</th>\n",
       "      <th>API NO.</th>\n",
       "      <th>Operator Name/Number</th>\n",
       "      <th>Lease Name</th>\n",
       "      <th>Well #</th>\n",
       "      <th>Dist.</th>\n",
       "      <th>County</th>\n",
       "      <th>Wellbore Profile</th>\n",
       "      <th>Filing Purpose</th>\n",
       "      <th>Amend</th>\n",
       "      <th>Total Depth</th>\n",
       "      <th>Stacked Lateral Parent Well DP #</th>\n",
       "      <th>Current Queue</th>\n",
       "    </tr>\n",
       "  </thead>\n",
       "  <tbody>\n",
       "    <tr>\n",
       "      <th>0</th>\n",
       "      <td>Submitted 10/15/2019 Approved 07/28/2021</td>\n",
       "      <td>858058</td>\n",
       "      <td>49502782</td>\n",
       "      <td>STOUT ENERGY INC. (824192)</td>\n",
       "      <td>HENDRICK, IDA</td>\n",
       "      <td>6</td>\n",
       "      <td>08</td>\n",
       "      <td>WINKLER</td>\n",
       "      <td>Vertical</td>\n",
       "      <td>Reenter</td>\n",
       "      <td>N</td>\n",
       "      <td>3000</td>\n",
       "      <td>NaN</td>\n",
       "      <td>APPROVED</td>\n",
       "    </tr>\n",
       "  </tbody>\n",
       "</table>\n",
       "</div>"
      ],
      "text/plain": [
       "                                Status Date  Status #   API NO.  \\\n",
       "0  Submitted 10/15/2019 Approved 07/28/2021    858058  49502782   \n",
       "\n",
       "         Operator Name/Number     Lease Name Well # Dist.   County  \\\n",
       "0  STOUT ENERGY INC. (824192)  HENDRICK, IDA      6    08  WINKLER   \n",
       "\n",
       "  Wellbore Profile Filing Purpose Amend  Total Depth  \\\n",
       "0         Vertical        Reenter     N         3000   \n",
       "\n",
       "   Stacked Lateral Parent Well DP # Current Queue  \n",
       "0                               NaN      APPROVED  "
      ]
     },
     "execution_count": 22,
     "metadata": {},
     "output_type": "execute_result"
    }
   ],
   "source": [
    "permits_2021_2 = pd.read_csv('DrillingPermitResults_2021_2.csv', sep=',')\n",
    "permits_2021_2.head(1)"
   ]
  },
  {
   "cell_type": "code",
   "execution_count": 23,
   "id": "6c4f077f",
   "metadata": {},
   "outputs": [
    {
     "data": {
      "text/plain": [
       "(5859, 14)"
      ]
     },
     "execution_count": 23,
     "metadata": {},
     "output_type": "execute_result"
    }
   ],
   "source": [
    "permits_2021_2.shape"
   ]
  },
  {
   "cell_type": "code",
   "execution_count": 32,
   "id": "82e8c8ef",
   "metadata": {
    "scrolled": true
   },
   "outputs": [
    {
     "data": {
      "text/html": [
       "<div>\n",
       "<style scoped>\n",
       "    .dataframe tbody tr th:only-of-type {\n",
       "        vertical-align: middle;\n",
       "    }\n",
       "\n",
       "    .dataframe tbody tr th {\n",
       "        vertical-align: top;\n",
       "    }\n",
       "\n",
       "    .dataframe thead th {\n",
       "        text-align: right;\n",
       "    }\n",
       "</style>\n",
       "<table border=\"1\" class=\"dataframe\">\n",
       "  <thead>\n",
       "    <tr style=\"text-align: right;\">\n",
       "      <th></th>\n",
       "      <th>Status Date</th>\n",
       "      <th>Status #</th>\n",
       "      <th>API NO.</th>\n",
       "      <th>Operator Name/Number</th>\n",
       "      <th>Lease Name</th>\n",
       "      <th>Well #</th>\n",
       "      <th>Dist.</th>\n",
       "      <th>County</th>\n",
       "      <th>Wellbore Profile</th>\n",
       "      <th>Filing Purpose</th>\n",
       "      <th>Amend</th>\n",
       "      <th>Total Depth</th>\n",
       "      <th>Stacked Lateral Parent Well DP #</th>\n",
       "      <th>Current Queue</th>\n",
       "    </tr>\n",
       "  </thead>\n",
       "  <tbody>\n",
       "    <tr>\n",
       "      <th>0</th>\n",
       "      <td>Submitted 12/07/2013 Approved 02/09/2016</td>\n",
       "      <td>747692</td>\n",
       "      <td>41739323</td>\n",
       "      <td>VAN OPERATING, LTD. (881442)</td>\n",
       "      <td>SOUTH GREEN '54'</td>\n",
       "      <td>3</td>\n",
       "      <td>7B</td>\n",
       "      <td>SHACKELFORD</td>\n",
       "      <td>Vertical</td>\n",
       "      <td>New Drill</td>\n",
       "      <td>Y</td>\n",
       "      <td>4700</td>\n",
       "      <td>NaN</td>\n",
       "      <td>APPROVED</td>\n",
       "    </tr>\n",
       "    <tr>\n",
       "      <th>1</th>\n",
       "      <td>Submitted 03/03/2014 Approved 04/29/2016</td>\n",
       "      <td>771447</td>\n",
       "      <td>12735812</td>\n",
       "      <td>MURPHY EXPL. &amp; PROD. CO. - USA (594675)</td>\n",
       "      <td>KONE</td>\n",
       "      <td>39H</td>\n",
       "      <td>01</td>\n",
       "      <td>DIMMIT</td>\n",
       "      <td>Horizontal</td>\n",
       "      <td>New Drill</td>\n",
       "      <td>Y</td>\n",
       "      <td>8500</td>\n",
       "      <td>NaN</td>\n",
       "      <td>APPROVED</td>\n",
       "    </tr>\n",
       "    <tr>\n",
       "      <th>2</th>\n",
       "      <td>Submitted 03/03/2014 Approved 04/29/2016</td>\n",
       "      <td>771462</td>\n",
       "      <td>12735813</td>\n",
       "      <td>MURPHY EXPL. &amp; PROD. CO. - USA (594675)</td>\n",
       "      <td>KONE</td>\n",
       "      <td>40H</td>\n",
       "      <td>01</td>\n",
       "      <td>DIMMIT</td>\n",
       "      <td>Horizontal</td>\n",
       "      <td>New Drill</td>\n",
       "      <td>Y</td>\n",
       "      <td>8500</td>\n",
       "      <td>NaN</td>\n",
       "      <td>APPROVED</td>\n",
       "    </tr>\n",
       "    <tr>\n",
       "      <th>3</th>\n",
       "      <td>Submitted 08/13/2014 Approved 08/11/2016</td>\n",
       "      <td>794084</td>\n",
       "      <td>32132378</td>\n",
       "      <td>PONDEROSA OIL &amp; GAS, LLC (670093)</td>\n",
       "      <td>WESTBROOK</td>\n",
       "      <td>1</td>\n",
       "      <td>03</td>\n",
       "      <td>MATAGORDA</td>\n",
       "      <td>Vertical</td>\n",
       "      <td>New Drill</td>\n",
       "      <td>N</td>\n",
       "      <td>11750</td>\n",
       "      <td>NaN</td>\n",
       "      <td>APPROVED</td>\n",
       "    </tr>\n",
       "    <tr>\n",
       "      <th>4</th>\n",
       "      <td>Submitted 09/03/2014 Approved 01/07/2016</td>\n",
       "      <td>795498</td>\n",
       "      <td>44930624</td>\n",
       "      <td>XTO ENERGY INC. (945936)</td>\n",
       "      <td>TALCO EAST UNIT</td>\n",
       "      <td>1209</td>\n",
       "      <td>06</td>\n",
       "      <td>TITUS</td>\n",
       "      <td>Vertical</td>\n",
       "      <td>New Drill</td>\n",
       "      <td>N</td>\n",
       "      <td>5600</td>\n",
       "      <td>NaN</td>\n",
       "      <td>APPROVED</td>\n",
       "    </tr>\n",
       "  </tbody>\n",
       "</table>\n",
       "</div>"
      ],
      "text/plain": [
       "                                Status Date  Status #   API NO.  \\\n",
       "0  Submitted 12/07/2013 Approved 02/09/2016    747692  41739323   \n",
       "1  Submitted 03/03/2014 Approved 04/29/2016    771447  12735812   \n",
       "2  Submitted 03/03/2014 Approved 04/29/2016    771462  12735813   \n",
       "3  Submitted 08/13/2014 Approved 08/11/2016    794084  32132378   \n",
       "4  Submitted 09/03/2014 Approved 01/07/2016    795498  44930624   \n",
       "\n",
       "                      Operator Name/Number        Lease Name Well # Dist.  \\\n",
       "0             VAN OPERATING, LTD. (881442)  SOUTH GREEN '54'      3    7B   \n",
       "1  MURPHY EXPL. & PROD. CO. - USA (594675)              KONE    39H    01   \n",
       "2  MURPHY EXPL. & PROD. CO. - USA (594675)              KONE    40H    01   \n",
       "3        PONDEROSA OIL & GAS, LLC (670093)         WESTBROOK      1    03   \n",
       "4                 XTO ENERGY INC. (945936)   TALCO EAST UNIT   1209    06   \n",
       "\n",
       "        County Wellbore Profile Filing Purpose Amend  Total Depth  \\\n",
       "0  SHACKELFORD         Vertical      New Drill     Y         4700   \n",
       "1       DIMMIT       Horizontal      New Drill     Y         8500   \n",
       "2       DIMMIT       Horizontal      New Drill     Y         8500   \n",
       "3    MATAGORDA         Vertical      New Drill     N        11750   \n",
       "4        TITUS         Vertical      New Drill     N         5600   \n",
       "\n",
       "   Stacked Lateral Parent Well DP # Current Queue  \n",
       "0                               NaN      APPROVED  \n",
       "1                               NaN      APPROVED  \n",
       "2                               NaN      APPROVED  \n",
       "3                               NaN      APPROVED  \n",
       "4                               NaN      APPROVED  "
      ]
     },
     "execution_count": 32,
     "metadata": {},
     "output_type": "execute_result"
    }
   ],
   "source": [
    "permits_test = permits_2016.append(permits_2017_1).append(permits_2017_2)\\\n",
    "                .append(permits_2018_1).append(permits_2018_2).append(permits_2019_1)\\\n",
    "                .append(permits_2019_2).append(permits_2020).append(permits_2021_1)\\\n",
    "                .append(permits_2021_2)\n",
    "permits_test.head()"
   ]
  },
  {
   "cell_type": "code",
   "execution_count": 33,
   "id": "d60d090d",
   "metadata": {},
   "outputs": [
    {
     "data": {
      "text/plain": [
       "(76899, 14)"
      ]
     },
     "execution_count": 33,
     "metadata": {},
     "output_type": "execute_result"
    }
   ],
   "source": [
    "permits_test.shape"
   ]
  },
  {
   "cell_type": "code",
   "execution_count": null,
   "id": "3cc8cf92",
   "metadata": {},
   "outputs": [],
   "source": []
  },
  {
   "cell_type": "code",
   "execution_count": null,
   "id": "792425ca",
   "metadata": {},
   "outputs": [],
   "source": []
  },
  {
   "cell_type": "code",
   "execution_count": null,
   "id": "65414c9e",
   "metadata": {},
   "outputs": [],
   "source": []
  },
  {
   "cell_type": "code",
   "execution_count": null,
   "id": "39ea3335",
   "metadata": {},
   "outputs": [],
   "source": [
    "x = df[\"Status Date\"].str.replace(\"Submitted\", \"\").str.replace(\"Approved\", \"\")\n",
    "x = x.str.split(n=2, expand=True)\n",
    "df[\"submitted\"] = x[0]\n",
    "df[\"approved\"] = x[1]"
   ]
  },
  {
   "cell_type": "code",
   "execution_count": null,
   "id": "5421c2cd",
   "metadata": {},
   "outputs": [],
   "source": [
    "df.head()"
   ]
  },
  {
   "cell_type": "code",
   "execution_count": null,
   "id": "30915bdc",
   "metadata": {},
   "outputs": [],
   "source": [
    "df['Operator Name/Number'].sample(100)"
   ]
  },
  {
   "cell_type": "code",
   "execution_count": null,
   "id": "44d3a928",
   "metadata": {},
   "outputs": [],
   "source": [
    "x = df[\"Operator Name/Number\"].str.replace(\"Submitted\", \"\").str.replace(\"Approved\", \"\")\n",
    "x = x.str.split(n=2, expand=True)\n",
    "df[\"submitted\"] = x[0]\n",
    "df[\"approved\"] = x[1]"
   ]
  },
  {
   "cell_type": "code",
   "execution_count": null,
   "id": "025f9ae9",
   "metadata": {},
   "outputs": [],
   "source": [
    "# ['Status_Date','Status_#','API_NO.','Operator_Name/Number','Lease_Name','Well_#','Dist.','County','Wellbore_Profile','Filing_Purpose','Amend','Total_Depth','Stacked_Lateral_Parent_Well_DP_#','Current_Queue']\n",
    " "
   ]
  },
  {
   "cell_type": "code",
   "execution_count": null,
   "id": "b8ca6728",
   "metadata": {},
   "outputs": [],
   "source": [
    "production_2016 = pd.read_csv('ProductionDataQuery_Lease_ReportCsv_Dist_01.csv', sep = ',')"
   ]
  },
  {
   "cell_type": "code",
   "execution_count": null,
   "id": "1f5b9c7b",
   "metadata": {},
   "outputs": [],
   "source": [
    "production_2016.head()"
   ]
  },
  {
   "cell_type": "code",
   "execution_count": null,
   "id": "6506a037",
   "metadata": {},
   "outputs": [],
   "source": []
  }
 ],
 "metadata": {
  "kernelspec": {
   "display_name": "Python 3",
   "language": "python",
   "name": "python3"
  },
  "language_info": {
   "codemirror_mode": {
    "name": "ipython",
    "version": 3
   },
   "file_extension": ".py",
   "mimetype": "text/x-python",
   "name": "python",
   "nbconvert_exporter": "python",
   "pygments_lexer": "ipython3",
   "version": "3.8.8"
  }
 },
 "nbformat": 4,
 "nbformat_minor": 5
}
