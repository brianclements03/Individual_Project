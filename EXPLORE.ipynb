{
 "cells": [
  {
   "cell_type": "code",
   "execution_count": 1,
   "id": "51e00815",
   "metadata": {},
   "outputs": [],
   "source": [
    "import pandas as pd\n",
    "import numpy as np \n",
    "import matplotlib.pyplot as plt\n",
    "import seaborn as sns\n",
    "import statsmodels.api as sm\n",
    "from sklearn.model_selection import train_test_split\n",
    "from sklearn.preprocessing import MinMaxScaler\n",
    "from sklearn.impute import SimpleImputer\n",
    "import scipy.stats as stats\n",
    "import sklearn.linear_model\n",
    "import sklearn.preprocessing\n",
    "import statsmodels.api as sm\n",
    "# plotting defaults\n",
    "plt.rc('figure', figsize=(13, 7))\n",
    "plt.style.use('seaborn-whitegrid')\n",
    "plt.rc('font', size=16)"
   ]
  },
  {
   "cell_type": "code",
   "execution_count": 2,
   "id": "25d022b5",
   "metadata": {},
   "outputs": [
    {
     "data": {
      "text/plain": [
       "(76892, 17)"
      ]
     },
     "execution_count": 2,
     "metadata": {},
     "output_type": "execute_result"
    }
   ],
   "source": [
    "permits = pd.read_csv('permits.csv')\n",
    "permits.shape"
   ]
  },
  {
   "cell_type": "code",
   "execution_count": 3,
   "id": "11270b90",
   "metadata": {},
   "outputs": [],
   "source": [
    "permits.Permit_approved = pd.to_datetime(permits.Permit_approved)\n",
    "permits.Permit_submitted = pd.to_datetime(permits.Permit_submitted)\n",
    "permits = permits.set_index(permits.Permit_approved).sort_index()"
   ]
  },
  {
   "cell_type": "code",
   "execution_count": 4,
   "id": "4e65713f",
   "metadata": {},
   "outputs": [
    {
     "name": "stdout",
     "output_type": "stream",
     "text": [
      "<class 'pandas.core.frame.DataFrame'>\n",
      "DatetimeIndex: 76892 entries, 2016-01-04 to 2021-12-30\n",
      "Data columns (total 17 columns):\n",
      " #   Column                Non-Null Count  Dtype         \n",
      "---  ------                --------------  -----         \n",
      " 0   Permit_approved       76892 non-null  datetime64[ns]\n",
      " 1   Status_Date           76892 non-null  object        \n",
      " 2   Status                76892 non-null  int64         \n",
      " 3   API_NO.               76892 non-null  int64         \n",
      " 4   Operator_Name_Number  76892 non-null  object        \n",
      " 5   Lease_Name            76892 non-null  object        \n",
      " 6   Well                  76892 non-null  object        \n",
      " 7   District              76892 non-null  object        \n",
      " 8   County                76892 non-null  object        \n",
      " 9   Wellbore_Profile      76892 non-null  object        \n",
      " 10  Filing_Purpose        76892 non-null  object        \n",
      " 11  Amend                 76892 non-null  object        \n",
      " 12  Total_Depth           76892 non-null  int64         \n",
      " 13  Current_Queue         76892 non-null  object        \n",
      " 14  Permit_submitted      76892 non-null  datetime64[ns]\n",
      " 15  Approval_time_days    76892 non-null  int64         \n",
      " 16  SHALE                 76892 non-null  object        \n",
      "dtypes: datetime64[ns](2), int64(4), object(11)\n",
      "memory usage: 10.6+ MB\n"
     ]
    }
   ],
   "source": [
    "permits.info()"
   ]
  },
  {
   "cell_type": "markdown",
   "id": "2461bc0f",
   "metadata": {},
   "source": [
    "- Approval_time is an object, should be datetime or integer/float"
   ]
  },
  {
   "cell_type": "code",
   "execution_count": 5,
   "id": "a09f3883",
   "metadata": {},
   "outputs": [],
   "source": [
    "# permits.Approval_time = pd.to_datetime(permits.Approval_time)\n",
    "# this code won't work bc it's in string format--i resolved by addressing it in the wrangle module"
   ]
  },
  {
   "cell_type": "code",
   "execution_count": 6,
   "id": "5fc0b739",
   "metadata": {},
   "outputs": [
    {
     "data": {
      "text/html": [
       "<div>\n",
       "<style scoped>\n",
       "    .dataframe tbody tr th:only-of-type {\n",
       "        vertical-align: middle;\n",
       "    }\n",
       "\n",
       "    .dataframe tbody tr th {\n",
       "        vertical-align: top;\n",
       "    }\n",
       "\n",
       "    .dataframe thead th {\n",
       "        text-align: right;\n",
       "    }\n",
       "</style>\n",
       "<table border=\"1\" class=\"dataframe\">\n",
       "  <thead>\n",
       "    <tr style=\"text-align: right;\">\n",
       "      <th></th>\n",
       "      <th>Permit_approved</th>\n",
       "      <th>Status_Date</th>\n",
       "      <th>Status</th>\n",
       "      <th>API_NO.</th>\n",
       "      <th>Operator_Name_Number</th>\n",
       "      <th>Lease_Name</th>\n",
       "      <th>Well</th>\n",
       "      <th>District</th>\n",
       "      <th>County</th>\n",
       "      <th>Wellbore_Profile</th>\n",
       "      <th>Filing_Purpose</th>\n",
       "      <th>Amend</th>\n",
       "      <th>Total_Depth</th>\n",
       "      <th>Current_Queue</th>\n",
       "      <th>Permit_submitted</th>\n",
       "      <th>Approval_time_days</th>\n",
       "      <th>SHALE</th>\n",
       "    </tr>\n",
       "    <tr>\n",
       "      <th>Permit_approved</th>\n",
       "      <th></th>\n",
       "      <th></th>\n",
       "      <th></th>\n",
       "      <th></th>\n",
       "      <th></th>\n",
       "      <th></th>\n",
       "      <th></th>\n",
       "      <th></th>\n",
       "      <th></th>\n",
       "      <th></th>\n",
       "      <th></th>\n",
       "      <th></th>\n",
       "      <th></th>\n",
       "      <th></th>\n",
       "      <th></th>\n",
       "      <th></th>\n",
       "      <th></th>\n",
       "    </tr>\n",
       "  </thead>\n",
       "  <tbody>\n",
       "    <tr>\n",
       "      <th>2016-01-04</th>\n",
       "      <td>2016-01-04</td>\n",
       "      <td>Submitted 01/04/2016 Approved 01/04/2016</td>\n",
       "      <td>812976</td>\n",
       "      <td>28531642</td>\n",
       "      <td>CANTERA OPERATING, LLC (129692)</td>\n",
       "      <td>O. A. LAMPLEY GU 1</td>\n",
       "      <td>1</td>\n",
       "      <td>02</td>\n",
       "      <td>LAVACA</td>\n",
       "      <td>Vertical</td>\n",
       "      <td>Recompletion</td>\n",
       "      <td>N</td>\n",
       "      <td>13606</td>\n",
       "      <td>APPROVED</td>\n",
       "      <td>2016-01-04</td>\n",
       "      <td>0</td>\n",
       "      <td>EAGLE FORD</td>\n",
       "    </tr>\n",
       "  </tbody>\n",
       "</table>\n",
       "</div>"
      ],
      "text/plain": [
       "                Permit_approved                               Status_Date  \\\n",
       "Permit_approved                                                             \n",
       "2016-01-04           2016-01-04  Submitted 01/04/2016 Approved 01/04/2016   \n",
       "\n",
       "                 Status   API_NO.             Operator_Name_Number  \\\n",
       "Permit_approved                                                      \n",
       "2016-01-04       812976  28531642  CANTERA OPERATING, LLC (129692)   \n",
       "\n",
       "                         Lease_Name Well District  County Wellbore_Profile  \\\n",
       "Permit_approved                                                              \n",
       "2016-01-04       O. A. LAMPLEY GU 1    1       02  LAVACA         Vertical   \n",
       "\n",
       "                Filing_Purpose Amend  Total_Depth Current_Queue  \\\n",
       "Permit_approved                                                   \n",
       "2016-01-04        Recompletion     N        13606      APPROVED   \n",
       "\n",
       "                Permit_submitted  Approval_time_days       SHALE  \n",
       "Permit_approved                                                   \n",
       "2016-01-04            2016-01-04                   0  EAGLE FORD  "
      ]
     },
     "execution_count": 6,
     "metadata": {},
     "output_type": "execute_result"
    }
   ],
   "source": [
    "permits.head(1)"
   ]
  },
  {
   "cell_type": "code",
   "execution_count": 7,
   "id": "3f0af32f",
   "metadata": {},
   "outputs": [
    {
     "data": {
      "text/html": [
       "<div>\n",
       "<style scoped>\n",
       "    .dataframe tbody tr th:only-of-type {\n",
       "        vertical-align: middle;\n",
       "    }\n",
       "\n",
       "    .dataframe tbody tr th {\n",
       "        vertical-align: top;\n",
       "    }\n",
       "\n",
       "    .dataframe thead th {\n",
       "        text-align: right;\n",
       "    }\n",
       "</style>\n",
       "<table border=\"1\" class=\"dataframe\">\n",
       "  <thead>\n",
       "    <tr style=\"text-align: right;\">\n",
       "      <th></th>\n",
       "      <th>Status</th>\n",
       "      <th>API_NO.</th>\n",
       "      <th>Total_Depth</th>\n",
       "      <th>Approval_time_days</th>\n",
       "    </tr>\n",
       "  </thead>\n",
       "  <tbody>\n",
       "    <tr>\n",
       "      <th>count</th>\n",
       "      <td>76892.000000</td>\n",
       "      <td>7.689200e+04</td>\n",
       "      <td>76892.000000</td>\n",
       "      <td>76892.000000</td>\n",
       "    </tr>\n",
       "    <tr>\n",
       "      <th>mean</th>\n",
       "      <td>842509.209294</td>\n",
       "      <td>2.950391e+07</td>\n",
       "      <td>9954.407780</td>\n",
       "      <td>12.629870</td>\n",
       "    </tr>\n",
       "    <tr>\n",
       "      <th>std</th>\n",
       "      <td>22431.405938</td>\n",
       "      <td>1.289433e+07</td>\n",
       "      <td>3732.362647</td>\n",
       "      <td>33.585786</td>\n",
       "    </tr>\n",
       "    <tr>\n",
       "      <th>min</th>\n",
       "      <td>70969.000000</td>\n",
       "      <td>1.008200e+05</td>\n",
       "      <td>150.000000</td>\n",
       "      <td>0.000000</td>\n",
       "    </tr>\n",
       "    <tr>\n",
       "      <th>25%</th>\n",
       "      <td>827731.750000</td>\n",
       "      <td>2.253134e+07</td>\n",
       "      <td>8000.000000</td>\n",
       "      <td>3.000000</td>\n",
       "    </tr>\n",
       "    <tr>\n",
       "      <th>50%</th>\n",
       "      <td>843171.000000</td>\n",
       "      <td>3.174117e+07</td>\n",
       "      <td>10000.000000</td>\n",
       "      <td>6.000000</td>\n",
       "    </tr>\n",
       "    <tr>\n",
       "      <th>75%</th>\n",
       "      <td>858770.250000</td>\n",
       "      <td>3.893654e+07</td>\n",
       "      <td>12000.000000</td>\n",
       "      <td>13.000000</td>\n",
       "    </tr>\n",
       "    <tr>\n",
       "      <th>max</th>\n",
       "      <td>875615.000000</td>\n",
       "      <td>7.063026e+07</td>\n",
       "      <td>28010.000000</td>\n",
       "      <td>2989.000000</td>\n",
       "    </tr>\n",
       "  </tbody>\n",
       "</table>\n",
       "</div>"
      ],
      "text/plain": [
       "              Status       API_NO.   Total_Depth  Approval_time_days\n",
       "count   76892.000000  7.689200e+04  76892.000000        76892.000000\n",
       "mean   842509.209294  2.950391e+07   9954.407780           12.629870\n",
       "std     22431.405938  1.289433e+07   3732.362647           33.585786\n",
       "min     70969.000000  1.008200e+05    150.000000            0.000000\n",
       "25%    827731.750000  2.253134e+07   8000.000000            3.000000\n",
       "50%    843171.000000  3.174117e+07  10000.000000            6.000000\n",
       "75%    858770.250000  3.893654e+07  12000.000000           13.000000\n",
       "max    875615.000000  7.063026e+07  28010.000000         2989.000000"
      ]
     },
     "execution_count": 7,
     "metadata": {},
     "output_type": "execute_result"
    }
   ],
   "source": [
    "permits.describe()"
   ]
  },
  {
   "cell_type": "code",
   "execution_count": 8,
   "id": "a11ae6e2",
   "metadata": {
    "scrolled": true
   },
   "outputs": [
    {
     "data": {
      "text/plain": [
       "(Timestamp('2016-01-04 00:00:00'),\n",
       " Timestamp('2021-12-30 00:00:00'),\n",
       " Timedelta('2187 days 00:00:00'))"
      ]
     },
     "execution_count": 8,
     "metadata": {},
     "output_type": "execute_result"
    }
   ],
   "source": [
    "permits.index.min(), permits.index.max(), permits.index.max()-permits.index.min()"
   ]
  },
  {
   "cell_type": "markdown",
   "id": "e3cf8b2b",
   "metadata": {},
   "source": [
    "- from the beginning of 2016 to the end of 2021"
   ]
  },
  {
   "cell_type": "code",
   "execution_count": 9,
   "id": "2e17f3c5",
   "metadata": {},
   "outputs": [
    {
     "data": {
      "text/plain": [
       "APPROVED    76892\n",
       "Name: Current_Queue, dtype: int64"
      ]
     },
     "execution_count": 9,
     "metadata": {},
     "output_type": "execute_result"
    }
   ],
   "source": [
    "permits.Current_Queue.value_counts()"
   ]
  },
  {
   "cell_type": "markdown",
   "id": "dd272425",
   "metadata": {},
   "source": [
    "- all rows are in approved status"
   ]
  },
  {
   "cell_type": "code",
   "execution_count": 10,
   "id": "919241b2",
   "metadata": {},
   "outputs": [
    {
     "data": {
      "text/plain": [
       "Permit_approved         0\n",
       "Status_Date             0\n",
       "Status                  0\n",
       "API_NO.                 0\n",
       "Operator_Name_Number    0\n",
       "Lease_Name              0\n",
       "Well                    0\n",
       "District                0\n",
       "County                  0\n",
       "Wellbore_Profile        0\n",
       "Filing_Purpose          0\n",
       "Amend                   0\n",
       "Total_Depth             0\n",
       "Current_Queue           0\n",
       "Permit_submitted        0\n",
       "Approval_time_days      0\n",
       "SHALE                   0\n",
       "dtype: int64"
      ]
     },
     "execution_count": 10,
     "metadata": {},
     "output_type": "execute_result"
    }
   ],
   "source": [
    "permits.isna().sum()"
   ]
  },
  {
   "cell_type": "markdown",
   "id": "8358facf",
   "metadata": {},
   "source": [
    "- drop Stacked_Lateral_Parent_Well_DP, which is almost all na's\n",
    "- drop the very few na's in wellbore and shale\n",
    "#### Done in the wrangle file"
   ]
  },
  {
   "cell_type": "code",
   "execution_count": 11,
   "id": "5c2bcbcd",
   "metadata": {},
   "outputs": [
    {
     "data": {
      "text/plain": [
       "30402"
      ]
     },
     "execution_count": 11,
     "metadata": {},
     "output_type": "execute_result"
    }
   ],
   "source": [
    "permits.Lease_Name.nunique()"
   ]
  },
  {
   "cell_type": "markdown",
   "id": "25292759",
   "metadata": {},
   "source": [
    "- many duplicated lease names, but we are keeping these bc the same lease name can file multiple times for different wells/reasons"
   ]
  },
  {
   "cell_type": "code",
   "execution_count": 18,
   "id": "1d3e2a4d",
   "metadata": {},
   "outputs": [
    {
     "data": {
      "text/plain": [
       "REEVES           6447\n",
       "MIDLAND          6393\n",
       "MARTIN           5401\n",
       "HOWARD           3913\n",
       "LOVING           3902\n",
       "                 ... \n",
       "COLLINGSWORTH       1\n",
       "BRISCOE             1\n",
       "KINNEY              1\n",
       "FLOYD               1\n",
       "BELL                1\n",
       "Name: County, Length: 220, dtype: int64"
      ]
     },
     "execution_count": 18,
     "metadata": {},
     "output_type": "execute_result"
    }
   ],
   "source": [
    "permits.County.value_counts()"
   ]
  },
  {
   "cell_type": "code",
   "execution_count": 12,
   "id": "c36a59d0",
   "metadata": {},
   "outputs": [
    {
     "data": {
      "text/html": [
       "<div>\n",
       "<style scoped>\n",
       "    .dataframe tbody tr th:only-of-type {\n",
       "        vertical-align: middle;\n",
       "    }\n",
       "\n",
       "    .dataframe tbody tr th {\n",
       "        vertical-align: top;\n",
       "    }\n",
       "\n",
       "    .dataframe thead th {\n",
       "        text-align: right;\n",
       "    }\n",
       "</style>\n",
       "<table border=\"1\" class=\"dataframe\">\n",
       "  <thead>\n",
       "    <tr style=\"text-align: right;\">\n",
       "      <th></th>\n",
       "      <th>Permit_approved</th>\n",
       "      <th>Status_Date</th>\n",
       "      <th>Status</th>\n",
       "      <th>API_NO.</th>\n",
       "      <th>Operator_Name_Number</th>\n",
       "      <th>Lease_Name</th>\n",
       "      <th>Well</th>\n",
       "      <th>District</th>\n",
       "      <th>County</th>\n",
       "      <th>Wellbore_Profile</th>\n",
       "      <th>Filing_Purpose</th>\n",
       "      <th>Amend</th>\n",
       "      <th>Total_Depth</th>\n",
       "      <th>Current_Queue</th>\n",
       "      <th>Permit_submitted</th>\n",
       "      <th>Approval_time_days</th>\n",
       "      <th>SHALE</th>\n",
       "    </tr>\n",
       "    <tr>\n",
       "      <th>Permit_approved</th>\n",
       "      <th></th>\n",
       "      <th></th>\n",
       "      <th></th>\n",
       "      <th></th>\n",
       "      <th></th>\n",
       "      <th></th>\n",
       "      <th></th>\n",
       "      <th></th>\n",
       "      <th></th>\n",
       "      <th></th>\n",
       "      <th></th>\n",
       "      <th></th>\n",
       "      <th></th>\n",
       "      <th></th>\n",
       "      <th></th>\n",
       "      <th></th>\n",
       "      <th></th>\n",
       "    </tr>\n",
       "  </thead>\n",
       "  <tbody>\n",
       "    <tr>\n",
       "      <th>2016-01-04</th>\n",
       "      <td>2016-01-04</td>\n",
       "      <td>Submitted 01/04/2016 Approved 01/04/2016</td>\n",
       "      <td>812976</td>\n",
       "      <td>28531642</td>\n",
       "      <td>CANTERA OPERATING, LLC (129692)</td>\n",
       "      <td>O. A. LAMPLEY GU 1</td>\n",
       "      <td>1</td>\n",
       "      <td>02</td>\n",
       "      <td>LAVACA</td>\n",
       "      <td>Vertical</td>\n",
       "      <td>Recompletion</td>\n",
       "      <td>N</td>\n",
       "      <td>13606</td>\n",
       "      <td>APPROVED</td>\n",
       "      <td>2016-01-04</td>\n",
       "      <td>0</td>\n",
       "      <td>EAGLE FORD</td>\n",
       "    </tr>\n",
       "  </tbody>\n",
       "</table>\n",
       "</div>"
      ],
      "text/plain": [
       "                Permit_approved                               Status_Date  \\\n",
       "Permit_approved                                                             \n",
       "2016-01-04           2016-01-04  Submitted 01/04/2016 Approved 01/04/2016   \n",
       "\n",
       "                 Status   API_NO.             Operator_Name_Number  \\\n",
       "Permit_approved                                                      \n",
       "2016-01-04       812976  28531642  CANTERA OPERATING, LLC (129692)   \n",
       "\n",
       "                         Lease_Name Well District  County Wellbore_Profile  \\\n",
       "Permit_approved                                                              \n",
       "2016-01-04       O. A. LAMPLEY GU 1    1       02  LAVACA         Vertical   \n",
       "\n",
       "                Filing_Purpose Amend  Total_Depth Current_Queue  \\\n",
       "Permit_approved                                                   \n",
       "2016-01-04        Recompletion     N        13606      APPROVED   \n",
       "\n",
       "                Permit_submitted  Approval_time_days       SHALE  \n",
       "Permit_approved                                                   \n",
       "2016-01-04            2016-01-04                   0  EAGLE FORD  "
      ]
     },
     "execution_count": 12,
     "metadata": {},
     "output_type": "execute_result"
    }
   ],
   "source": [
    "permits.head(1)"
   ]
  },
  {
   "cell_type": "code",
   "execution_count": 13,
   "id": "9bc4976c",
   "metadata": {},
   "outputs": [
    {
     "data": {
      "text/plain": [
       "array([[<AxesSubplot:title={'center':'Permit_approved'}>,\n",
       "        <AxesSubplot:title={'center':'Status'}>],\n",
       "       [<AxesSubplot:title={'center':'API_NO.'}>,\n",
       "        <AxesSubplot:title={'center':'Total_Depth'}>],\n",
       "       [<AxesSubplot:title={'center':'Permit_submitted'}>,\n",
       "        <AxesSubplot:title={'center':'Approval_time_days'}>]],\n",
       "      dtype=object)"
      ]
     },
     "execution_count": 13,
     "metadata": {},
     "output_type": "execute_result"
    },
    {
     "data": {
      "image/png": "[encoded data removed]",
      "text/plain": [
       "<Figure size 936x504 with 6 Axes>"
      ]
     },
     "metadata": {},
     "output_type": "display_data"
    }
   ],
   "source": [
    "permits.hist()"
   ]
  },
  {
   "cell_type": "markdown",
   "id": "75f8ec24",
   "metadata": {},
   "source": [
    "- well depth is normally distributed\n",
    "- notice a dropoff in permits in 2020--covid related downturn, for sure\n",
    "- some of the permits were submitted as early as 2012\n",
    "- almost all approval times were a matter of a couple of days, with a couple of outliers"
   ]
  },
  {
   "cell_type": "code",
   "execution_count": 15,
   "id": "777037c1",
   "metadata": {},
   "outputs": [
    {
     "data": {
      "text/plain": [
       "<AxesSubplot:>"
      ]
     },
     "execution_count": 15,
     "metadata": {},
     "output_type": "execute_result"
    },
    {
     "data": {
      "image/png": "[encoded data removed]",
      "text/plain": [
       "<Figure size 936x504 with 1 Axes>"
      ]
     },
     "metadata": {},
     "output_type": "display_data"
    }
   ],
   "source": [
    "sns.boxplot(data=permits.Approval_time_days)"
   ]
  },
  {
   "cell_type": "code",
   "execution_count": null,
   "id": "f191c794",
   "metadata": {},
   "outputs": [],
   "source": []
  }
 ],
 "metadata": {
  "kernelspec": {
   "display_name": "Python 3",
   "language": "python",
   "name": "python3"
  },
  "language_info": {
   "codemirror_mode": {
    "name": "ipython",
    "version": 3
   },
   "file_extension": ".py",
   "mimetype": "text/x-python",
   "name": "python",
   "nbconvert_exporter": "python",
   "pygments_lexer": "ipython3",
   "version": "3.8.8"
  }
 },
 "nbformat": 4,
 "nbformat_minor": 5
}
