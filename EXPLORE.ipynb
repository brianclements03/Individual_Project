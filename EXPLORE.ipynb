{
 "cells": [
  {
   "cell_type": "code",
   "execution_count": 1,
   "id": "25337e73",
   "metadata": {},
   "outputs": [],
   "source": [
    "import pandas as pd\n",
    "import numpy as np \n",
    "import matplotlib.pyplot as plt\n",
    "import seaborn as sns\n",
    "import statsmodels.api as sm\n",
    "from sklearn.model_selection import train_test_split\n",
    "from sklearn.preprocessing import MinMaxScaler\n",
    "from sklearn.impute import SimpleImputer\n",
    "import scipy.stats as stats\n",
    "import sklearn.linear_model\n",
    "import sklearn.preprocessing\n",
    "import statsmodels.api as sm\n",
    "# plotting defaults\n",
    "plt.rc('figure', figsize=(13, 7))\n",
    "plt.style.use('seaborn-whitegrid')\n",
    "plt.rc('font', size=16)"
   ]
  },
  {
   "cell_type": "code",
   "execution_count": 2,
   "id": "e03b1c45",
   "metadata": {},
   "outputs": [
    {
     "data": {
      "text/plain": [
       "(76892, 17)"
      ]
     },
     "execution_count": 2,
     "metadata": {},
     "output_type": "execute_result"
    }
   ],
   "source": [
    "permits = pd.read_csv('permits.csv')\n",
    "permits.shape"
   ]
  },
  {
   "cell_type": "code",
   "execution_count": 3,
   "id": "eff78f06",
   "metadata": {},
   "outputs": [],
   "source": [
    "permits.Permit_approved = pd.to_datetime(permits.Permit_approved)\n",
    "permits.Permit_submitted = pd.to_datetime(permits.Permit_submitted)\n",
    "permits = permits.set_index(permits.Permit_approved).sort_index()"
   ]
  },
  {
   "cell_type": "code",
   "execution_count": 4,
   "id": "b9902243",
   "metadata": {},
   "outputs": [
    {
     "name": "stdout",
     "output_type": "stream",
     "text": [
      "<class 'pandas.core.frame.DataFrame'>\n",
      "DatetimeIndex: 76892 entries, 2016-01-04 to 2021-12-30\n",
      "Data columns (total 17 columns):\n",
      " #   Column                Non-Null Count  Dtype         \n",
      "---  ------                --------------  -----         \n",
      " 0   Permit_approved       76892 non-null  datetime64[ns]\n",
      " 1   Status_Date           76892 non-null  object        \n",
      " 2   Status                76892 non-null  int64         \n",
      " 3   API_NO.               76892 non-null  int64         \n",
      " 4   Operator_Name_Number  76892 non-null  object        \n",
      " 5   Lease_Name            76892 non-null  object        \n",
      " 6   Well                  76892 non-null  object        \n",
      " 7   District              76892 non-null  object        \n",
      " 8   County                76892 non-null  object        \n",
      " 9   Wellbore_Profile      76892 non-null  object        \n",
      " 10  Filing_Purpose        76892 non-null  object        \n",
      " 11  Amend                 76892 non-null  object        \n",
      " 12  Total_Depth           76892 non-null  int64         \n",
      " 13  Current_Queue         76892 non-null  object        \n",
      " 14  Permit_submitted      76892 non-null  datetime64[ns]\n",
      " 15  Approval_time_days    76892 non-null  int64         \n",
      " 16  SHALE                 76892 non-null  object        \n",
      "dtypes: datetime64[ns](2), int64(4), object(11)\n",
      "memory usage: 10.6+ MB\n"
     ]
    }
   ],
   "source": [
    "permits.info()"
   ]
  },
  {
   "cell_type": "markdown",
   "id": "528bc6d1",
   "metadata": {},
   "source": [
    "- Approval_time is an object, should be datetime or integer/float"
   ]
  },
  {
   "cell_type": "code",
   "execution_count": 5,
   "id": "547869f8",
   "metadata": {},
   "outputs": [],
   "source": [
    "# permits.Approval_time = pd.to_datetime(permits.Approval_time)\n",
    "# this code won't work bc it's in string format--i resolved by addressing it in the wrangle module"
   ]
  },
  {
   "cell_type": "code",
   "execution_count": 6,
   "id": "2c11f175",
   "metadata": {},
   "outputs": [
    {
     "data": {
      "text/html": [
       "<div>\n",
       "<style scoped>\n",
       "    .dataframe tbody tr th:only-of-type {\n",
       "        vertical-align: middle;\n",
       "    }\n",
       "\n",
       "    .dataframe tbody tr th {\n",
       "        vertical-align: top;\n",
       "    }\n",
       "\n",
       "    .dataframe thead th {\n",
       "        text-align: right;\n",
       "    }\n",
       "</style>\n",
       "<table border=\"1\" class=\"dataframe\">\n",
       "  <thead>\n",
       "    <tr style=\"text-align: right;\">\n",
       "      <th></th>\n",
       "      <th>Permit_approved</th>\n",
       "      <th>Status_Date</th>\n",
       "      <th>Status</th>\n",
       "      <th>API_NO.</th>\n",
       "      <th>Operator_Name_Number</th>\n",
       "      <th>Lease_Name</th>\n",
       "      <th>Well</th>\n",
       "      <th>District</th>\n",
       "      <th>County</th>\n",
       "      <th>Wellbore_Profile</th>\n",
       "      <th>Filing_Purpose</th>\n",
       "      <th>Amend</th>\n",
       "      <th>Total_Depth</th>\n",
       "      <th>Current_Queue</th>\n",
       "      <th>Permit_submitted</th>\n",
       "      <th>Approval_time_days</th>\n",
       "      <th>SHALE</th>\n",
       "    </tr>\n",
       "    <tr>\n",
       "      <th>Permit_approved</th>\n",
       "      <th></th>\n",
       "      <th></th>\n",
       "      <th></th>\n",
       "      <th></th>\n",
       "      <th></th>\n",
       "      <th></th>\n",
       "      <th></th>\n",
       "      <th></th>\n",
       "      <th></th>\n",
       "      <th></th>\n",
       "      <th></th>\n",
       "      <th></th>\n",
       "      <th></th>\n",
       "      <th></th>\n",
       "      <th></th>\n",
       "      <th></th>\n",
       "      <th></th>\n",
       "    </tr>\n",
       "  </thead>\n",
       "  <tbody>\n",
       "    <tr>\n",
       "      <th>2016-01-04</th>\n",
       "      <td>2016-01-04</td>\n",
       "      <td>Submitted 01/04/2016 Approved 01/04/2016</td>\n",
       "      <td>812976</td>\n",
       "      <td>28531642</td>\n",
       "      <td>CANTERA OPERATING, LLC (129692)</td>\n",
       "      <td>O. A. LAMPLEY GU 1</td>\n",
       "      <td>1</td>\n",
       "      <td>02</td>\n",
       "      <td>LAVACA</td>\n",
       "      <td>Vertical</td>\n",
       "      <td>Recompletion</td>\n",
       "      <td>N</td>\n",
       "      <td>13606</td>\n",
       "      <td>APPROVED</td>\n",
       "      <td>2016-01-04</td>\n",
       "      <td>0</td>\n",
       "      <td>EAGLE FORD</td>\n",
       "    </tr>\n",
       "  </tbody>\n",
       "</table>\n",
       "</div>"
      ],
      "text/plain": [
       "                Permit_approved                               Status_Date  \\\n",
       "Permit_approved                                                             \n",
       "2016-01-04           2016-01-04  Submitted 01/04/2016 Approved 01/04/2016   \n",
       "\n",
       "                 Status   API_NO.             Operator_Name_Number  \\\n",
       "Permit_approved                                                      \n",
       "2016-01-04       812976  28531642  CANTERA OPERATING, LLC (129692)   \n",
       "\n",
       "                         Lease_Name Well District  County Wellbore_Profile  \\\n",
       "Permit_approved                                                              \n",
       "2016-01-04       O. A. LAMPLEY GU 1    1       02  LAVACA         Vertical   \n",
       "\n",
       "                Filing_Purpose Amend  Total_Depth Current_Queue  \\\n",
       "Permit_approved                                                   \n",
       "2016-01-04        Recompletion     N        13606      APPROVED   \n",
       "\n",
       "                Permit_submitted  Approval_time_days       SHALE  \n",
       "Permit_approved                                                   \n",
       "2016-01-04            2016-01-04                   0  EAGLE FORD  "
      ]
     },
     "execution_count": 6,
     "metadata": {},
     "output_type": "execute_result"
    }
   ],
   "source": [
    "permits.head(1)"
   ]
  },
  {
   "cell_type": "code",
   "execution_count": 7,
   "id": "e4d9b672",
   "metadata": {},
   "outputs": [
    {
     "data": {
      "text/html": [
       "<div>\n",
       "<style scoped>\n",
       "    .dataframe tbody tr th:only-of-type {\n",
       "        vertical-align: middle;\n",
       "    }\n",
       "\n",
       "    .dataframe tbody tr th {\n",
       "        vertical-align: top;\n",
       "    }\n",
       "\n",
       "    .dataframe thead th {\n",
       "        text-align: right;\n",
       "    }\n",
       "</style>\n",
       "<table border=\"1\" class=\"dataframe\">\n",
       "  <thead>\n",
       "    <tr style=\"text-align: right;\">\n",
       "      <th></th>\n",
       "      <th>Status</th>\n",
       "      <th>API_NO.</th>\n",
       "      <th>Total_Depth</th>\n",
       "      <th>Approval_time_days</th>\n",
       "    </tr>\n",
       "  </thead>\n",
       "  <tbody>\n",
       "    <tr>\n",
       "      <th>count</th>\n",
       "      <td>76892.000000</td>\n",
       "      <td>7.689200e+04</td>\n",
       "      <td>76892.000000</td>\n",
       "      <td>76892.000000</td>\n",
       "    </tr>\n",
       "    <tr>\n",
       "      <th>mean</th>\n",
       "      <td>842509.209294</td>\n",
       "      <td>2.950391e+07</td>\n",
       "      <td>9954.407780</td>\n",
       "      <td>12.629870</td>\n",
       "    </tr>\n",
       "    <tr>\n",
       "      <th>std</th>\n",
       "      <td>22431.405938</td>\n",
       "      <td>1.289433e+07</td>\n",
       "      <td>3732.362647</td>\n",
       "      <td>33.585786</td>\n",
       "    </tr>\n",
       "    <tr>\n",
       "      <th>min</th>\n",
       "      <td>70969.000000</td>\n",
       "      <td>1.008200e+05</td>\n",
       "      <td>150.000000</td>\n",
       "      <td>0.000000</td>\n",
       "    </tr>\n",
       "    <tr>\n",
       "      <th>25%</th>\n",
       "      <td>827731.750000</td>\n",
       "      <td>2.253134e+07</td>\n",
       "      <td>8000.000000</td>\n",
       "      <td>3.000000</td>\n",
       "    </tr>\n",
       "    <tr>\n",
       "      <th>50%</th>\n",
       "      <td>843171.000000</td>\n",
       "      <td>3.174117e+07</td>\n",
       "      <td>10000.000000</td>\n",
       "      <td>6.000000</td>\n",
       "    </tr>\n",
       "    <tr>\n",
       "      <th>75%</th>\n",
       "      <td>858770.250000</td>\n",
       "      <td>3.893654e+07</td>\n",
       "      <td>12000.000000</td>\n",
       "      <td>13.000000</td>\n",
       "    </tr>\n",
       "    <tr>\n",
       "      <th>max</th>\n",
       "      <td>875615.000000</td>\n",
       "      <td>7.063026e+07</td>\n",
       "      <td>28010.000000</td>\n",
       "      <td>2989.000000</td>\n",
       "    </tr>\n",
       "  </tbody>\n",
       "</table>\n",
       "</div>"
      ],
      "text/plain": [
       "              Status       API_NO.   Total_Depth  Approval_time_days\n",
       "count   76892.000000  7.689200e+04  76892.000000        76892.000000\n",
       "mean   842509.209294  2.950391e+07   9954.407780           12.629870\n",
       "std     22431.405938  1.289433e+07   3732.362647           33.585786\n",
       "min     70969.000000  1.008200e+05    150.000000            0.000000\n",
       "25%    827731.750000  2.253134e+07   8000.000000            3.000000\n",
       "50%    843171.000000  3.174117e+07  10000.000000            6.000000\n",
       "75%    858770.250000  3.893654e+07  12000.000000           13.000000\n",
       "max    875615.000000  7.063026e+07  28010.000000         2989.000000"
      ]
     },
     "execution_count": 7,
     "metadata": {},
     "output_type": "execute_result"
    }
   ],
   "source": [
    "permits.describe()"
   ]
  },
  {
   "cell_type": "code",
   "execution_count": 8,
   "id": "475acd67",
   "metadata": {
    "scrolled": true
   },
   "outputs": [
    {
     "data": {
      "text/plain": [
       "(Timestamp('2016-01-04 00:00:00'),\n",
       " Timestamp('2021-12-30 00:00:00'),\n",
       " Timedelta('2187 days 00:00:00'))"
      ]
     },
     "execution_count": 8,
     "metadata": {},
     "output_type": "execute_result"
    }
   ],
   "source": [
    "permits.index.min(), permits.index.max(), permits.index.max()-permits.index.min()"
   ]
  },
  {
   "cell_type": "markdown",
   "id": "c99d25d3",
   "metadata": {},
   "source": [
    "- from the beginning of 2016 to the end of 2021"
   ]
  },
  {
   "cell_type": "code",
   "execution_count": 9,
   "id": "e1b6eb8d",
   "metadata": {},
   "outputs": [
    {
     "data": {
      "text/plain": [
       "APPROVED    76892\n",
       "Name: Current_Queue, dtype: int64"
      ]
     },
     "execution_count": 9,
     "metadata": {},
     "output_type": "execute_result"
    }
   ],
   "source": [
    "permits.Current_Queue.value_counts()"
   ]
  },
  {
   "cell_type": "markdown",
   "id": "78865ed9",
   "metadata": {},
   "source": [
    "- all rows are in approved status"
   ]
  },
  {
   "cell_type": "code",
   "execution_count": 10,
   "id": "aed4c906",
   "metadata": {},
   "outputs": [
    {
     "data": {
      "text/plain": [
       "Permit_approved         0\n",
       "Status_Date             0\n",
       "Status                  0\n",
       "API_NO.                 0\n",
       "Operator_Name_Number    0\n",
       "Lease_Name              0\n",
       "Well                    0\n",
       "District                0\n",
       "County                  0\n",
       "Wellbore_Profile        0\n",
       "Filing_Purpose          0\n",
       "Amend                   0\n",
       "Total_Depth             0\n",
       "Current_Queue           0\n",
       "Permit_submitted        0\n",
       "Approval_time_days      0\n",
       "SHALE                   0\n",
       "dtype: int64"
      ]
     },
     "execution_count": 10,
     "metadata": {},
     "output_type": "execute_result"
    }
   ],
   "source": [
    "permits.isna().sum()"
   ]
  },
  {
   "cell_type": "markdown",
   "id": "c23bd7c8",
   "metadata": {},
   "source": [
    "- drop Stacked_Lateral_Parent_Well_DP, which is almost all na's\n",
    "- drop the very few na's in wellbore and shale\n",
    "#### Done in the wrangle file"
   ]
  },
  {
   "cell_type": "code",
   "execution_count": 11,
   "id": "6f65ffe4",
   "metadata": {},
   "outputs": [
    {
     "data": {
      "text/plain": [
       "30402"
      ]
     },
     "execution_count": 11,
     "metadata": {},
     "output_type": "execute_result"
    }
   ],
   "source": [
    "permits.Lease_Name.nunique()"
   ]
  },
  {
   "cell_type": "markdown",
   "id": "6223c40f",
   "metadata": {},
   "source": [
    "- many duplicated lease names, but we are keeping these bc the same lease name can file multiple times for different wells/reasons"
   ]
  },
  {
   "cell_type": "code",
   "execution_count": 18,
   "id": "adac4c46",
   "metadata": {},
   "outputs": [
    {
     "data": {
      "text/plain": [
       "REEVES           6447\n",
       "MIDLAND          6393\n",
       "MARTIN           5401\n",
       "HOWARD           3913\n",
       "LOVING           3902\n",
       "                 ... \n",
       "COLLINGSWORTH       1\n",
       "BRISCOE             1\n",
       "KINNEY              1\n",
       "FLOYD               1\n",
       "BELL                1\n",
       "Name: County, Length: 220, dtype: int64"
      ]
     },
     "execution_count": 18,
     "metadata": {},
     "output_type": "execute_result"
    }
   ],
   "source": [
    "permits.County.value_counts()"
   ]
  },
  {
   "cell_type": "code",
   "execution_count": 26,
   "id": "5cca983f",
   "metadata": {},
   "outputs": [
    {
     "data": {
      "text/plain": [
       "220"
      ]
     },
     "execution_count": 26,
     "metadata": {},
     "output_type": "execute_result"
    }
   ],
   "source": [
    "len(permits.County.unique())"
   ]
  },
  {
   "cell_type": "markdown",
   "id": "b84bce4c",
   "metadata": {},
   "source": [
    "- there are 220 texas counties represented in this data"
   ]
  },
  {
   "cell_type": "code",
   "execution_count": 12,
   "id": "26d9c64a",
   "metadata": {},
   "outputs": [
    {
     "data": {
      "text/html": [
       "<div>\n",
       "<style scoped>\n",
       "    .dataframe tbody tr th:only-of-type {\n",
       "        vertical-align: middle;\n",
       "    }\n",
       "\n",
       "    .dataframe tbody tr th {\n",
       "        vertical-align: top;\n",
       "    }\n",
       "\n",
       "    .dataframe thead th {\n",
       "        text-align: right;\n",
       "    }\n",
       "</style>\n",
       "<table border=\"1\" class=\"dataframe\">\n",
       "  <thead>\n",
       "    <tr style=\"text-align: right;\">\n",
       "      <th></th>\n",
       "      <th>Permit_approved</th>\n",
       "      <th>Status_Date</th>\n",
       "      <th>Status</th>\n",
       "      <th>API_NO.</th>\n",
       "      <th>Operator_Name_Number</th>\n",
       "      <th>Lease_Name</th>\n",
       "      <th>Well</th>\n",
       "      <th>District</th>\n",
       "      <th>County</th>\n",
       "      <th>Wellbore_Profile</th>\n",
       "      <th>Filing_Purpose</th>\n",
       "      <th>Amend</th>\n",
       "      <th>Total_Depth</th>\n",
       "      <th>Current_Queue</th>\n",
       "      <th>Permit_submitted</th>\n",
       "      <th>Approval_time_days</th>\n",
       "      <th>SHALE</th>\n",
       "    </tr>\n",
       "    <tr>\n",
       "      <th>Permit_approved</th>\n",
       "      <th></th>\n",
       "      <th></th>\n",
       "      <th></th>\n",
       "      <th></th>\n",
       "      <th></th>\n",
       "      <th></th>\n",
       "      <th></th>\n",
       "      <th></th>\n",
       "      <th></th>\n",
       "      <th></th>\n",
       "      <th></th>\n",
       "      <th></th>\n",
       "      <th></th>\n",
       "      <th></th>\n",
       "      <th></th>\n",
       "      <th></th>\n",
       "      <th></th>\n",
       "    </tr>\n",
       "  </thead>\n",
       "  <tbody>\n",
       "    <tr>\n",
       "      <th>2016-01-04</th>\n",
       "      <td>2016-01-04</td>\n",
       "      <td>Submitted 01/04/2016 Approved 01/04/2016</td>\n",
       "      <td>812976</td>\n",
       "      <td>28531642</td>\n",
       "      <td>CANTERA OPERATING, LLC (129692)</td>\n",
       "      <td>O. A. LAMPLEY GU 1</td>\n",
       "      <td>1</td>\n",
       "      <td>02</td>\n",
       "      <td>LAVACA</td>\n",
       "      <td>Vertical</td>\n",
       "      <td>Recompletion</td>\n",
       "      <td>N</td>\n",
       "      <td>13606</td>\n",
       "      <td>APPROVED</td>\n",
       "      <td>2016-01-04</td>\n",
       "      <td>0</td>\n",
       "      <td>EAGLE FORD</td>\n",
       "    </tr>\n",
       "  </tbody>\n",
       "</table>\n",
       "</div>"
      ],
      "text/plain": [
       "                Permit_approved                               Status_Date  \\\n",
       "Permit_approved                                                             \n",
       "2016-01-04           2016-01-04  Submitted 01/04/2016 Approved 01/04/2016   \n",
       "\n",
       "                 Status   API_NO.             Operator_Name_Number  \\\n",
       "Permit_approved                                                      \n",
       "2016-01-04       812976  28531642  CANTERA OPERATING, LLC (129692)   \n",
       "\n",
       "                         Lease_Name Well District  County Wellbore_Profile  \\\n",
       "Permit_approved                                                              \n",
       "2016-01-04       O. A. LAMPLEY GU 1    1       02  LAVACA         Vertical   \n",
       "\n",
       "                Filing_Purpose Amend  Total_Depth Current_Queue  \\\n",
       "Permit_approved                                                   \n",
       "2016-01-04        Recompletion     N        13606      APPROVED   \n",
       "\n",
       "                Permit_submitted  Approval_time_days       SHALE  \n",
       "Permit_approved                                                   \n",
       "2016-01-04            2016-01-04                   0  EAGLE FORD  "
      ]
     },
     "execution_count": 12,
     "metadata": {},
     "output_type": "execute_result"
    }
   ],
   "source": [
    "permits.head(1)"
   ]
  },
  {
   "cell_type": "code",
   "execution_count": 13,
   "id": "dfabd90f",
   "metadata": {},
   "outputs": [
    {
     "data": {
      "text/plain": [
       "array([[<AxesSubplot:title={'center':'Permit_approved'}>,\n",
       "        <AxesSubplot:title={'center':'Status'}>],\n",
       "       [<AxesSubplot:title={'center':'API_NO.'}>,\n",
       "        <AxesSubplot:title={'center':'Total_Depth'}>],\n",
       "       [<AxesSubplot:title={'center':'Permit_submitted'}>,\n",
       "        <AxesSubplot:title={'center':'Approval_time_days'}>]],\n",
       "      dtype=object)"
      ]
     },
     "execution_count": 13,
     "metadata": {},
     "output_type": "execute_result"
    },
    {
     "data": {
      "image/png": "[encoded data removed]",
      "text/plain": [
       "<Figure size 936x504 with 6 Axes>"
      ]
     },
     "metadata": {},
     "output_type": "display_data"
    }
   ],
   "source": [
    "permits.hist()"
   ]
  },
  {
   "cell_type": "markdown",
   "id": "59687574",
   "metadata": {},
   "source": [
    "- well depth is normally distributed\n",
    "- notice a dropoff in permits in 2020--covid related downturn, for sure\n",
    "- some of the permits were submitted as early as 2012\n",
    "- almost all approval times were a matter of a couple of days, with a couple of outliers\n",
    "- not familiar with the meaning of the status or api number, would be good to investigate"
   ]
  },
  {
   "cell_type": "code",
   "execution_count": 15,
   "id": "4227bf5e",
   "metadata": {},
   "outputs": [
    {
     "data": {
      "text/plain": [
       "<AxesSubplot:>"
      ]
     },
     "execution_count": 15,
     "metadata": {},
     "output_type": "execute_result"
    },
    {
     "data": {
      "image/png": "[encoded data removed]",
      "text/plain": [
       "<Figure size 936x504 with 1 Axes>"
      ]
     },
     "metadata": {},
     "output_type": "display_data"
    }
   ],
   "source": [
    "sns.boxplot(data=permits.Approval_time_days)"
   ]
  },
  {
   "cell_type": "code",
   "execution_count": 27,
   "id": "6428f397",
   "metadata": {},
   "outputs": [],
   "source": [
    "def remove_outliers(df, k, col_list):\n",
    "    ''' \n",
    "    \n",
    "    Here, we remove outliers from a list of columns in a dataframe and return that dataframe\n",
    "    \n",
    "    '''\n",
    "    \n",
    "    for col in col_list:\n",
    "\n",
    "        q1, q3 = df[col].quantile([.25, .75])  # get quartiles\n",
    "        \n",
    "        iqr = q3 - q1   # calculate interquartile range\n",
    "        \n",
    "        upper_bound = q3 + k * iqr   # get upper bound\n",
    "        lower_bound = q1 - k * iqr   # get lower bound\n",
    "\n",
    "        # return dataframe without outliers\n",
    "        \n",
    "        df = df[(df[col] > lower_bound) & (df[col] < upper_bound)]\n",
    "        \n",
    "    return df"
   ]
  },
  {
   "cell_type": "code",
   "execution_count": 29,
   "id": "8cb1fe96",
   "metadata": {},
   "outputs": [
    {
     "data": {
      "text/plain": [
       "array([[<AxesSubplot:title={'center':'Permit_approved'}>,\n",
       "        <AxesSubplot:title={'center':'Status'}>],\n",
       "       [<AxesSubplot:title={'center':'API_NO.'}>,\n",
       "        <AxesSubplot:title={'center':'Total_Depth'}>],\n",
       "       [<AxesSubplot:title={'center':'Permit_submitted'}>,\n",
       "        <AxesSubplot:title={'center':'Approval_time_days'}>]],\n",
       "      dtype=object)"
      ]
     },
     "execution_count": 29,
     "metadata": {},
     "output_type": "execute_result"
    },
    {
     "data": {
      "image/png": "[encoded data removed]",
      "text/plain": [
       "<Figure size 936x504 with 6 Axes>"
      ]
     },
     "metadata": {},
     "output_type": "display_data"
    }
   ],
   "source": [
    "permits = remove_outliers(permits, 1.5, ['Approval_time_days'])\n",
    "permits.hist()"
   ]
  },
  {
   "cell_type": "markdown",
   "id": "ba640100",
   "metadata": {},
   "source": [
    "- the remove outliers feature, which i will implement in the wrangle_module, takes care of those extreme approval times, and hence the early permit submissions"
   ]
  },
  {
   "cell_type": "code",
   "execution_count": 30,
   "id": "4a00e0d3",
   "metadata": {},
   "outputs": [
    {
     "data": {
      "text/plain": [
       "<AxesSubplot:xlabel='Permit_approved'>"
      ]
     },
     "execution_count": 30,
     "metadata": {},
     "output_type": "execute_result"
    },
    {
     "data": {
      "image/png": "[encoded data removed]",
      "text/plain": [
       "<Figure size 936x504 with 1 Axes>"
      ]
     },
     "metadata": {},
     "output_type": "display_data"
    }
   ],
   "source": [
    "y = permits.Approval_time_days\n",
    "y.plot()"
   ]
  },
  {
   "cell_type": "markdown",
   "id": "8aac8f95",
   "metadata": {},
   "source": [
    "## Splitting the data here for further explo\n",
    "- for the time being, i will not pursue the time series analysis perspective and will do a typical split, pending further exploration"
   ]
  },
  {
   "cell_type": "code",
   "execution_count": 31,
   "id": "86bbc55e",
   "metadata": {},
   "outputs": [],
   "source": [
    "def split_permits(df):\n",
    "    '''\n",
    "    Takes in the permits dataframe and returns train, validate, test subset dataframes\n",
    "    '''\n",
    "    # SPLIT\n",
    "    # Test set is .2 of original dataframe\n",
    "    train, test = train_test_split(df, test_size = .2, random_state=123)\n",
    "    # The remainder is here divided .7 to train and .3 to validate\n",
    "    train, validate = train_test_split(train, test_size=.3, random_state=123)\n",
    "\n",
    "    # return train, validate, test\n",
    "\n",
    "    X_train = train.drop(columns=['Approval_time_days'])\n",
    "    y_train = pd.DataFrame(train.Approval_time_days, columns=['Approval_time_days'])\n",
    "\n",
    "    X_validate = validate.drop(columns=['Approval_time_days'])\n",
    "    y_validate = pd.DataFrame(validate.Approval_time_days, columns=['Approval_time_days'])\n",
    "\n",
    "    X_test = test.drop(columns=['Approval_time_days'])\n",
    "    y_test = pd.DataFrame(test.Approval_time_days, columns=['Approval_time_days'])\n",
    "\n",
    "    return train, validate, test, X_train, y_train, X_validate, y_validate, X_test, y_test"
   ]
  },
  {
   "cell_type": "code",
   "execution_count": 32,
   "id": "9053656b",
   "metadata": {},
   "outputs": [],
   "source": [
    "train, validate, test, X_train, y_train, X_validate, y_validate, X_test, y_test = \\\n",
    "split_permits(permits)"
   ]
  },
  {
   "cell_type": "code",
   "execution_count": 35,
   "id": "b87fa300",
   "metadata": {},
   "outputs": [
    {
     "data": {
      "text/plain": [
       "((37718, 17),\n",
       " (16166, 17),\n",
       " (13471, 17),\n",
       " (37718, 16),\n",
       " (37718, 1),\n",
       " (16166, 16),\n",
       " (16166, 1),\n",
       " (13471, 16),\n",
       " (13471, 1))"
      ]
     },
     "execution_count": 35,
     "metadata": {},
     "output_type": "execute_result"
    }
   ],
   "source": [
    "train.shape, \\\n",
    "validate.shape, \\\n",
    "test.shape, \\\n",
    "X_train.shape, \\\n",
    "y_train.shape, \\\n",
    "X_validate.shape, \\\n",
    "y_validate.shape, \\\n",
    "X_test.shape, \\\n",
    "y_test.shape"
   ]
  },
  {
   "cell_type": "code",
   "execution_count": 36,
   "id": "eabce8eb",
   "metadata": {},
   "outputs": [
    {
     "name": "stdout",
     "output_type": "stream",
     "text": [
      "<class 'pandas.core.frame.DataFrame'>\n",
      "DatetimeIndex: 37718 entries, 2018-11-07 to 2017-11-03\n",
      "Data columns (total 17 columns):\n",
      " #   Column                Non-Null Count  Dtype         \n",
      "---  ------                --------------  -----         \n",
      " 0   Permit_approved       37718 non-null  datetime64[ns]\n",
      " 1   Status_Date           37718 non-null  object        \n",
      " 2   Status                37718 non-null  int64         \n",
      " 3   API_NO.               37718 non-null  int64         \n",
      " 4   Operator_Name_Number  37718 non-null  object        \n",
      " 5   Lease_Name            37718 non-null  object        \n",
      " 6   Well                  37718 non-null  object        \n",
      " 7   District              37718 non-null  object        \n",
      " 8   County                37718 non-null  object        \n",
      " 9   Wellbore_Profile      37718 non-null  object        \n",
      " 10  Filing_Purpose        37718 non-null  object        \n",
      " 11  Amend                 37718 non-null  object        \n",
      " 12  Total_Depth           37718 non-null  int64         \n",
      " 13  Current_Queue         37718 non-null  object        \n",
      " 14  Permit_submitted      37718 non-null  datetime64[ns]\n",
      " 15  Approval_time_days    37718 non-null  int64         \n",
      " 16  SHALE                 37718 non-null  object        \n",
      "dtypes: datetime64[ns](2), int64(4), object(11)\n",
      "memory usage: 5.2+ MB\n"
     ]
    }
   ],
   "source": [
    "train.info()"
   ]
  },
  {
   "cell_type": "code",
   "execution_count": 37,
   "id": "df070e46",
   "metadata": {},
   "outputs": [
    {
     "data": {
      "text/plain": [
       "Horizontal                                   25671\n",
       "Vertical                                     10562\n",
       "Directional                                   1110\n",
       "Vertical, Horizontal                           102\n",
       "Horizontal, Vertical                            92\n",
       "Vertical Sidetrack                              56\n",
       "Directional Sidetrack                           47\n",
       "Horizontal Sidetrack                            44\n",
       "Directional, Vertical                           16\n",
       "Vertical, Directional                           13\n",
       "Horizontal, Directional                          2\n",
       "Directional Sidetrack, Vertical Sidetrack        2\n",
       "Directional, Horizontal                          1\n",
       "Name: Wellbore_Profile, dtype: int64"
      ]
     },
     "execution_count": 37,
     "metadata": {},
     "output_type": "execute_result"
    }
   ],
   "source": [
    "train.Wellbore_Profile.value_counts()"
   ]
  },
  {
   "cell_type": "code",
   "execution_count": null,
   "id": "8bc00ada",
   "metadata": {},
   "outputs": [],
   "source": []
  }
 ],
 "metadata": {
  "kernelspec": {
   "display_name": "Python 3",
   "language": "python",
   "name": "python3"
  },
  "language_info": {
   "codemirror_mode": {
    "name": "ipython",
    "version": 3
   },
   "file_extension": ".py",
   "mimetype": "text/x-python",
   "name": "python",
   "nbconvert_exporter": "python",
   "pygments_lexer": "ipython3",
   "version": "3.8.8"
  }
 },
 "nbformat": 4,
 "nbformat_minor": 5
}
