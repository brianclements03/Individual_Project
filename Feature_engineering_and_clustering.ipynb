{
 "cells": [
  {
   "cell_type": "code",
   "execution_count": 1,
   "id": "3058d261",
   "metadata": {},
   "outputs": [],
   "source": [
    "# the imports required for this notebook\n",
    "import pandas as pd\n",
    "import numpy as np \n",
    "import matplotlib.pyplot as plt\n",
    "import seaborn as sns\n",
    "import statsmodels.api as sm\n",
    "from sklearn.model_selection import train_test_split\n",
    "from sklearn.preprocessing import MinMaxScaler\n",
    "from sklearn.impute import SimpleImputer\n",
    "import scipy.stats as stats\n",
    "import sklearn.linear_model\n",
    "import sklearn.preprocessing\n",
    "import statsmodels.api as sm\n",
    "from sklearn.feature_selection import SelectKBest, f_regression\n",
    "from sklearn.linear_model import LinearRegression, LassoLars, TweedieRegressor\n",
    "from sklearn.preprocessing import PolynomialFeatures\n",
    "from sklearn.metrics import mean_squared_error\n",
    "# plotting defaults\n",
    "plt.rc('figure', figsize=(13, 7))\n",
    "plt.style.use('seaborn-whitegrid')\n",
    "plt.rc('font', size=16)\n",
    "\n",
    "import wrangle_module\n",
    "import model\n",
    "import viz\n",
    "import hypothesis_testing"
   ]
  },
  {
   "cell_type": "code",
   "execution_count": 2,
   "id": "88625ecc",
   "metadata": {},
   "outputs": [],
   "source": [
    "# Wrangling function that creates all dfs, splits, encoding and scaling \n",
    "# in one fell swoop.  \n",
    "permits, copy, train, validate, test, explore, X_train, y_train, X_validate, y_validate, \\\n",
    "X_test, y_test, train_scaled, X_train_scaled, validate_scaled, X_validate_scaled, \\\n",
    "test_scaled, X_test_scaled \\\n",
    "= wrangle_module.wrangle_df()"
   ]
  },
  {
   "cell_type": "code",
   "execution_count": 3,
   "id": "363e2fa2",
   "metadata": {},
   "outputs": [],
   "source": [
    "# # Create dataframes for modeling purposes from the model module. Just dropping all \n",
    "# # columns except the scaled depth and the encoded districts and shales\n",
    "# X_train_model, X_validate_model, X_test_model = \\\n",
    "# model.create_data_for_models(X_train_scaled, X_validate_scaled, X_test_scaled)"
   ]
  },
  {
   "cell_type": "code",
   "execution_count": 4,
   "id": "bf47d9e1",
   "metadata": {},
   "outputs": [
    {
     "ename": "SyntaxError",
     "evalue": "invalid syntax (<ipython-input-4-99b69554bf19>, line 2)",
     "output_type": "error",
     "traceback": [
      "\u001b[0;36m  File \u001b[0;32m\"<ipython-input-4-99b69554bf19>\"\u001b[0;36m, line \u001b[0;32m2\u001b[0m\n\u001b[0;31m    X_test_kbest, X_train_rfe, X_validate_rfe, X_test_rfe =\u001b[0m\n\u001b[0m                                                            ^\u001b[0m\n\u001b[0;31mSyntaxError\u001b[0m\u001b[0;31m:\u001b[0m invalid syntax\n"
     ]
    }
   ],
   "source": [
    "X_train_model, X_validate_model, X_test_model, X_train_kbest, X_validate_kbest, \\\n",
    "X_test_kbest, X_train_rfe, X_validate_rfe, X_test_rfe = \\\n",
    "model.create_data_for_models(X_train_scaled, X_validate_scaled, X_test_scaled)"
   ]
  },
  {
   "cell_type": "code",
   "execution_count": null,
   "id": "9fefa857",
   "metadata": {},
   "outputs": [],
   "source": [
    "# def select_kbest(X,y,k):\n",
    "#     '''\n",
    "#     Function that returns top k features of a model using k best model,\n",
    "#     accepting X columns, y columns, and k number of top features.\n",
    "    \n",
    "#     '''\n",
    "#     # K Best model here:\n",
    "\n",
    "#     from sklearn.feature_selection import SelectKBest, f_regression\n",
    "\n",
    "#     # parameters: f_regression stats test, give me 8 features\n",
    "#     f_selector = SelectKBest(f_regression, k=k)\n",
    "\n",
    "#     # find the top 8 X's correlated with y\n",
    "#     f_selector.fit(X, y)\n",
    "\n",
    "#     X_reduced = f_selector.transform(X)\n",
    "\n",
    "#     # boolean mask of whether the column was selected or not. \n",
    "#     feature_mask = f_selector.get_support()\n",
    "\n",
    "#     # get list of top K features. \n",
    "#     f_feature = X.loc[:,feature_mask].columns.tolist()\n",
    "\n",
    "#     return f_feature"
   ]
  },
  {
   "cell_type": "code",
   "execution_count": null,
   "id": "5fbdb958",
   "metadata": {},
   "outputs": [],
   "source": [
    "model.select_kbest(X_train_model, y_train, 4)"
   ]
  },
  {
   "cell_type": "code",
   "execution_count": null,
   "id": "0013d7b2",
   "metadata": {},
   "outputs": [],
   "source": [
    "X_train_model.columns"
   ]
  },
  {
   "cell_type": "code",
   "execution_count": null,
   "id": "7f91f669",
   "metadata": {},
   "outputs": [],
   "source": [
    "# X_train_kbest = X_train_model.drop(columns = ['SHALE_BARNETT', 'SHALE_HAYNESVILLE', 'SHALE_NONE', 'District_02', 'District_03',\n",
    "#        'District_04', 'District_05', 'District_06',\n",
    "#        'District_09', 'District_10', 'District_7B', 'District_7C',\n",
    "#        'District_8A', 'Depth_scaled'])\n",
    "# X_validate_kbest = X_validate_model.drop(columns = ['SHALE_BARNETT', 'SHALE_HAYNESVILLE', 'SHALE_NONE', 'District_02', 'District_03',\n",
    "#        'District_04', 'District_05', 'District_06',\n",
    "#        'District_09', 'District_10', 'District_7B', 'District_7C',\n",
    "#        'District_8A', 'Depth_scaled'])\n",
    "# X_test_kbest = X_test_model.drop(columns = ['SHALE_BARNETT', 'SHALE_HAYNESVILLE', 'SHALE_NONE', 'District_02', 'District_03',\n",
    "#        'District_04', 'District_05', 'District_06',\n",
    "#        'District_09', 'District_10', 'District_7B', 'District_7C',\n",
    "#        'District_8A', 'Depth_scaled'])\n"
   ]
  },
  {
   "cell_type": "code",
   "execution_count": null,
   "id": "d856f789",
   "metadata": {},
   "outputs": [],
   "source": [
    "# def select_rfe(X,y,k):\n",
    "#     '''\n",
    "#     Function that returns top k features of a model using rfe model,\n",
    "#     accepting X columns, y columns, and k number of top features.\n",
    "    \n",
    "#     '''\n",
    "#     from sklearn.linear_model import LinearRegression\n",
    "#     from sklearn.feature_selection import RFE\n",
    "\n",
    "#     # initialize the ML algorithm\n",
    "#     lm = LinearRegression()\n",
    "\n",
    "#     # create the rfe object, indicating the ML object (lm) and the number of features I want to end up with. \n",
    "#     rfe = RFE(lm, k)\n",
    "\n",
    "#     # fit the data using RFE\n",
    "#     rfe.fit(X,y)  \n",
    "\n",
    "#     # get the mask of the columns selected\n",
    "#     feature_mask = rfe.support_\n",
    "\n",
    "#     # get list of the column names. \n",
    "#     rfe_feature = X.iloc[:,feature_mask].columns.tolist()\n",
    "#     return rfe_feature"
   ]
  },
  {
   "cell_type": "code",
   "execution_count": null,
   "id": "eff2f0b6",
   "metadata": {},
   "outputs": [],
   "source": []
  },
  {
   "cell_type": "code",
   "execution_count": null,
   "id": "65822034",
   "metadata": {},
   "outputs": [],
   "source": [
    "model.select_rfe(X_train_model, y_train, 4)"
   ]
  },
  {
   "cell_type": "code",
   "execution_count": null,
   "id": "05b5795c",
   "metadata": {},
   "outputs": [],
   "source": [
    "X_train_model.columns"
   ]
  },
  {
   "cell_type": "code",
   "execution_count": null,
   "id": "4ebdd62f",
   "metadata": {},
   "outputs": [],
   "source": [
    "# X_train_rfe = X_train_model.drop(columns = ['SHALE_BARNETT', 'SHALE_EAGLE FORD', 'SHALE_HAYNESVILLE', 'SHALE_NONE',\n",
    "#        'SHALE_PERMIAN BASIN', 'District_03',\n",
    "#        'District_04', 'District_08',\n",
    "#        'District_09', 'District_10', 'District_7B', 'District_7C',\n",
    "#        'District_8A', 'Depth_scaled'])\n",
    "# X_validate_rfe = X_validate_model.drop(columns = ['SHALE_BARNETT', 'SHALE_EAGLE FORD', 'SHALE_HAYNESVILLE', 'SHALE_NONE',\n",
    "#        'SHALE_PERMIAN BASIN', 'District_03',\n",
    "#        'District_04', 'District_08',\n",
    "#        'District_09', 'District_10', 'District_7B', 'District_7C',\n",
    "#        'District_8A', 'Depth_scaled'])\n",
    "# X_test_rfe = X_test_model.drop(columns = ['SHALE_BARNETT', 'SHALE_EAGLE FORD', 'SHALE_HAYNESVILLE', 'SHALE_NONE',\n",
    "#        'SHALE_PERMIAN BASIN', 'District_03',\n",
    "#        'District_04', 'District_08',\n",
    "#        'District_09', 'District_10', 'District_7B', 'District_7C',\n",
    "#        'District_8A', 'Depth_scaled'])\n"
   ]
  },
  {
   "cell_type": "code",
   "execution_count": null,
   "id": "3cab4636",
   "metadata": {},
   "outputs": [],
   "source": [
    "# add baseline prediction to all y_ dataframes using function in my model file\n",
    "y_train,y_validate,y_test = model.add_pred_mean(y_train,y_validate,y_test)"
   ]
  },
  {
   "cell_type": "code",
   "execution_count": null,
   "id": "871ef33e",
   "metadata": {},
   "outputs": [],
   "source": [
    "# using a function to print the rmse of the model on train and validate, using baseline\n",
    "rmse_train, rmse_validate = model.get_rmse_in_sample(y_train,y_validate)"
   ]
  },
  {
   "cell_type": "code",
   "execution_count": null,
   "id": "9af47860",
   "metadata": {},
   "outputs": [],
   "source": [
    "metric_df = model.create_eval_df(rmse_train, rmse_validate)\n",
    "metric_df"
   ]
  },
  {
   "cell_type": "code",
   "execution_count": null,
   "id": "ad91e147",
   "metadata": {},
   "outputs": [],
   "source": [
    "# assigning and displaying the evaluation df for the various models i've run\n",
    "# in my model module\n",
    "metric_df = model.run_all_models(X_train_model, y_train, X_validate_model, y_validate, X_test_model, metric_df)\n",
    "metric_df"
   ]
  },
  {
   "cell_type": "code",
   "execution_count": null,
   "id": "a163db85",
   "metadata": {},
   "outputs": [],
   "source": [
    "metric_df = model.run_all_models(X_train_kbest, y_train, X_validate_kbest, y_validate, X_test_kbest, metric_df)\n",
    "metric_df"
   ]
  },
  {
   "cell_type": "code",
   "execution_count": null,
   "id": "900f023b",
   "metadata": {},
   "outputs": [],
   "source": [
    "metric_df = model.run_all_models(X_train_rfe, y_train, X_validate_rfe, y_validate, X_test_rfe, metric_df)\n",
    "metric_df"
   ]
  },
  {
   "cell_type": "code",
   "execution_count": null,
   "id": "e89048da",
   "metadata": {},
   "outputs": [],
   "source": []
  },
  {
   "cell_type": "code",
   "execution_count": null,
   "id": "0894fd6d",
   "metadata": {},
   "outputs": [],
   "source": []
  },
  {
   "cell_type": "code",
   "execution_count": null,
   "id": "3bf41bcf",
   "metadata": {},
   "outputs": [],
   "source": []
  },
  {
   "cell_type": "code",
   "execution_count": null,
   "id": "929734ab",
   "metadata": {},
   "outputs": [],
   "source": []
  }
 ],
 "metadata": {
  "kernelspec": {
   "display_name": "Python 3",
   "language": "python",
   "name": "python3"
  },
  "language_info": {
   "codemirror_mode": {
    "name": "ipython",
    "version": 3
   },
   "file_extension": ".py",
   "mimetype": "text/x-python",
   "name": "python",
   "nbconvert_exporter": "python",
   "pygments_lexer": "ipython3",
   "version": "3.8.8"
  }
 },
 "nbformat": 4,
 "nbformat_minor": 5
}
