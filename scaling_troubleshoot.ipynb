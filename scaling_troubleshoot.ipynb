{
 "cells": [
  {
   "cell_type": "code",
   "execution_count": 1,
   "id": "1c8db8a6",
   "metadata": {},
   "outputs": [],
   "source": [
    "import pandas as pd\n",
    "import numpy as np\n",
    "import wrangle_module"
   ]
  },
  {
   "cell_type": "code",
   "execution_count": 2,
   "id": "7086c80f",
   "metadata": {},
   "outputs": [],
   "source": [
    "permits = wrangle_module.acquire_permits()"
   ]
  },
  {
   "cell_type": "code",
   "execution_count": 3,
   "id": "89fc4624",
   "metadata": {},
   "outputs": [
    {
     "data": {
      "text/plain": [
       "(76899, 14)"
      ]
     },
     "execution_count": 3,
     "metadata": {},
     "output_type": "execute_result"
    }
   ],
   "source": [
    "permits.shape"
   ]
  },
  {
   "cell_type": "code",
   "execution_count": 4,
   "id": "489b8f86",
   "metadata": {},
   "outputs": [
    {
     "data": {
      "text/html": [
       "<div>\n",
       "<style scoped>\n",
       "    .dataframe tbody tr th:only-of-type {\n",
       "        vertical-align: middle;\n",
       "    }\n",
       "\n",
       "    .dataframe tbody tr th {\n",
       "        vertical-align: top;\n",
       "    }\n",
       "\n",
       "    .dataframe thead th {\n",
       "        text-align: right;\n",
       "    }\n",
       "</style>\n",
       "<table border=\"1\" class=\"dataframe\">\n",
       "  <thead>\n",
       "    <tr style=\"text-align: right;\">\n",
       "      <th></th>\n",
       "      <th>Status Date</th>\n",
       "      <th>Status #</th>\n",
       "      <th>API NO.</th>\n",
       "      <th>Operator Name/Number</th>\n",
       "      <th>Lease Name</th>\n",
       "      <th>Well #</th>\n",
       "      <th>Dist.</th>\n",
       "      <th>County</th>\n",
       "      <th>Wellbore Profile</th>\n",
       "      <th>Filing Purpose</th>\n",
       "      <th>Amend</th>\n",
       "      <th>Total Depth</th>\n",
       "      <th>Stacked Lateral Parent Well DP #</th>\n",
       "      <th>Current Queue</th>\n",
       "    </tr>\n",
       "  </thead>\n",
       "  <tbody>\n",
       "    <tr>\n",
       "      <th>0</th>\n",
       "      <td>Submitted 12/07/2013 Approved 02/09/2016</td>\n",
       "      <td>747692</td>\n",
       "      <td>41739323</td>\n",
       "      <td>VAN OPERATING, LTD. (881442)</td>\n",
       "      <td>SOUTH GREEN '54'</td>\n",
       "      <td>3</td>\n",
       "      <td>7B</td>\n",
       "      <td>SHACKELFORD</td>\n",
       "      <td>Vertical</td>\n",
       "      <td>New Drill</td>\n",
       "      <td>Y</td>\n",
       "      <td>4700</td>\n",
       "      <td>NaN</td>\n",
       "      <td>APPROVED</td>\n",
       "    </tr>\n",
       "  </tbody>\n",
       "</table>\n",
       "</div>"
      ],
      "text/plain": [
       "                                Status Date  Status #   API NO.  \\\n",
       "0  Submitted 12/07/2013 Approved 02/09/2016    747692  41739323   \n",
       "\n",
       "           Operator Name/Number        Lease Name Well # Dist.       County  \\\n",
       "0  VAN OPERATING, LTD. (881442)  SOUTH GREEN '54'      3    7B  SHACKELFORD   \n",
       "\n",
       "  Wellbore Profile Filing Purpose Amend  Total Depth  \\\n",
       "0         Vertical      New Drill     Y         4700   \n",
       "\n",
       "   Stacked Lateral Parent Well DP # Current Queue  \n",
       "0                               NaN      APPROVED  "
      ]
     },
     "execution_count": 4,
     "metadata": {},
     "output_type": "execute_result"
    }
   ],
   "source": [
    "permits.head(1)"
   ]
  },
  {
   "cell_type": "code",
   "execution_count": 5,
   "id": "afdeb085",
   "metadata": {},
   "outputs": [
    {
     "data": {
      "text/plain": [
       "(67355, 17)"
      ]
     },
     "execution_count": 5,
     "metadata": {},
     "output_type": "execute_result"
    }
   ],
   "source": [
    "permits = wrangle_module.prep_permits(permits)\n",
    "permits.shape"
   ]
  },
  {
   "cell_type": "code",
   "execution_count": 6,
   "id": "9d3f6e34",
   "metadata": {},
   "outputs": [
    {
     "data": {
      "text/html": [
       "<div>\n",
       "<style scoped>\n",
       "    .dataframe tbody tr th:only-of-type {\n",
       "        vertical-align: middle;\n",
       "    }\n",
       "\n",
       "    .dataframe tbody tr th {\n",
       "        vertical-align: top;\n",
       "    }\n",
       "\n",
       "    .dataframe thead th {\n",
       "        text-align: right;\n",
       "    }\n",
       "</style>\n",
       "<table border=\"1\" class=\"dataframe\">\n",
       "  <thead>\n",
       "    <tr style=\"text-align: right;\">\n",
       "      <th></th>\n",
       "      <th>Status_Date</th>\n",
       "      <th>Status</th>\n",
       "      <th>API_NO.</th>\n",
       "      <th>Operator_Name_Number</th>\n",
       "      <th>Lease_Name</th>\n",
       "      <th>Well</th>\n",
       "      <th>District</th>\n",
       "      <th>County</th>\n",
       "      <th>Wellbore_Profile</th>\n",
       "      <th>Filing_Purpose</th>\n",
       "      <th>Amend</th>\n",
       "      <th>Total_Depth</th>\n",
       "      <th>Current_Queue</th>\n",
       "      <th>Permit_submitted</th>\n",
       "      <th>Approval_time_days</th>\n",
       "      <th>SHALE</th>\n",
       "      <th>Depth_bin</th>\n",
       "    </tr>\n",
       "    <tr>\n",
       "      <th>Permit_approved</th>\n",
       "      <th></th>\n",
       "      <th></th>\n",
       "      <th></th>\n",
       "      <th></th>\n",
       "      <th></th>\n",
       "      <th></th>\n",
       "      <th></th>\n",
       "      <th></th>\n",
       "      <th></th>\n",
       "      <th></th>\n",
       "      <th></th>\n",
       "      <th></th>\n",
       "      <th></th>\n",
       "      <th></th>\n",
       "      <th></th>\n",
       "      <th></th>\n",
       "      <th></th>\n",
       "    </tr>\n",
       "  </thead>\n",
       "  <tbody>\n",
       "    <tr>\n",
       "      <th>2016-01-04</th>\n",
       "      <td>Submitted 01/04/2016 Approved 01/04/2016</td>\n",
       "      <td>812976</td>\n",
       "      <td>28531642</td>\n",
       "      <td>CANTERA OPERATING, LLC (129692)</td>\n",
       "      <td>O. A. LAMPLEY GU 1</td>\n",
       "      <td>1</td>\n",
       "      <td>02</td>\n",
       "      <td>LAVACA</td>\n",
       "      <td>Vertical</td>\n",
       "      <td>Recompletion</td>\n",
       "      <td>N</td>\n",
       "      <td>13606</td>\n",
       "      <td>APPROVED</td>\n",
       "      <td>2016-01-04</td>\n",
       "      <td>0</td>\n",
       "      <td>EAGLE FORD</td>\n",
       "      <td>Deep</td>\n",
       "    </tr>\n",
       "  </tbody>\n",
       "</table>\n",
       "</div>"
      ],
      "text/plain": [
       "                                              Status_Date  Status   API_NO.  \\\n",
       "Permit_approved                                                               \n",
       "2016-01-04       Submitted 01/04/2016 Approved 01/04/2016  812976  28531642   \n",
       "\n",
       "                            Operator_Name_Number          Lease_Name Well  \\\n",
       "Permit_approved                                                             \n",
       "2016-01-04       CANTERA OPERATING, LLC (129692)  O. A. LAMPLEY GU 1    1   \n",
       "\n",
       "                District  County Wellbore_Profile Filing_Purpose Amend  \\\n",
       "Permit_approved                                                          \n",
       "2016-01-04            02  LAVACA         Vertical   Recompletion     N   \n",
       "\n",
       "                 Total_Depth Current_Queue Permit_submitted  \\\n",
       "Permit_approved                                               \n",
       "2016-01-04             13606      APPROVED       2016-01-04   \n",
       "\n",
       "                 Approval_time_days       SHALE Depth_bin  \n",
       "Permit_approved                                            \n",
       "2016-01-04                        0  EAGLE FORD      Deep  "
      ]
     },
     "execution_count": 6,
     "metadata": {},
     "output_type": "execute_result"
    }
   ],
   "source": [
    "permits.head(1)"
   ]
  },
  {
   "cell_type": "code",
   "execution_count": 7,
   "id": "d7a6d85c",
   "metadata": {},
   "outputs": [
    {
     "data": {
      "text/plain": [
       "(67355, 22)"
      ]
     },
     "execution_count": 7,
     "metadata": {},
     "output_type": "execute_result"
    }
   ],
   "source": [
    "permits = wrangle_module.encode_permits(permits)\n",
    "permits.shape"
   ]
  },
  {
   "cell_type": "code",
   "execution_count": 8,
   "id": "7622547c",
   "metadata": {},
   "outputs": [
    {
     "data": {
      "text/html": [
       "<div>\n",
       "<style scoped>\n",
       "    .dataframe tbody tr th:only-of-type {\n",
       "        vertical-align: middle;\n",
       "    }\n",
       "\n",
       "    .dataframe tbody tr th {\n",
       "        vertical-align: top;\n",
       "    }\n",
       "\n",
       "    .dataframe thead th {\n",
       "        text-align: right;\n",
       "    }\n",
       "</style>\n",
       "<table border=\"1\" class=\"dataframe\">\n",
       "  <thead>\n",
       "    <tr style=\"text-align: right;\">\n",
       "      <th></th>\n",
       "      <th>Status_Date</th>\n",
       "      <th>Status</th>\n",
       "      <th>API_NO.</th>\n",
       "      <th>Operator_Name_Number</th>\n",
       "      <th>Lease_Name</th>\n",
       "      <th>Well</th>\n",
       "      <th>District</th>\n",
       "      <th>County</th>\n",
       "      <th>Wellbore_Profile</th>\n",
       "      <th>Filing_Purpose</th>\n",
       "      <th>...</th>\n",
       "      <th>Current_Queue</th>\n",
       "      <th>Permit_submitted</th>\n",
       "      <th>Approval_time_days</th>\n",
       "      <th>SHALE</th>\n",
       "      <th>Depth_bin</th>\n",
       "      <th>BARNETT</th>\n",
       "      <th>EAGLE FORD</th>\n",
       "      <th>HAYNESVILLE</th>\n",
       "      <th>NONE</th>\n",
       "      <th>PERMIAN BASIN</th>\n",
       "    </tr>\n",
       "    <tr>\n",
       "      <th>Permit_approved</th>\n",
       "      <th></th>\n",
       "      <th></th>\n",
       "      <th></th>\n",
       "      <th></th>\n",
       "      <th></th>\n",
       "      <th></th>\n",
       "      <th></th>\n",
       "      <th></th>\n",
       "      <th></th>\n",
       "      <th></th>\n",
       "      <th></th>\n",
       "      <th></th>\n",
       "      <th></th>\n",
       "      <th></th>\n",
       "      <th></th>\n",
       "      <th></th>\n",
       "      <th></th>\n",
       "      <th></th>\n",
       "      <th></th>\n",
       "      <th></th>\n",
       "      <th></th>\n",
       "    </tr>\n",
       "  </thead>\n",
       "  <tbody>\n",
       "    <tr>\n",
       "      <th>2016-01-04</th>\n",
       "      <td>Submitted 01/04/2016 Approved 01/04/2016</td>\n",
       "      <td>812976</td>\n",
       "      <td>28531642</td>\n",
       "      <td>CANTERA OPERATING, LLC (129692)</td>\n",
       "      <td>O. A. LAMPLEY GU 1</td>\n",
       "      <td>1</td>\n",
       "      <td>02</td>\n",
       "      <td>LAVACA</td>\n",
       "      <td>Vertical</td>\n",
       "      <td>Recompletion</td>\n",
       "      <td>...</td>\n",
       "      <td>APPROVED</td>\n",
       "      <td>2016-01-04</td>\n",
       "      <td>0</td>\n",
       "      <td>EAGLE FORD</td>\n",
       "      <td>Deep</td>\n",
       "      <td>0</td>\n",
       "      <td>1</td>\n",
       "      <td>0</td>\n",
       "      <td>0</td>\n",
       "      <td>0</td>\n",
       "    </tr>\n",
       "  </tbody>\n",
       "</table>\n",
       "<p>1 rows × 22 columns</p>\n",
       "</div>"
      ],
      "text/plain": [
       "                                              Status_Date  Status   API_NO.  \\\n",
       "Permit_approved                                                               \n",
       "2016-01-04       Submitted 01/04/2016 Approved 01/04/2016  812976  28531642   \n",
       "\n",
       "                            Operator_Name_Number          Lease_Name Well  \\\n",
       "Permit_approved                                                             \n",
       "2016-01-04       CANTERA OPERATING, LLC (129692)  O. A. LAMPLEY GU 1    1   \n",
       "\n",
       "                District  County Wellbore_Profile Filing_Purpose  ...  \\\n",
       "Permit_approved                                                   ...   \n",
       "2016-01-04            02  LAVACA         Vertical   Recompletion  ...   \n",
       "\n",
       "                Current_Queue  Permit_submitted Approval_time_days  \\\n",
       "Permit_approved                                                      \n",
       "2016-01-04           APPROVED        2016-01-04                  0   \n",
       "\n",
       "                      SHALE  Depth_bin BARNETT EAGLE FORD  HAYNESVILLE  NONE  \\\n",
       "Permit_approved                                                                \n",
       "2016-01-04       EAGLE FORD       Deep       0          1            0     0   \n",
       "\n",
       "                 PERMIAN BASIN  \n",
       "Permit_approved                 \n",
       "2016-01-04                   0  \n",
       "\n",
       "[1 rows x 22 columns]"
      ]
     },
     "execution_count": 8,
     "metadata": {},
     "output_type": "execute_result"
    }
   ],
   "source": [
    "permits.head(1)"
   ]
  },
  {
   "cell_type": "code",
   "execution_count": 9,
   "id": "8dfc0292",
   "metadata": {},
   "outputs": [],
   "source": [
    "train, validate, test, X_train, y_train, X_validate, y_validate, X_test, y_test = \\\n",
    "wrangle_module.split_permits(permits)"
   ]
  },
  {
   "cell_type": "code",
   "execution_count": 10,
   "id": "1ee207da",
   "metadata": {},
   "outputs": [
    {
     "data": {
      "text/plain": [
       "((37718, 22),)"
      ]
     },
     "execution_count": 10,
     "metadata": {},
     "output_type": "execute_result"
    }
   ],
   "source": [
    "train.shape, "
   ]
  },
  {
   "cell_type": "code",
   "execution_count": 11,
   "id": "c6b3f223",
   "metadata": {},
   "outputs": [
    {
     "data": {
      "text/html": [
       "<div>\n",
       "<style scoped>\n",
       "    .dataframe tbody tr th:only-of-type {\n",
       "        vertical-align: middle;\n",
       "    }\n",
       "\n",
       "    .dataframe tbody tr th {\n",
       "        vertical-align: top;\n",
       "    }\n",
       "\n",
       "    .dataframe thead th {\n",
       "        text-align: right;\n",
       "    }\n",
       "</style>\n",
       "<table border=\"1\" class=\"dataframe\">\n",
       "  <thead>\n",
       "    <tr style=\"text-align: right;\">\n",
       "      <th></th>\n",
       "      <th>Status_Date</th>\n",
       "      <th>Status</th>\n",
       "      <th>API_NO.</th>\n",
       "      <th>Operator_Name_Number</th>\n",
       "      <th>Lease_Name</th>\n",
       "      <th>Well</th>\n",
       "      <th>District</th>\n",
       "      <th>County</th>\n",
       "      <th>Wellbore_Profile</th>\n",
       "      <th>Filing_Purpose</th>\n",
       "      <th>...</th>\n",
       "      <th>Current_Queue</th>\n",
       "      <th>Permit_submitted</th>\n",
       "      <th>Approval_time_days</th>\n",
       "      <th>SHALE</th>\n",
       "      <th>Depth_bin</th>\n",
       "      <th>BARNETT</th>\n",
       "      <th>EAGLE FORD</th>\n",
       "      <th>HAYNESVILLE</th>\n",
       "      <th>NONE</th>\n",
       "      <th>PERMIAN BASIN</th>\n",
       "    </tr>\n",
       "    <tr>\n",
       "      <th>Permit_approved</th>\n",
       "      <th></th>\n",
       "      <th></th>\n",
       "      <th></th>\n",
       "      <th></th>\n",
       "      <th></th>\n",
       "      <th></th>\n",
       "      <th></th>\n",
       "      <th></th>\n",
       "      <th></th>\n",
       "      <th></th>\n",
       "      <th></th>\n",
       "      <th></th>\n",
       "      <th></th>\n",
       "      <th></th>\n",
       "      <th></th>\n",
       "      <th></th>\n",
       "      <th></th>\n",
       "      <th></th>\n",
       "      <th></th>\n",
       "      <th></th>\n",
       "      <th></th>\n",
       "    </tr>\n",
       "  </thead>\n",
       "  <tbody>\n",
       "    <tr>\n",
       "      <th>2018-11-07</th>\n",
       "      <td>Submitted 11/07/2018 Approved 11/07/2018</td>\n",
       "      <td>846586</td>\n",
       "      <td>38937764</td>\n",
       "      <td>NOBLE ENERGY INC (611665)</td>\n",
       "      <td>WILD BILL HICKOK 205-206 UNIT B</td>\n",
       "      <td>9H</td>\n",
       "      <td>08</td>\n",
       "      <td>REEVES</td>\n",
       "      <td>Horizontal</td>\n",
       "      <td>New Drill</td>\n",
       "      <td>...</td>\n",
       "      <td>APPROVED</td>\n",
       "      <td>2018-11-07</td>\n",
       "      <td>0</td>\n",
       "      <td>PERMIAN BASIN</td>\n",
       "      <td>Deep</td>\n",
       "      <td>0</td>\n",
       "      <td>0</td>\n",
       "      <td>0</td>\n",
       "      <td>0</td>\n",
       "      <td>1</td>\n",
       "    </tr>\n",
       "  </tbody>\n",
       "</table>\n",
       "<p>1 rows × 22 columns</p>\n",
       "</div>"
      ],
      "text/plain": [
       "                                              Status_Date  Status   API_NO.  \\\n",
       "Permit_approved                                                               \n",
       "2018-11-07       Submitted 11/07/2018 Approved 11/07/2018  846586  38937764   \n",
       "\n",
       "                      Operator_Name_Number                       Lease_Name  \\\n",
       "Permit_approved                                                               \n",
       "2018-11-07       NOBLE ENERGY INC (611665)  WILD BILL HICKOK 205-206 UNIT B   \n",
       "\n",
       "                Well District  County Wellbore_Profile Filing_Purpose  ...  \\\n",
       "Permit_approved                                                        ...   \n",
       "2018-11-07        9H       08  REEVES       Horizontal      New Drill  ...   \n",
       "\n",
       "                Current_Queue  Permit_submitted Approval_time_days  \\\n",
       "Permit_approved                                                      \n",
       "2018-11-07           APPROVED        2018-11-07                  0   \n",
       "\n",
       "                         SHALE  Depth_bin BARNETT EAGLE FORD  HAYNESVILLE  \\\n",
       "Permit_approved                                                             \n",
       "2018-11-07       PERMIAN BASIN       Deep       0          0            0   \n",
       "\n",
       "                 NONE  PERMIAN BASIN  \n",
       "Permit_approved                       \n",
       "2018-11-07          0              1  \n",
       "\n",
       "[1 rows x 22 columns]"
      ]
     },
     "execution_count": 11,
     "metadata": {},
     "output_type": "execute_result"
    }
   ],
   "source": [
    "train.head(1)"
   ]
  },
  {
   "cell_type": "code",
   "execution_count": 12,
   "id": "d7b90f70",
   "metadata": {},
   "outputs": [
    {
     "data": {
      "text/plain": [
       "((16166, 22),)"
      ]
     },
     "execution_count": 12,
     "metadata": {},
     "output_type": "execute_result"
    }
   ],
   "source": [
    "validate.shape, "
   ]
  },
  {
   "cell_type": "code",
   "execution_count": 13,
   "id": "4820fcf2",
   "metadata": {},
   "outputs": [
    {
     "data": {
      "text/plain": [
       "((13471, 22),)"
      ]
     },
     "execution_count": 13,
     "metadata": {},
     "output_type": "execute_result"
    }
   ],
   "source": [
    "test.shape, "
   ]
  },
  {
   "cell_type": "code",
   "execution_count": 14,
   "id": "c3a6d423",
   "metadata": {},
   "outputs": [
    {
     "data": {
      "text/plain": [
       "((37718, 21),)"
      ]
     },
     "execution_count": 14,
     "metadata": {},
     "output_type": "execute_result"
    }
   ],
   "source": [
    "X_train.shape, "
   ]
  },
  {
   "cell_type": "code",
   "execution_count": 15,
   "id": "bda6fd6a",
   "metadata": {},
   "outputs": [
    {
     "data": {
      "text/plain": [
       "((37718, 1),)"
      ]
     },
     "execution_count": 15,
     "metadata": {},
     "output_type": "execute_result"
    }
   ],
   "source": [
    "y_train.shape, "
   ]
  },
  {
   "cell_type": "code",
   "execution_count": 16,
   "id": "4b23f470",
   "metadata": {},
   "outputs": [
    {
     "data": {
      "text/html": [
       "<div>\n",
       "<style scoped>\n",
       "    .dataframe tbody tr th:only-of-type {\n",
       "        vertical-align: middle;\n",
       "    }\n",
       "\n",
       "    .dataframe tbody tr th {\n",
       "        vertical-align: top;\n",
       "    }\n",
       "\n",
       "    .dataframe thead th {\n",
       "        text-align: right;\n",
       "    }\n",
       "</style>\n",
       "<table border=\"1\" class=\"dataframe\">\n",
       "  <thead>\n",
       "    <tr style=\"text-align: right;\">\n",
       "      <th></th>\n",
       "      <th>Approval_time_days</th>\n",
       "    </tr>\n",
       "    <tr>\n",
       "      <th>Permit_approved</th>\n",
       "      <th></th>\n",
       "    </tr>\n",
       "  </thead>\n",
       "  <tbody>\n",
       "    <tr>\n",
       "      <th>2018-11-07</th>\n",
       "      <td>0</td>\n",
       "    </tr>\n",
       "  </tbody>\n",
       "</table>\n",
       "</div>"
      ],
      "text/plain": [
       "                 Approval_time_days\n",
       "Permit_approved                    \n",
       "2018-11-07                        0"
      ]
     },
     "execution_count": 16,
     "metadata": {},
     "output_type": "execute_result"
    }
   ],
   "source": [
    "y_train.head(1)"
   ]
  },
  {
   "cell_type": "code",
   "execution_count": 17,
   "id": "f4d96804",
   "metadata": {},
   "outputs": [
    {
     "data": {
      "text/plain": [
       "((16166, 21),)"
      ]
     },
     "execution_count": 17,
     "metadata": {},
     "output_type": "execute_result"
    }
   ],
   "source": [
    "X_validate.shape, "
   ]
  },
  {
   "cell_type": "code",
   "execution_count": 18,
   "id": "877aab58",
   "metadata": {},
   "outputs": [
    {
     "data": {
      "text/plain": [
       "((16166, 1),)"
      ]
     },
     "execution_count": 18,
     "metadata": {},
     "output_type": "execute_result"
    }
   ],
   "source": [
    "y_validate.shape, "
   ]
  },
  {
   "cell_type": "code",
   "execution_count": 19,
   "id": "b80d3f7a",
   "metadata": {},
   "outputs": [
    {
     "data": {
      "text/plain": [
       "((13471, 21),)"
      ]
     },
     "execution_count": 19,
     "metadata": {},
     "output_type": "execute_result"
    }
   ],
   "source": [
    "X_test.shape, "
   ]
  },
  {
   "cell_type": "code",
   "execution_count": 20,
   "id": "87801bfd",
   "metadata": {},
   "outputs": [
    {
     "data": {
      "text/plain": [
       "(13471, 1)"
      ]
     },
     "execution_count": 20,
     "metadata": {},
     "output_type": "execute_result"
    }
   ],
   "source": [
    "y_test.shape"
   ]
  },
  {
   "cell_type": "code",
   "execution_count": 21,
   "id": "149b63bb",
   "metadata": {},
   "outputs": [
    {
     "name": "stderr",
     "output_type": "stream",
     "text": [
      "/Users/brianclements/codeup-data-science/Individual_Project/wrangle_module.py:145: SettingWithCopyWarning: \n",
      "A value is trying to be set on a copy of a slice from a DataFrame.\n",
      "Try using .loc[row_indexer,col_indexer] = value instead\n",
      "\n",
      "See the caveats in the documentation: https://pandas.pydata.org/pandas-docs/stable/user_guide/indexing.html#returning-a-view-versus-a-copy\n",
      "  test['Depth_scaled'] = scaler.transform(test[['Total_Depth']])\n"
     ]
    }
   ],
   "source": [
    "train_scaled, X_train_scaled, y_train_scaled, validate_scaled, X_validate_scaled, y_validate_scaled, test_scaled, X_test_scaled, y_test_scaled = wrangle_module.scale_permits(train,validate,test)\n"
   ]
  },
  {
   "cell_type": "code",
   "execution_count": 22,
   "id": "90eb7d30",
   "metadata": {},
   "outputs": [
    {
     "data": {
      "text/plain": [
       "((37718, 22),)"
      ]
     },
     "execution_count": 22,
     "metadata": {},
     "output_type": "execute_result"
    }
   ],
   "source": [
    "train_scaled.shape, "
   ]
  },
  {
   "cell_type": "code",
   "execution_count": 35,
   "id": "c5697158",
   "metadata": {},
   "outputs": [
    {
     "data": {
      "text/html": [
       "<div>\n",
       "<style scoped>\n",
       "    .dataframe tbody tr th:only-of-type {\n",
       "        vertical-align: middle;\n",
       "    }\n",
       "\n",
       "    .dataframe tbody tr th {\n",
       "        vertical-align: top;\n",
       "    }\n",
       "\n",
       "    .dataframe thead th {\n",
       "        text-align: right;\n",
       "    }\n",
       "</style>\n",
       "<table border=\"1\" class=\"dataframe\">\n",
       "  <thead>\n",
       "    <tr style=\"text-align: right;\">\n",
       "      <th></th>\n",
       "      <th>Status_Date</th>\n",
       "      <th>Status</th>\n",
       "      <th>API_NO.</th>\n",
       "      <th>Operator_Name_Number</th>\n",
       "      <th>Lease_Name</th>\n",
       "      <th>Well</th>\n",
       "      <th>District</th>\n",
       "      <th>County</th>\n",
       "      <th>Wellbore_Profile</th>\n",
       "      <th>Filing_Purpose</th>\n",
       "      <th>...</th>\n",
       "      <th>Permit_submitted</th>\n",
       "      <th>Approval_time_days</th>\n",
       "      <th>SHALE</th>\n",
       "      <th>Depth_bin</th>\n",
       "      <th>BARNETT</th>\n",
       "      <th>EAGLE FORD</th>\n",
       "      <th>HAYNESVILLE</th>\n",
       "      <th>NONE</th>\n",
       "      <th>PERMIAN BASIN</th>\n",
       "      <th>Depth_scaled</th>\n",
       "    </tr>\n",
       "    <tr>\n",
       "      <th>Permit_approved</th>\n",
       "      <th></th>\n",
       "      <th></th>\n",
       "      <th></th>\n",
       "      <th></th>\n",
       "      <th></th>\n",
       "      <th></th>\n",
       "      <th></th>\n",
       "      <th></th>\n",
       "      <th></th>\n",
       "      <th></th>\n",
       "      <th></th>\n",
       "      <th></th>\n",
       "      <th></th>\n",
       "      <th></th>\n",
       "      <th></th>\n",
       "      <th></th>\n",
       "      <th></th>\n",
       "      <th></th>\n",
       "      <th></th>\n",
       "      <th></th>\n",
       "      <th></th>\n",
       "    </tr>\n",
       "  </thead>\n",
       "  <tbody>\n",
       "    <tr>\n",
       "      <th>2018-11-07</th>\n",
       "      <td>Submitted 11/07/2018 Approved 11/07/2018</td>\n",
       "      <td>846586</td>\n",
       "      <td>38937764</td>\n",
       "      <td>NOBLE ENERGY INC (611665)</td>\n",
       "      <td>WILD BILL HICKOK 205-206 UNIT B</td>\n",
       "      <td>9H</td>\n",
       "      <td>08</td>\n",
       "      <td>REEVES</td>\n",
       "      <td>Horizontal</td>\n",
       "      <td>New Drill</td>\n",
       "      <td>...</td>\n",
       "      <td>2018-11-07</td>\n",
       "      <td>0</td>\n",
       "      <td>PERMIAN BASIN</td>\n",
       "      <td>Deep</td>\n",
       "      <td>0</td>\n",
       "      <td>0</td>\n",
       "      <td>0</td>\n",
       "      <td>0</td>\n",
       "      <td>1</td>\n",
       "      <td>0.461235</td>\n",
       "    </tr>\n",
       "    <tr>\n",
       "      <th>2016-07-11</th>\n",
       "      <td>Submitted 07/08/2016 Approved 07/11/2016</td>\n",
       "      <td>816883</td>\n",
       "      <td>46140376</td>\n",
       "      <td>APACHE CORPORATION (027200)</td>\n",
       "      <td>CONNELL 48 WEST</td>\n",
       "      <td>2HM</td>\n",
       "      <td>7C</td>\n",
       "      <td>UPTON</td>\n",
       "      <td>Horizontal</td>\n",
       "      <td>New Drill</td>\n",
       "      <td>...</td>\n",
       "      <td>2016-07-08</td>\n",
       "      <td>3</td>\n",
       "      <td>PERMIAN BASIN</td>\n",
       "      <td>Mid_depth</td>\n",
       "      <td>0</td>\n",
       "      <td>0</td>\n",
       "      <td>0</td>\n",
       "      <td>0</td>\n",
       "      <td>1</td>\n",
       "      <td>0.360732</td>\n",
       "    </tr>\n",
       "    <tr>\n",
       "      <th>2016-11-10</th>\n",
       "      <td>Submitted 11/02/2016 Approved 11/10/2016</td>\n",
       "      <td>819999</td>\n",
       "      <td>16334012</td>\n",
       "      <td>CABOT OIL &amp; GAS CORPORATION (121700)</td>\n",
       "      <td>THOMPSON RANCH</td>\n",
       "      <td>11H</td>\n",
       "      <td>01</td>\n",
       "      <td>FRIO</td>\n",
       "      <td>Horizontal</td>\n",
       "      <td>New Drill</td>\n",
       "      <td>...</td>\n",
       "      <td>2016-11-02</td>\n",
       "      <td>8</td>\n",
       "      <td>EAGLE FORD</td>\n",
       "      <td>Shallow</td>\n",
       "      <td>0</td>\n",
       "      <td>1</td>\n",
       "      <td>0</td>\n",
       "      <td>0</td>\n",
       "      <td>0</td>\n",
       "      <td>0.292534</td>\n",
       "    </tr>\n",
       "    <tr>\n",
       "      <th>2019-09-26</th>\n",
       "      <td>Submitted 09/24/2019 Approved 09/26/2019</td>\n",
       "      <td>857379</td>\n",
       "      <td>25536606</td>\n",
       "      <td>BPX OPERATING COMPANY (085408)</td>\n",
       "      <td>LONESOME DOVE A</td>\n",
       "      <td>8H</td>\n",
       "      <td>02</td>\n",
       "      <td>KARNES</td>\n",
       "      <td>Horizontal</td>\n",
       "      <td>New Drill</td>\n",
       "      <td>...</td>\n",
       "      <td>2019-09-24</td>\n",
       "      <td>2</td>\n",
       "      <td>EAGLE FORD</td>\n",
       "      <td>Deep</td>\n",
       "      <td>0</td>\n",
       "      <td>1</td>\n",
       "      <td>0</td>\n",
       "      <td>0</td>\n",
       "      <td>0</td>\n",
       "      <td>0.420818</td>\n",
       "    </tr>\n",
       "    <tr>\n",
       "      <th>2016-09-26</th>\n",
       "      <td>Submitted 09/13/2016 Approved 09/26/2016</td>\n",
       "      <td>818425</td>\n",
       "      <td>17333081</td>\n",
       "      <td>VERITAS ENERGY, LLC (884589)</td>\n",
       "      <td>BRYANS 26</td>\n",
       "      <td>1</td>\n",
       "      <td>08</td>\n",
       "      <td>GLASSCOCK</td>\n",
       "      <td>Vertical</td>\n",
       "      <td>Recompletion</td>\n",
       "      <td>...</td>\n",
       "      <td>2016-09-13</td>\n",
       "      <td>13</td>\n",
       "      <td>PERMIAN BASIN</td>\n",
       "      <td>Shallow</td>\n",
       "      <td>0</td>\n",
       "      <td>0</td>\n",
       "      <td>0</td>\n",
       "      <td>0</td>\n",
       "      <td>1</td>\n",
       "      <td>0.299713</td>\n",
       "    </tr>\n",
       "  </tbody>\n",
       "</table>\n",
       "<p>5 rows × 22 columns</p>\n",
       "</div>"
      ],
      "text/plain": [
       "                                              Status_Date  Status   API_NO.  \\\n",
       "Permit_approved                                                               \n",
       "2018-11-07       Submitted 11/07/2018 Approved 11/07/2018  846586  38937764   \n",
       "2016-07-11       Submitted 07/08/2016 Approved 07/11/2016  816883  46140376   \n",
       "2016-11-10       Submitted 11/02/2016 Approved 11/10/2016  819999  16334012   \n",
       "2019-09-26       Submitted 09/24/2019 Approved 09/26/2019  857379  25536606   \n",
       "2016-09-26       Submitted 09/13/2016 Approved 09/26/2016  818425  17333081   \n",
       "\n",
       "                                 Operator_Name_Number  \\\n",
       "Permit_approved                                         \n",
       "2018-11-07                  NOBLE ENERGY INC (611665)   \n",
       "2016-07-11                APACHE CORPORATION (027200)   \n",
       "2016-11-10       CABOT OIL & GAS CORPORATION (121700)   \n",
       "2019-09-26             BPX OPERATING COMPANY (085408)   \n",
       "2016-09-26               VERITAS ENERGY, LLC (884589)   \n",
       "\n",
       "                                      Lease_Name  Well District     County  \\\n",
       "Permit_approved                                                              \n",
       "2018-11-07       WILD BILL HICKOK 205-206 UNIT B    9H       08     REEVES   \n",
       "2016-07-11                       CONNELL 48 WEST   2HM       7C      UPTON   \n",
       "2016-11-10                        THOMPSON RANCH   11H       01       FRIO   \n",
       "2019-09-26                       LONESOME DOVE A    8H       02     KARNES   \n",
       "2016-09-26                             BRYANS 26     1       08  GLASSCOCK   \n",
       "\n",
       "                Wellbore_Profile Filing_Purpose  ... Permit_submitted  \\\n",
       "Permit_approved                                  ...                    \n",
       "2018-11-07            Horizontal      New Drill  ...       2018-11-07   \n",
       "2016-07-11            Horizontal      New Drill  ...       2016-07-08   \n",
       "2016-11-10            Horizontal      New Drill  ...       2016-11-02   \n",
       "2019-09-26            Horizontal      New Drill  ...       2019-09-24   \n",
       "2016-09-26              Vertical   Recompletion  ...       2016-09-13   \n",
       "\n",
       "                Approval_time_days          SHALE  Depth_bin BARNETT  \\\n",
       "Permit_approved                                                        \n",
       "2018-11-07                       0  PERMIAN BASIN       Deep       0   \n",
       "2016-07-11                       3  PERMIAN BASIN  Mid_depth       0   \n",
       "2016-11-10                       8     EAGLE FORD    Shallow       0   \n",
       "2019-09-26                       2     EAGLE FORD       Deep       0   \n",
       "2016-09-26                      13  PERMIAN BASIN    Shallow       0   \n",
       "\n",
       "                EAGLE FORD  HAYNESVILLE  NONE  PERMIAN BASIN  Depth_scaled  \n",
       "Permit_approved                                                             \n",
       "2018-11-07               0            0     0              1      0.461235  \n",
       "2016-07-11               0            0     0              1      0.360732  \n",
       "2016-11-10               1            0     0              0      0.292534  \n",
       "2019-09-26               1            0     0              0      0.420818  \n",
       "2016-09-26               0            0     0              1      0.299713  \n",
       "\n",
       "[5 rows x 22 columns]"
      ]
     },
     "execution_count": 35,
     "metadata": {},
     "output_type": "execute_result"
    }
   ],
   "source": [
    "train_scaled.head()"
   ]
  },
  {
   "cell_type": "code",
   "execution_count": 24,
   "id": "9c496813",
   "metadata": {},
   "outputs": [
    {
     "data": {
      "text/plain": [
       "((37718, 21),)"
      ]
     },
     "execution_count": 24,
     "metadata": {},
     "output_type": "execute_result"
    }
   ],
   "source": [
    "X_train_scaled.shape, "
   ]
  },
  {
   "cell_type": "code",
   "execution_count": 25,
   "id": "580516ed",
   "metadata": {},
   "outputs": [
    {
     "data": {
      "text/html": [
       "<div>\n",
       "<style scoped>\n",
       "    .dataframe tbody tr th:only-of-type {\n",
       "        vertical-align: middle;\n",
       "    }\n",
       "\n",
       "    .dataframe tbody tr th {\n",
       "        vertical-align: top;\n",
       "    }\n",
       "\n",
       "    .dataframe thead th {\n",
       "        text-align: right;\n",
       "    }\n",
       "</style>\n",
       "<table border=\"1\" class=\"dataframe\">\n",
       "  <thead>\n",
       "    <tr style=\"text-align: right;\">\n",
       "      <th></th>\n",
       "      <th>Status_Date</th>\n",
       "      <th>Status</th>\n",
       "      <th>API_NO.</th>\n",
       "      <th>Operator_Name_Number</th>\n",
       "      <th>Lease_Name</th>\n",
       "      <th>Well</th>\n",
       "      <th>District</th>\n",
       "      <th>County</th>\n",
       "      <th>Wellbore_Profile</th>\n",
       "      <th>Filing_Purpose</th>\n",
       "      <th>...</th>\n",
       "      <th>Current_Queue</th>\n",
       "      <th>Permit_submitted</th>\n",
       "      <th>SHALE</th>\n",
       "      <th>Depth_bin</th>\n",
       "      <th>BARNETT</th>\n",
       "      <th>EAGLE FORD</th>\n",
       "      <th>HAYNESVILLE</th>\n",
       "      <th>NONE</th>\n",
       "      <th>PERMIAN BASIN</th>\n",
       "      <th>Depth_scaled</th>\n",
       "    </tr>\n",
       "    <tr>\n",
       "      <th>Permit_approved</th>\n",
       "      <th></th>\n",
       "      <th></th>\n",
       "      <th></th>\n",
       "      <th></th>\n",
       "      <th></th>\n",
       "      <th></th>\n",
       "      <th></th>\n",
       "      <th></th>\n",
       "      <th></th>\n",
       "      <th></th>\n",
       "      <th></th>\n",
       "      <th></th>\n",
       "      <th></th>\n",
       "      <th></th>\n",
       "      <th></th>\n",
       "      <th></th>\n",
       "      <th></th>\n",
       "      <th></th>\n",
       "      <th></th>\n",
       "      <th></th>\n",
       "      <th></th>\n",
       "    </tr>\n",
       "  </thead>\n",
       "  <tbody>\n",
       "    <tr>\n",
       "      <th>2018-11-07</th>\n",
       "      <td>Submitted 11/07/2018 Approved 11/07/2018</td>\n",
       "      <td>846586</td>\n",
       "      <td>38937764</td>\n",
       "      <td>NOBLE ENERGY INC (611665)</td>\n",
       "      <td>WILD BILL HICKOK 205-206 UNIT B</td>\n",
       "      <td>9H</td>\n",
       "      <td>08</td>\n",
       "      <td>REEVES</td>\n",
       "      <td>Horizontal</td>\n",
       "      <td>New Drill</td>\n",
       "      <td>...</td>\n",
       "      <td>APPROVED</td>\n",
       "      <td>2018-11-07</td>\n",
       "      <td>PERMIAN BASIN</td>\n",
       "      <td>Deep</td>\n",
       "      <td>0</td>\n",
       "      <td>0</td>\n",
       "      <td>0</td>\n",
       "      <td>0</td>\n",
       "      <td>1</td>\n",
       "      <td>0.461235</td>\n",
       "    </tr>\n",
       "  </tbody>\n",
       "</table>\n",
       "<p>1 rows × 21 columns</p>\n",
       "</div>"
      ],
      "text/plain": [
       "                                              Status_Date  Status   API_NO.  \\\n",
       "Permit_approved                                                               \n",
       "2018-11-07       Submitted 11/07/2018 Approved 11/07/2018  846586  38937764   \n",
       "\n",
       "                      Operator_Name_Number                       Lease_Name  \\\n",
       "Permit_approved                                                               \n",
       "2018-11-07       NOBLE ENERGY INC (611665)  WILD BILL HICKOK 205-206 UNIT B   \n",
       "\n",
       "                Well District  County Wellbore_Profile Filing_Purpose  ...  \\\n",
       "Permit_approved                                                        ...   \n",
       "2018-11-07        9H       08  REEVES       Horizontal      New Drill  ...   \n",
       "\n",
       "                Current_Queue Permit_submitted          SHALE Depth_bin  \\\n",
       "Permit_approved                                                           \n",
       "2018-11-07           APPROVED       2018-11-07  PERMIAN BASIN      Deep   \n",
       "\n",
       "                BARNETT  EAGLE FORD  HAYNESVILLE  NONE  PERMIAN BASIN  \\\n",
       "Permit_approved                                                         \n",
       "2018-11-07            0           0            0     0              1   \n",
       "\n",
       "                 Depth_scaled  \n",
       "Permit_approved                \n",
       "2018-11-07           0.461235  \n",
       "\n",
       "[1 rows x 21 columns]"
      ]
     },
     "execution_count": 25,
     "metadata": {},
     "output_type": "execute_result"
    }
   ],
   "source": [
    "X_train_scaled.head(1)"
   ]
  },
  {
   "cell_type": "code",
   "execution_count": 26,
   "id": "3f3e3eba",
   "metadata": {},
   "outputs": [
    {
     "data": {
      "text/plain": [
       "((37718, 1),)"
      ]
     },
     "execution_count": 26,
     "metadata": {},
     "output_type": "execute_result"
    }
   ],
   "source": [
    "y_train_scaled.shape, "
   ]
  },
  {
   "cell_type": "code",
   "execution_count": 27,
   "id": "f6fe22ef",
   "metadata": {},
   "outputs": [
    {
     "data": {
      "text/html": [
       "<div>\n",
       "<style scoped>\n",
       "    .dataframe tbody tr th:only-of-type {\n",
       "        vertical-align: middle;\n",
       "    }\n",
       "\n",
       "    .dataframe tbody tr th {\n",
       "        vertical-align: top;\n",
       "    }\n",
       "\n",
       "    .dataframe thead th {\n",
       "        text-align: right;\n",
       "    }\n",
       "</style>\n",
       "<table border=\"1\" class=\"dataframe\">\n",
       "  <thead>\n",
       "    <tr style=\"text-align: right;\">\n",
       "      <th></th>\n",
       "      <th>Approval_time_days</th>\n",
       "    </tr>\n",
       "    <tr>\n",
       "      <th>Permit_approved</th>\n",
       "      <th></th>\n",
       "    </tr>\n",
       "  </thead>\n",
       "  <tbody>\n",
       "    <tr>\n",
       "      <th>2018-11-07</th>\n",
       "      <td>0</td>\n",
       "    </tr>\n",
       "    <tr>\n",
       "      <th>2016-07-11</th>\n",
       "      <td>3</td>\n",
       "    </tr>\n",
       "    <tr>\n",
       "      <th>2016-11-10</th>\n",
       "      <td>8</td>\n",
       "    </tr>\n",
       "    <tr>\n",
       "      <th>2019-09-26</th>\n",
       "      <td>2</td>\n",
       "    </tr>\n",
       "    <tr>\n",
       "      <th>2016-09-26</th>\n",
       "      <td>13</td>\n",
       "    </tr>\n",
       "  </tbody>\n",
       "</table>\n",
       "</div>"
      ],
      "text/plain": [
       "                 Approval_time_days\n",
       "Permit_approved                    \n",
       "2018-11-07                        0\n",
       "2016-07-11                        3\n",
       "2016-11-10                        8\n",
       "2019-09-26                        2\n",
       "2016-09-26                       13"
      ]
     },
     "execution_count": 27,
     "metadata": {},
     "output_type": "execute_result"
    }
   ],
   "source": [
    "y_train_scaled.head()"
   ]
  },
  {
   "cell_type": "code",
   "execution_count": 28,
   "id": "7632e570",
   "metadata": {},
   "outputs": [
    {
     "data": {
      "text/plain": [
       "((16166, 22),)"
      ]
     },
     "execution_count": 28,
     "metadata": {},
     "output_type": "execute_result"
    }
   ],
   "source": [
    "validate_scaled.shape, "
   ]
  },
  {
   "cell_type": "code",
   "execution_count": 29,
   "id": "565ecc12",
   "metadata": {},
   "outputs": [
    {
     "data": {
      "text/plain": [
       "((16166, 21),)"
      ]
     },
     "execution_count": 29,
     "metadata": {},
     "output_type": "execute_result"
    }
   ],
   "source": [
    "X_validate_scaled.shape, "
   ]
  },
  {
   "cell_type": "code",
   "execution_count": 30,
   "id": "fe5b8dfd",
   "metadata": {},
   "outputs": [
    {
     "data": {
      "text/plain": [
       "(16166, 1)"
      ]
     },
     "execution_count": 30,
     "metadata": {},
     "output_type": "execute_result"
    }
   ],
   "source": [
    "y_validate_scaled.shape"
   ]
  },
  {
   "cell_type": "code",
   "execution_count": 31,
   "id": "b5e61d3f",
   "metadata": {},
   "outputs": [
    {
     "data": {
      "text/plain": [
       "(13471, 22)"
      ]
     },
     "execution_count": 31,
     "metadata": {},
     "output_type": "execute_result"
    }
   ],
   "source": [
    "test_scaled.shape"
   ]
  },
  {
   "cell_type": "code",
   "execution_count": 32,
   "id": "3387bed4",
   "metadata": {},
   "outputs": [
    {
     "data": {
      "text/plain": [
       "(13471, 21)"
      ]
     },
     "execution_count": 32,
     "metadata": {},
     "output_type": "execute_result"
    }
   ],
   "source": [
    "X_test_scaled.shape"
   ]
  },
  {
   "cell_type": "code",
   "execution_count": 33,
   "id": "60bde3aa",
   "metadata": {},
   "outputs": [
    {
     "data": {
      "text/plain": [
       "(13471, 1)"
      ]
     },
     "execution_count": 33,
     "metadata": {},
     "output_type": "execute_result"
    }
   ],
   "source": [
    "y_test_scaled.shape"
   ]
  },
  {
   "cell_type": "code",
   "execution_count": null,
   "id": "5b8151fe",
   "metadata": {},
   "outputs": [],
   "source": []
  }
 ],
 "metadata": {
  "kernelspec": {
   "display_name": "Python 3",
   "language": "python",
   "name": "python3"
  },
  "language_info": {
   "codemirror_mode": {
    "name": "ipython",
    "version": 3
   },
   "file_extension": ".py",
   "mimetype": "text/x-python",
   "name": "python",
   "nbconvert_exporter": "python",
   "pygments_lexer": "ipython3",
   "version": "3.8.8"
  }
 },
 "nbformat": 4,
 "nbformat_minor": 5
}
