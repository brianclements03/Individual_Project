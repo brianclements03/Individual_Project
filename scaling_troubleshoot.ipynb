{
 "cells": [
  {
   "cell_type": "code",
   "execution_count": 1,
   "id": "67689f17",
   "metadata": {},
   "outputs": [],
   "source": [
    "import pandas as pd\n",
    "import numpy as np\n",
    "import wrangle_module"
   ]
  },
  {
   "cell_type": "code",
   "execution_count": 2,
   "id": "28fde491",
   "metadata": {},
   "outputs": [],
   "source": [
    "permits = wrangle_module.acquire_permits()"
   ]
  },
  {
   "cell_type": "code",
   "execution_count": 3,
   "id": "7beb0b91",
   "metadata": {},
   "outputs": [
    {
     "data": {
      "text/plain": [
       "(76899, 14)"
      ]
     },
     "execution_count": 3,
     "metadata": {},
     "output_type": "execute_result"
    }
   ],
   "source": [
    "permits.shape"
   ]
  },
  {
   "cell_type": "code",
   "execution_count": 4,
   "id": "bde6ca53",
   "metadata": {},
   "outputs": [
    {
     "data": {
      "text/html": [
       "<div>\n",
       "<style scoped>\n",
       "    .dataframe tbody tr th:only-of-type {\n",
       "        vertical-align: middle;\n",
       "    }\n",
       "\n",
       "    .dataframe tbody tr th {\n",
       "        vertical-align: top;\n",
       "    }\n",
       "\n",
       "    .dataframe thead th {\n",
       "        text-align: right;\n",
       "    }\n",
       "</style>\n",
       "<table border=\"1\" class=\"dataframe\">\n",
       "  <thead>\n",
       "    <tr style=\"text-align: right;\">\n",
       "      <th></th>\n",
       "      <th>Status Date</th>\n",
       "      <th>Status #</th>\n",
       "      <th>API NO.</th>\n",
       "      <th>Operator Name/Number</th>\n",
       "      <th>Lease Name</th>\n",
       "      <th>Well #</th>\n",
       "      <th>Dist.</th>\n",
       "      <th>County</th>\n",
       "      <th>Wellbore Profile</th>\n",
       "      <th>Filing Purpose</th>\n",
       "      <th>Amend</th>\n",
       "      <th>Total Depth</th>\n",
       "      <th>Stacked Lateral Parent Well DP #</th>\n",
       "      <th>Current Queue</th>\n",
       "    </tr>\n",
       "  </thead>\n",
       "  <tbody>\n",
       "    <tr>\n",
       "      <th>0</th>\n",
       "      <td>Submitted 12/07/2013 Approved 02/09/2016</td>\n",
       "      <td>747692</td>\n",
       "      <td>41739323</td>\n",
       "      <td>VAN OPERATING, LTD. (881442)</td>\n",
       "      <td>SOUTH GREEN '54'</td>\n",
       "      <td>3</td>\n",
       "      <td>7B</td>\n",
       "      <td>SHACKELFORD</td>\n",
       "      <td>Vertical</td>\n",
       "      <td>New Drill</td>\n",
       "      <td>Y</td>\n",
       "      <td>4700</td>\n",
       "      <td>NaN</td>\n",
       "      <td>APPROVED</td>\n",
       "    </tr>\n",
       "  </tbody>\n",
       "</table>\n",
       "</div>"
      ],
      "text/plain": [
       "                                Status Date  Status #   API NO.  \\\n",
       "0  Submitted 12/07/2013 Approved 02/09/2016    747692  41739323   \n",
       "\n",
       "           Operator Name/Number        Lease Name Well # Dist.       County  \\\n",
       "0  VAN OPERATING, LTD. (881442)  SOUTH GREEN '54'      3    7B  SHACKELFORD   \n",
       "\n",
       "  Wellbore Profile Filing Purpose Amend  Total Depth  \\\n",
       "0         Vertical      New Drill     Y         4700   \n",
       "\n",
       "   Stacked Lateral Parent Well DP # Current Queue  \n",
       "0                               NaN      APPROVED  "
      ]
     },
     "execution_count": 4,
     "metadata": {},
     "output_type": "execute_result"
    }
   ],
   "source": [
    "permits.head(1)"
   ]
  },
  {
   "cell_type": "code",
   "execution_count": 5,
   "id": "bb446bd7",
   "metadata": {},
   "outputs": [
    {
     "data": {
      "text/plain": [
       "(67355, 17)"
      ]
     },
     "execution_count": 5,
     "metadata": {},
     "output_type": "execute_result"
    }
   ],
   "source": [
    "permits = wrangle_module.prep_permits(permits)\n",
    "permits.shape"
   ]
  },
  {
   "cell_type": "code",
   "execution_count": 6,
   "id": "a86e5841",
   "metadata": {},
   "outputs": [
    {
     "data": {
      "text/html": [
       "<div>\n",
       "<style scoped>\n",
       "    .dataframe tbody tr th:only-of-type {\n",
       "        vertical-align: middle;\n",
       "    }\n",
       "\n",
       "    .dataframe tbody tr th {\n",
       "        vertical-align: top;\n",
       "    }\n",
       "\n",
       "    .dataframe thead th {\n",
       "        text-align: right;\n",
       "    }\n",
       "</style>\n",
       "<table border=\"1\" class=\"dataframe\">\n",
       "  <thead>\n",
       "    <tr style=\"text-align: right;\">\n",
       "      <th></th>\n",
       "      <th>Status_Date</th>\n",
       "      <th>Status</th>\n",
       "      <th>API_NO.</th>\n",
       "      <th>Operator_Name_Number</th>\n",
       "      <th>Lease_Name</th>\n",
       "      <th>Well</th>\n",
       "      <th>District</th>\n",
       "      <th>County</th>\n",
       "      <th>Wellbore_Profile</th>\n",
       "      <th>Filing_Purpose</th>\n",
       "      <th>Amend</th>\n",
       "      <th>Total_Depth</th>\n",
       "      <th>Current_Queue</th>\n",
       "      <th>Permit_submitted</th>\n",
       "      <th>Approval_time_days</th>\n",
       "      <th>SHALE</th>\n",
       "      <th>Depth_bin</th>\n",
       "    </tr>\n",
       "    <tr>\n",
       "      <th>Permit_approved</th>\n",
       "      <th></th>\n",
       "      <th></th>\n",
       "      <th></th>\n",
       "      <th></th>\n",
       "      <th></th>\n",
       "      <th></th>\n",
       "      <th></th>\n",
       "      <th></th>\n",
       "      <th></th>\n",
       "      <th></th>\n",
       "      <th></th>\n",
       "      <th></th>\n",
       "      <th></th>\n",
       "      <th></th>\n",
       "      <th></th>\n",
       "      <th></th>\n",
       "      <th></th>\n",
       "    </tr>\n",
       "  </thead>\n",
       "  <tbody>\n",
       "    <tr>\n",
       "      <th>2016-01-04</th>\n",
       "      <td>Submitted 01/04/2016 Approved 01/04/2016</td>\n",
       "      <td>812976</td>\n",
       "      <td>28531642</td>\n",
       "      <td>CANTERA OPERATING, LLC (129692)</td>\n",
       "      <td>O. A. LAMPLEY GU 1</td>\n",
       "      <td>1</td>\n",
       "      <td>02</td>\n",
       "      <td>LAVACA</td>\n",
       "      <td>Vertical</td>\n",
       "      <td>Recompletion</td>\n",
       "      <td>N</td>\n",
       "      <td>13606</td>\n",
       "      <td>APPROVED</td>\n",
       "      <td>2016-01-04</td>\n",
       "      <td>0</td>\n",
       "      <td>EAGLE FORD</td>\n",
       "      <td>Deep</td>\n",
       "    </tr>\n",
       "  </tbody>\n",
       "</table>\n",
       "</div>"
      ],
      "text/plain": [
       "                                              Status_Date  Status   API_NO.  \\\n",
       "Permit_approved                                                               \n",
       "2016-01-04       Submitted 01/04/2016 Approved 01/04/2016  812976  28531642   \n",
       "\n",
       "                            Operator_Name_Number          Lease_Name Well  \\\n",
       "Permit_approved                                                             \n",
       "2016-01-04       CANTERA OPERATING, LLC (129692)  O. A. LAMPLEY GU 1    1   \n",
       "\n",
       "                District  County Wellbore_Profile Filing_Purpose Amend  \\\n",
       "Permit_approved                                                          \n",
       "2016-01-04            02  LAVACA         Vertical   Recompletion     N   \n",
       "\n",
       "                 Total_Depth Current_Queue Permit_submitted  \\\n",
       "Permit_approved                                               \n",
       "2016-01-04             13606      APPROVED       2016-01-04   \n",
       "\n",
       "                 Approval_time_days       SHALE Depth_bin  \n",
       "Permit_approved                                            \n",
       "2016-01-04                        0  EAGLE FORD      Deep  "
      ]
     },
     "execution_count": 6,
     "metadata": {},
     "output_type": "execute_result"
    }
   ],
   "source": [
    "permits.head(1)"
   ]
  },
  {
   "cell_type": "code",
   "execution_count": 7,
   "id": "56e4c602",
   "metadata": {},
   "outputs": [
    {
     "data": {
      "text/plain": [
       "(67355, 34)"
      ]
     },
     "execution_count": 7,
     "metadata": {},
     "output_type": "execute_result"
    }
   ],
   "source": [
    "permits = wrangle_module.encode_permits(permits)\n",
    "permits.shape"
   ]
  },
  {
   "cell_type": "code",
   "execution_count": 8,
   "id": "5be2bf28",
   "metadata": {},
   "outputs": [
    {
     "data": {
      "text/html": [
       "<div>\n",
       "<style scoped>\n",
       "    .dataframe tbody tr th:only-of-type {\n",
       "        vertical-align: middle;\n",
       "    }\n",
       "\n",
       "    .dataframe tbody tr th {\n",
       "        vertical-align: top;\n",
       "    }\n",
       "\n",
       "    .dataframe thead th {\n",
       "        text-align: right;\n",
       "    }\n",
       "</style>\n",
       "<table border=\"1\" class=\"dataframe\">\n",
       "  <thead>\n",
       "    <tr style=\"text-align: right;\">\n",
       "      <th></th>\n",
       "      <th>Status_Date</th>\n",
       "      <th>Status</th>\n",
       "      <th>API_NO.</th>\n",
       "      <th>Operator_Name_Number</th>\n",
       "      <th>Lease_Name</th>\n",
       "      <th>Well</th>\n",
       "      <th>District</th>\n",
       "      <th>County</th>\n",
       "      <th>Wellbore_Profile</th>\n",
       "      <th>Filing_Purpose</th>\n",
       "      <th>...</th>\n",
       "      <th>District_03</th>\n",
       "      <th>District_04</th>\n",
       "      <th>District_05</th>\n",
       "      <th>District_06</th>\n",
       "      <th>District_08</th>\n",
       "      <th>District_09</th>\n",
       "      <th>District_10</th>\n",
       "      <th>District_7B</th>\n",
       "      <th>District_7C</th>\n",
       "      <th>District_8A</th>\n",
       "    </tr>\n",
       "    <tr>\n",
       "      <th>Permit_approved</th>\n",
       "      <th></th>\n",
       "      <th></th>\n",
       "      <th></th>\n",
       "      <th></th>\n",
       "      <th></th>\n",
       "      <th></th>\n",
       "      <th></th>\n",
       "      <th></th>\n",
       "      <th></th>\n",
       "      <th></th>\n",
       "      <th></th>\n",
       "      <th></th>\n",
       "      <th></th>\n",
       "      <th></th>\n",
       "      <th></th>\n",
       "      <th></th>\n",
       "      <th></th>\n",
       "      <th></th>\n",
       "      <th></th>\n",
       "      <th></th>\n",
       "      <th></th>\n",
       "    </tr>\n",
       "  </thead>\n",
       "  <tbody>\n",
       "    <tr>\n",
       "      <th>2016-01-04</th>\n",
       "      <td>Submitted 01/04/2016 Approved 01/04/2016</td>\n",
       "      <td>812976</td>\n",
       "      <td>28531642</td>\n",
       "      <td>CANTERA OPERATING, LLC (129692)</td>\n",
       "      <td>O. A. LAMPLEY GU 1</td>\n",
       "      <td>1</td>\n",
       "      <td>02</td>\n",
       "      <td>LAVACA</td>\n",
       "      <td>Vertical</td>\n",
       "      <td>Recompletion</td>\n",
       "      <td>...</td>\n",
       "      <td>0</td>\n",
       "      <td>0</td>\n",
       "      <td>0</td>\n",
       "      <td>0</td>\n",
       "      <td>0</td>\n",
       "      <td>0</td>\n",
       "      <td>0</td>\n",
       "      <td>0</td>\n",
       "      <td>0</td>\n",
       "      <td>0</td>\n",
       "    </tr>\n",
       "  </tbody>\n",
       "</table>\n",
       "<p>1 rows × 34 columns</p>\n",
       "</div>"
      ],
      "text/plain": [
       "                                              Status_Date  Status   API_NO.  \\\n",
       "Permit_approved                                                               \n",
       "2016-01-04       Submitted 01/04/2016 Approved 01/04/2016  812976  28531642   \n",
       "\n",
       "                            Operator_Name_Number          Lease_Name Well  \\\n",
       "Permit_approved                                                             \n",
       "2016-01-04       CANTERA OPERATING, LLC (129692)  O. A. LAMPLEY GU 1    1   \n",
       "\n",
       "                District  County Wellbore_Profile Filing_Purpose  ...  \\\n",
       "Permit_approved                                                   ...   \n",
       "2016-01-04            02  LAVACA         Vertical   Recompletion  ...   \n",
       "\n",
       "                District_03  District_04 District_05 District_06  District_08  \\\n",
       "Permit_approved                                                                 \n",
       "2016-01-04                0            0           0           0            0   \n",
       "\n",
       "                District_09 District_10  District_7B  District_7C  District_8A  \n",
       "Permit_approved                                                                 \n",
       "2016-01-04                0           0            0            0            0  \n",
       "\n",
       "[1 rows x 34 columns]"
      ]
     },
     "execution_count": 8,
     "metadata": {},
     "output_type": "execute_result"
    }
   ],
   "source": [
    "permits.head(1)"
   ]
  },
  {
   "cell_type": "code",
   "execution_count": 9,
   "id": "6e6b719d",
   "metadata": {},
   "outputs": [],
   "source": [
    "train, validate, test, X_train, y_train, X_validate, y_validate, X_test, y_test = \\\n",
    "wrangle_module.split_permits(permits)"
   ]
  },
  {
   "cell_type": "code",
   "execution_count": 10,
   "id": "313240f3",
   "metadata": {},
   "outputs": [
    {
     "data": {
      "text/plain": [
       "((37718, 34),)"
      ]
     },
     "execution_count": 10,
     "metadata": {},
     "output_type": "execute_result"
    }
   ],
   "source": [
    "train.shape, "
   ]
  },
  {
   "cell_type": "code",
   "execution_count": 11,
   "id": "e9348d51",
   "metadata": {},
   "outputs": [
    {
     "data": {
      "text/html": [
       "<div>\n",
       "<style scoped>\n",
       "    .dataframe tbody tr th:only-of-type {\n",
       "        vertical-align: middle;\n",
       "    }\n",
       "\n",
       "    .dataframe tbody tr th {\n",
       "        vertical-align: top;\n",
       "    }\n",
       "\n",
       "    .dataframe thead th {\n",
       "        text-align: right;\n",
       "    }\n",
       "</style>\n",
       "<table border=\"1\" class=\"dataframe\">\n",
       "  <thead>\n",
       "    <tr style=\"text-align: right;\">\n",
       "      <th></th>\n",
       "      <th>Status_Date</th>\n",
       "      <th>Status</th>\n",
       "      <th>API_NO.</th>\n",
       "      <th>Operator_Name_Number</th>\n",
       "      <th>Lease_Name</th>\n",
       "      <th>Well</th>\n",
       "      <th>District</th>\n",
       "      <th>County</th>\n",
       "      <th>Wellbore_Profile</th>\n",
       "      <th>Filing_Purpose</th>\n",
       "      <th>...</th>\n",
       "      <th>District_03</th>\n",
       "      <th>District_04</th>\n",
       "      <th>District_05</th>\n",
       "      <th>District_06</th>\n",
       "      <th>District_08</th>\n",
       "      <th>District_09</th>\n",
       "      <th>District_10</th>\n",
       "      <th>District_7B</th>\n",
       "      <th>District_7C</th>\n",
       "      <th>District_8A</th>\n",
       "    </tr>\n",
       "    <tr>\n",
       "      <th>Permit_approved</th>\n",
       "      <th></th>\n",
       "      <th></th>\n",
       "      <th></th>\n",
       "      <th></th>\n",
       "      <th></th>\n",
       "      <th></th>\n",
       "      <th></th>\n",
       "      <th></th>\n",
       "      <th></th>\n",
       "      <th></th>\n",
       "      <th></th>\n",
       "      <th></th>\n",
       "      <th></th>\n",
       "      <th></th>\n",
       "      <th></th>\n",
       "      <th></th>\n",
       "      <th></th>\n",
       "      <th></th>\n",
       "      <th></th>\n",
       "      <th></th>\n",
       "      <th></th>\n",
       "    </tr>\n",
       "  </thead>\n",
       "  <tbody>\n",
       "    <tr>\n",
       "      <th>2018-11-07</th>\n",
       "      <td>Submitted 11/07/2018 Approved 11/07/2018</td>\n",
       "      <td>846586</td>\n",
       "      <td>38937764</td>\n",
       "      <td>NOBLE ENERGY INC (611665)</td>\n",
       "      <td>WILD BILL HICKOK 205-206 UNIT B</td>\n",
       "      <td>9H</td>\n",
       "      <td>08</td>\n",
       "      <td>REEVES</td>\n",
       "      <td>Horizontal</td>\n",
       "      <td>New Drill</td>\n",
       "      <td>...</td>\n",
       "      <td>0</td>\n",
       "      <td>0</td>\n",
       "      <td>0</td>\n",
       "      <td>0</td>\n",
       "      <td>1</td>\n",
       "      <td>0</td>\n",
       "      <td>0</td>\n",
       "      <td>0</td>\n",
       "      <td>0</td>\n",
       "      <td>0</td>\n",
       "    </tr>\n",
       "  </tbody>\n",
       "</table>\n",
       "<p>1 rows × 34 columns</p>\n",
       "</div>"
      ],
      "text/plain": [
       "                                              Status_Date  Status   API_NO.  \\\n",
       "Permit_approved                                                               \n",
       "2018-11-07       Submitted 11/07/2018 Approved 11/07/2018  846586  38937764   \n",
       "\n",
       "                      Operator_Name_Number                       Lease_Name  \\\n",
       "Permit_approved                                                               \n",
       "2018-11-07       NOBLE ENERGY INC (611665)  WILD BILL HICKOK 205-206 UNIT B   \n",
       "\n",
       "                Well District  County Wellbore_Profile Filing_Purpose  ...  \\\n",
       "Permit_approved                                                        ...   \n",
       "2018-11-07        9H       08  REEVES       Horizontal      New Drill  ...   \n",
       "\n",
       "                District_03  District_04 District_05 District_06  District_08  \\\n",
       "Permit_approved                                                                 \n",
       "2018-11-07                0            0           0           0            1   \n",
       "\n",
       "                District_09 District_10  District_7B  District_7C  District_8A  \n",
       "Permit_approved                                                                 \n",
       "2018-11-07                0           0            0            0            0  \n",
       "\n",
       "[1 rows x 34 columns]"
      ]
     },
     "execution_count": 11,
     "metadata": {},
     "output_type": "execute_result"
    }
   ],
   "source": [
    "train.head(1)"
   ]
  },
  {
   "cell_type": "code",
   "execution_count": 12,
   "id": "54dcd950",
   "metadata": {},
   "outputs": [
    {
     "data": {
      "text/plain": [
       "((16166, 34),)"
      ]
     },
     "execution_count": 12,
     "metadata": {},
     "output_type": "execute_result"
    }
   ],
   "source": [
    "validate.shape, "
   ]
  },
  {
   "cell_type": "code",
   "execution_count": 13,
   "id": "6ea7bf7a",
   "metadata": {},
   "outputs": [
    {
     "data": {
      "text/plain": [
       "((13471, 34),)"
      ]
     },
     "execution_count": 13,
     "metadata": {},
     "output_type": "execute_result"
    }
   ],
   "source": [
    "test.shape, "
   ]
  },
  {
   "cell_type": "code",
   "execution_count": 14,
   "id": "afe5431a",
   "metadata": {},
   "outputs": [
    {
     "data": {
      "text/plain": [
       "((37718, 33),)"
      ]
     },
     "execution_count": 14,
     "metadata": {},
     "output_type": "execute_result"
    }
   ],
   "source": [
    "X_train.shape, "
   ]
  },
  {
   "cell_type": "code",
   "execution_count": 15,
   "id": "1a0ff798",
   "metadata": {},
   "outputs": [
    {
     "data": {
      "text/plain": [
       "((37718, 1),)"
      ]
     },
     "execution_count": 15,
     "metadata": {},
     "output_type": "execute_result"
    }
   ],
   "source": [
    "y_train.shape, "
   ]
  },
  {
   "cell_type": "code",
   "execution_count": 16,
   "id": "de61b2ec",
   "metadata": {},
   "outputs": [
    {
     "data": {
      "text/html": [
       "<div>\n",
       "<style scoped>\n",
       "    .dataframe tbody tr th:only-of-type {\n",
       "        vertical-align: middle;\n",
       "    }\n",
       "\n",
       "    .dataframe tbody tr th {\n",
       "        vertical-align: top;\n",
       "    }\n",
       "\n",
       "    .dataframe thead th {\n",
       "        text-align: right;\n",
       "    }\n",
       "</style>\n",
       "<table border=\"1\" class=\"dataframe\">\n",
       "  <thead>\n",
       "    <tr style=\"text-align: right;\">\n",
       "      <th></th>\n",
       "      <th>Approval_time_days</th>\n",
       "    </tr>\n",
       "    <tr>\n",
       "      <th>Permit_approved</th>\n",
       "      <th></th>\n",
       "    </tr>\n",
       "  </thead>\n",
       "  <tbody>\n",
       "    <tr>\n",
       "      <th>2018-11-07</th>\n",
       "      <td>0</td>\n",
       "    </tr>\n",
       "  </tbody>\n",
       "</table>\n",
       "</div>"
      ],
      "text/plain": [
       "                 Approval_time_days\n",
       "Permit_approved                    \n",
       "2018-11-07                        0"
      ]
     },
     "execution_count": 16,
     "metadata": {},
     "output_type": "execute_result"
    }
   ],
   "source": [
    "y_train.head(1)"
   ]
  },
  {
   "cell_type": "code",
   "execution_count": 17,
   "id": "cc6a96b1",
   "metadata": {},
   "outputs": [
    {
     "data": {
      "text/plain": [
       "((16166, 33),)"
      ]
     },
     "execution_count": 17,
     "metadata": {},
     "output_type": "execute_result"
    }
   ],
   "source": [
    "X_validate.shape, "
   ]
  },
  {
   "cell_type": "code",
   "execution_count": 18,
   "id": "bbfc424f",
   "metadata": {},
   "outputs": [
    {
     "data": {
      "text/plain": [
       "((16166, 1),)"
      ]
     },
     "execution_count": 18,
     "metadata": {},
     "output_type": "execute_result"
    }
   ],
   "source": [
    "y_validate.shape, "
   ]
  },
  {
   "cell_type": "code",
   "execution_count": 19,
   "id": "52a76d37",
   "metadata": {},
   "outputs": [
    {
     "data": {
      "text/plain": [
       "((13471, 33),)"
      ]
     },
     "execution_count": 19,
     "metadata": {},
     "output_type": "execute_result"
    }
   ],
   "source": [
    "X_test.shape, "
   ]
  },
  {
   "cell_type": "code",
   "execution_count": 20,
   "id": "7746feb8",
   "metadata": {},
   "outputs": [
    {
     "data": {
      "text/plain": [
       "(13471, 1)"
      ]
     },
     "execution_count": 20,
     "metadata": {},
     "output_type": "execute_result"
    }
   ],
   "source": [
    "y_test.shape"
   ]
  },
  {
   "cell_type": "code",
   "execution_count": 21,
   "id": "342a6b22",
   "metadata": {},
   "outputs": [
    {
     "name": "stderr",
     "output_type": "stream",
     "text": [
      "/Users/brianclements/codeup-data-science/Individual_Project/wrangle_module.py:145: SettingWithCopyWarning: \n",
      "A value is trying to be set on a copy of a slice from a DataFrame.\n",
      "Try using .loc[row_indexer,col_indexer] = value instead\n",
      "\n",
      "See the caveats in the documentation: https://pandas.pydata.org/pandas-docs/stable/user_guide/indexing.html#returning-a-view-versus-a-copy\n",
      "  test['Depth_scaled'] = scaler.transform(test[['Total_Depth']])\n"
     ]
    }
   ],
   "source": [
    "train_scaled, X_train_scaled, y_train_scaled, validate_scaled, X_validate_scaled, y_validate_scaled, test_scaled, X_test_scaled, y_test_scaled = wrangle_module.scale_permits(train,validate,test)\n"
   ]
  },
  {
   "cell_type": "code",
   "execution_count": 22,
   "id": "98765876",
   "metadata": {},
   "outputs": [
    {
     "data": {
      "text/plain": [
       "((37718, 34),)"
      ]
     },
     "execution_count": 22,
     "metadata": {},
     "output_type": "execute_result"
    }
   ],
   "source": [
    "train_scaled.shape, "
   ]
  },
  {
   "cell_type": "code",
   "execution_count": 23,
   "id": "439ed6fd",
   "metadata": {},
   "outputs": [
    {
     "data": {
      "text/html": [
       "<div>\n",
       "<style scoped>\n",
       "    .dataframe tbody tr th:only-of-type {\n",
       "        vertical-align: middle;\n",
       "    }\n",
       "\n",
       "    .dataframe tbody tr th {\n",
       "        vertical-align: top;\n",
       "    }\n",
       "\n",
       "    .dataframe thead th {\n",
       "        text-align: right;\n",
       "    }\n",
       "</style>\n",
       "<table border=\"1\" class=\"dataframe\">\n",
       "  <thead>\n",
       "    <tr style=\"text-align: right;\">\n",
       "      <th></th>\n",
       "      <th>Status_Date</th>\n",
       "      <th>Status</th>\n",
       "      <th>API_NO.</th>\n",
       "      <th>Operator_Name_Number</th>\n",
       "      <th>Lease_Name</th>\n",
       "      <th>Well</th>\n",
       "      <th>District</th>\n",
       "      <th>County</th>\n",
       "      <th>Wellbore_Profile</th>\n",
       "      <th>Filing_Purpose</th>\n",
       "      <th>...</th>\n",
       "      <th>District_04</th>\n",
       "      <th>District_05</th>\n",
       "      <th>District_06</th>\n",
       "      <th>District_08</th>\n",
       "      <th>District_09</th>\n",
       "      <th>District_10</th>\n",
       "      <th>District_7B</th>\n",
       "      <th>District_7C</th>\n",
       "      <th>District_8A</th>\n",
       "      <th>Depth_scaled</th>\n",
       "    </tr>\n",
       "    <tr>\n",
       "      <th>Permit_approved</th>\n",
       "      <th></th>\n",
       "      <th></th>\n",
       "      <th></th>\n",
       "      <th></th>\n",
       "      <th></th>\n",
       "      <th></th>\n",
       "      <th></th>\n",
       "      <th></th>\n",
       "      <th></th>\n",
       "      <th></th>\n",
       "      <th></th>\n",
       "      <th></th>\n",
       "      <th></th>\n",
       "      <th></th>\n",
       "      <th></th>\n",
       "      <th></th>\n",
       "      <th></th>\n",
       "      <th></th>\n",
       "      <th></th>\n",
       "      <th></th>\n",
       "      <th></th>\n",
       "    </tr>\n",
       "  </thead>\n",
       "  <tbody>\n",
       "    <tr>\n",
       "      <th>2018-11-07</th>\n",
       "      <td>Submitted 11/07/2018 Approved 11/07/2018</td>\n",
       "      <td>846586</td>\n",
       "      <td>38937764</td>\n",
       "      <td>NOBLE ENERGY INC (611665)</td>\n",
       "      <td>WILD BILL HICKOK 205-206 UNIT B</td>\n",
       "      <td>9H</td>\n",
       "      <td>08</td>\n",
       "      <td>REEVES</td>\n",
       "      <td>Horizontal</td>\n",
       "      <td>New Drill</td>\n",
       "      <td>...</td>\n",
       "      <td>0</td>\n",
       "      <td>0</td>\n",
       "      <td>0</td>\n",
       "      <td>1</td>\n",
       "      <td>0</td>\n",
       "      <td>0</td>\n",
       "      <td>0</td>\n",
       "      <td>0</td>\n",
       "      <td>0</td>\n",
       "      <td>0.461235</td>\n",
       "    </tr>\n",
       "    <tr>\n",
       "      <th>2016-07-11</th>\n",
       "      <td>Submitted 07/08/2016 Approved 07/11/2016</td>\n",
       "      <td>816883</td>\n",
       "      <td>46140376</td>\n",
       "      <td>APACHE CORPORATION (027200)</td>\n",
       "      <td>CONNELL 48 WEST</td>\n",
       "      <td>2HM</td>\n",
       "      <td>7C</td>\n",
       "      <td>UPTON</td>\n",
       "      <td>Horizontal</td>\n",
       "      <td>New Drill</td>\n",
       "      <td>...</td>\n",
       "      <td>0</td>\n",
       "      <td>0</td>\n",
       "      <td>0</td>\n",
       "      <td>0</td>\n",
       "      <td>0</td>\n",
       "      <td>0</td>\n",
       "      <td>0</td>\n",
       "      <td>1</td>\n",
       "      <td>0</td>\n",
       "      <td>0.360732</td>\n",
       "    </tr>\n",
       "    <tr>\n",
       "      <th>2016-11-10</th>\n",
       "      <td>Submitted 11/02/2016 Approved 11/10/2016</td>\n",
       "      <td>819999</td>\n",
       "      <td>16334012</td>\n",
       "      <td>CABOT OIL &amp; GAS CORPORATION (121700)</td>\n",
       "      <td>THOMPSON RANCH</td>\n",
       "      <td>11H</td>\n",
       "      <td>01</td>\n",
       "      <td>FRIO</td>\n",
       "      <td>Horizontal</td>\n",
       "      <td>New Drill</td>\n",
       "      <td>...</td>\n",
       "      <td>0</td>\n",
       "      <td>0</td>\n",
       "      <td>0</td>\n",
       "      <td>0</td>\n",
       "      <td>0</td>\n",
       "      <td>0</td>\n",
       "      <td>0</td>\n",
       "      <td>0</td>\n",
       "      <td>0</td>\n",
       "      <td>0.292534</td>\n",
       "    </tr>\n",
       "    <tr>\n",
       "      <th>2019-09-26</th>\n",
       "      <td>Submitted 09/24/2019 Approved 09/26/2019</td>\n",
       "      <td>857379</td>\n",
       "      <td>25536606</td>\n",
       "      <td>BPX OPERATING COMPANY (085408)</td>\n",
       "      <td>LONESOME DOVE A</td>\n",
       "      <td>8H</td>\n",
       "      <td>02</td>\n",
       "      <td>KARNES</td>\n",
       "      <td>Horizontal</td>\n",
       "      <td>New Drill</td>\n",
       "      <td>...</td>\n",
       "      <td>0</td>\n",
       "      <td>0</td>\n",
       "      <td>0</td>\n",
       "      <td>0</td>\n",
       "      <td>0</td>\n",
       "      <td>0</td>\n",
       "      <td>0</td>\n",
       "      <td>0</td>\n",
       "      <td>0</td>\n",
       "      <td>0.420818</td>\n",
       "    </tr>\n",
       "    <tr>\n",
       "      <th>2016-09-26</th>\n",
       "      <td>Submitted 09/13/2016 Approved 09/26/2016</td>\n",
       "      <td>818425</td>\n",
       "      <td>17333081</td>\n",
       "      <td>VERITAS ENERGY, LLC (884589)</td>\n",
       "      <td>BRYANS 26</td>\n",
       "      <td>1</td>\n",
       "      <td>08</td>\n",
       "      <td>GLASSCOCK</td>\n",
       "      <td>Vertical</td>\n",
       "      <td>Recompletion</td>\n",
       "      <td>...</td>\n",
       "      <td>0</td>\n",
       "      <td>0</td>\n",
       "      <td>0</td>\n",
       "      <td>1</td>\n",
       "      <td>0</td>\n",
       "      <td>0</td>\n",
       "      <td>0</td>\n",
       "      <td>0</td>\n",
       "      <td>0</td>\n",
       "      <td>0.299713</td>\n",
       "    </tr>\n",
       "  </tbody>\n",
       "</table>\n",
       "<p>5 rows × 34 columns</p>\n",
       "</div>"
      ],
      "text/plain": [
       "                                              Status_Date  Status   API_NO.  \\\n",
       "Permit_approved                                                               \n",
       "2018-11-07       Submitted 11/07/2018 Approved 11/07/2018  846586  38937764   \n",
       "2016-07-11       Submitted 07/08/2016 Approved 07/11/2016  816883  46140376   \n",
       "2016-11-10       Submitted 11/02/2016 Approved 11/10/2016  819999  16334012   \n",
       "2019-09-26       Submitted 09/24/2019 Approved 09/26/2019  857379  25536606   \n",
       "2016-09-26       Submitted 09/13/2016 Approved 09/26/2016  818425  17333081   \n",
       "\n",
       "                                 Operator_Name_Number  \\\n",
       "Permit_approved                                         \n",
       "2018-11-07                  NOBLE ENERGY INC (611665)   \n",
       "2016-07-11                APACHE CORPORATION (027200)   \n",
       "2016-11-10       CABOT OIL & GAS CORPORATION (121700)   \n",
       "2019-09-26             BPX OPERATING COMPANY (085408)   \n",
       "2016-09-26               VERITAS ENERGY, LLC (884589)   \n",
       "\n",
       "                                      Lease_Name  Well District     County  \\\n",
       "Permit_approved                                                              \n",
       "2018-11-07       WILD BILL HICKOK 205-206 UNIT B    9H       08     REEVES   \n",
       "2016-07-11                       CONNELL 48 WEST   2HM       7C      UPTON   \n",
       "2016-11-10                        THOMPSON RANCH   11H       01       FRIO   \n",
       "2019-09-26                       LONESOME DOVE A    8H       02     KARNES   \n",
       "2016-09-26                             BRYANS 26     1       08  GLASSCOCK   \n",
       "\n",
       "                Wellbore_Profile Filing_Purpose  ... District_04 District_05  \\\n",
       "Permit_approved                                  ...                           \n",
       "2018-11-07            Horizontal      New Drill  ...           0           0   \n",
       "2016-07-11            Horizontal      New Drill  ...           0           0   \n",
       "2016-11-10            Horizontal      New Drill  ...           0           0   \n",
       "2019-09-26            Horizontal      New Drill  ...           0           0   \n",
       "2016-09-26              Vertical   Recompletion  ...           0           0   \n",
       "\n",
       "                District_06  District_08 District_09 District_10  District_7B  \\\n",
       "Permit_approved                                                                 \n",
       "2018-11-07                0            1           0           0            0   \n",
       "2016-07-11                0            0           0           0            0   \n",
       "2016-11-10                0            0           0           0            0   \n",
       "2019-09-26                0            0           0           0            0   \n",
       "2016-09-26                0            1           0           0            0   \n",
       "\n",
       "                 District_7C  District_8A  Depth_scaled  \n",
       "Permit_approved                                          \n",
       "2018-11-07                 0            0      0.461235  \n",
       "2016-07-11                 1            0      0.360732  \n",
       "2016-11-10                 0            0      0.292534  \n",
       "2019-09-26                 0            0      0.420818  \n",
       "2016-09-26                 0            0      0.299713  \n",
       "\n",
       "[5 rows x 34 columns]"
      ]
     },
     "execution_count": 23,
     "metadata": {},
     "output_type": "execute_result"
    }
   ],
   "source": [
    "train_scaled.head()"
   ]
  },
  {
   "cell_type": "code",
   "execution_count": 24,
   "id": "5b1b5e3b",
   "metadata": {},
   "outputs": [
    {
     "data": {
      "text/plain": [
       "((37718, 33),)"
      ]
     },
     "execution_count": 24,
     "metadata": {},
     "output_type": "execute_result"
    }
   ],
   "source": [
    "X_train_scaled.shape, "
   ]
  },
  {
   "cell_type": "code",
   "execution_count": 25,
   "id": "eb12c80d",
   "metadata": {},
   "outputs": [
    {
     "data": {
      "text/html": [
       "<div>\n",
       "<style scoped>\n",
       "    .dataframe tbody tr th:only-of-type {\n",
       "        vertical-align: middle;\n",
       "    }\n",
       "\n",
       "    .dataframe tbody tr th {\n",
       "        vertical-align: top;\n",
       "    }\n",
       "\n",
       "    .dataframe thead th {\n",
       "        text-align: right;\n",
       "    }\n",
       "</style>\n",
       "<table border=\"1\" class=\"dataframe\">\n",
       "  <thead>\n",
       "    <tr style=\"text-align: right;\">\n",
       "      <th></th>\n",
       "      <th>Status_Date</th>\n",
       "      <th>Status</th>\n",
       "      <th>API_NO.</th>\n",
       "      <th>Operator_Name_Number</th>\n",
       "      <th>Lease_Name</th>\n",
       "      <th>Well</th>\n",
       "      <th>District</th>\n",
       "      <th>County</th>\n",
       "      <th>Wellbore_Profile</th>\n",
       "      <th>Filing_Purpose</th>\n",
       "      <th>...</th>\n",
       "      <th>District_04</th>\n",
       "      <th>District_05</th>\n",
       "      <th>District_06</th>\n",
       "      <th>District_08</th>\n",
       "      <th>District_09</th>\n",
       "      <th>District_10</th>\n",
       "      <th>District_7B</th>\n",
       "      <th>District_7C</th>\n",
       "      <th>District_8A</th>\n",
       "      <th>Depth_scaled</th>\n",
       "    </tr>\n",
       "    <tr>\n",
       "      <th>Permit_approved</th>\n",
       "      <th></th>\n",
       "      <th></th>\n",
       "      <th></th>\n",
       "      <th></th>\n",
       "      <th></th>\n",
       "      <th></th>\n",
       "      <th></th>\n",
       "      <th></th>\n",
       "      <th></th>\n",
       "      <th></th>\n",
       "      <th></th>\n",
       "      <th></th>\n",
       "      <th></th>\n",
       "      <th></th>\n",
       "      <th></th>\n",
       "      <th></th>\n",
       "      <th></th>\n",
       "      <th></th>\n",
       "      <th></th>\n",
       "      <th></th>\n",
       "      <th></th>\n",
       "    </tr>\n",
       "  </thead>\n",
       "  <tbody>\n",
       "    <tr>\n",
       "      <th>2018-11-07</th>\n",
       "      <td>Submitted 11/07/2018 Approved 11/07/2018</td>\n",
       "      <td>846586</td>\n",
       "      <td>38937764</td>\n",
       "      <td>NOBLE ENERGY INC (611665)</td>\n",
       "      <td>WILD BILL HICKOK 205-206 UNIT B</td>\n",
       "      <td>9H</td>\n",
       "      <td>08</td>\n",
       "      <td>REEVES</td>\n",
       "      <td>Horizontal</td>\n",
       "      <td>New Drill</td>\n",
       "      <td>...</td>\n",
       "      <td>0</td>\n",
       "      <td>0</td>\n",
       "      <td>0</td>\n",
       "      <td>1</td>\n",
       "      <td>0</td>\n",
       "      <td>0</td>\n",
       "      <td>0</td>\n",
       "      <td>0</td>\n",
       "      <td>0</td>\n",
       "      <td>0.461235</td>\n",
       "    </tr>\n",
       "  </tbody>\n",
       "</table>\n",
       "<p>1 rows × 33 columns</p>\n",
       "</div>"
      ],
      "text/plain": [
       "                                              Status_Date  Status   API_NO.  \\\n",
       "Permit_approved                                                               \n",
       "2018-11-07       Submitted 11/07/2018 Approved 11/07/2018  846586  38937764   \n",
       "\n",
       "                      Operator_Name_Number                       Lease_Name  \\\n",
       "Permit_approved                                                               \n",
       "2018-11-07       NOBLE ENERGY INC (611665)  WILD BILL HICKOK 205-206 UNIT B   \n",
       "\n",
       "                Well District  County Wellbore_Profile Filing_Purpose  ...  \\\n",
       "Permit_approved                                                        ...   \n",
       "2018-11-07        9H       08  REEVES       Horizontal      New Drill  ...   \n",
       "\n",
       "                District_04 District_05 District_06 District_08 District_09  \\\n",
       "Permit_approved                                                               \n",
       "2018-11-07                0           0           0           1           0   \n",
       "\n",
       "                 District_10  District_7B  District_7C  District_8A  \\\n",
       "Permit_approved                                                       \n",
       "2018-11-07                 0            0            0            0   \n",
       "\n",
       "                 Depth_scaled  \n",
       "Permit_approved                \n",
       "2018-11-07           0.461235  \n",
       "\n",
       "[1 rows x 33 columns]"
      ]
     },
     "execution_count": 25,
     "metadata": {},
     "output_type": "execute_result"
    }
   ],
   "source": [
    "X_train_scaled.head(1)"
   ]
  },
  {
   "cell_type": "code",
   "execution_count": 26,
   "id": "e5d79bd1",
   "metadata": {},
   "outputs": [
    {
     "data": {
      "text/plain": [
       "((37718, 1),)"
      ]
     },
     "execution_count": 26,
     "metadata": {},
     "output_type": "execute_result"
    }
   ],
   "source": [
    "y_train_scaled.shape, "
   ]
  },
  {
   "cell_type": "code",
   "execution_count": 27,
   "id": "a2c9b33e",
   "metadata": {},
   "outputs": [
    {
     "data": {
      "text/html": [
       "<div>\n",
       "<style scoped>\n",
       "    .dataframe tbody tr th:only-of-type {\n",
       "        vertical-align: middle;\n",
       "    }\n",
       "\n",
       "    .dataframe tbody tr th {\n",
       "        vertical-align: top;\n",
       "    }\n",
       "\n",
       "    .dataframe thead th {\n",
       "        text-align: right;\n",
       "    }\n",
       "</style>\n",
       "<table border=\"1\" class=\"dataframe\">\n",
       "  <thead>\n",
       "    <tr style=\"text-align: right;\">\n",
       "      <th></th>\n",
       "      <th>Approval_time_days</th>\n",
       "    </tr>\n",
       "    <tr>\n",
       "      <th>Permit_approved</th>\n",
       "      <th></th>\n",
       "    </tr>\n",
       "  </thead>\n",
       "  <tbody>\n",
       "    <tr>\n",
       "      <th>2018-11-07</th>\n",
       "      <td>0</td>\n",
       "    </tr>\n",
       "    <tr>\n",
       "      <th>2016-07-11</th>\n",
       "      <td>3</td>\n",
       "    </tr>\n",
       "    <tr>\n",
       "      <th>2016-11-10</th>\n",
       "      <td>8</td>\n",
       "    </tr>\n",
       "    <tr>\n",
       "      <th>2019-09-26</th>\n",
       "      <td>2</td>\n",
       "    </tr>\n",
       "    <tr>\n",
       "      <th>2016-09-26</th>\n",
       "      <td>13</td>\n",
       "    </tr>\n",
       "  </tbody>\n",
       "</table>\n",
       "</div>"
      ],
      "text/plain": [
       "                 Approval_time_days\n",
       "Permit_approved                    \n",
       "2018-11-07                        0\n",
       "2016-07-11                        3\n",
       "2016-11-10                        8\n",
       "2019-09-26                        2\n",
       "2016-09-26                       13"
      ]
     },
     "execution_count": 27,
     "metadata": {},
     "output_type": "execute_result"
    }
   ],
   "source": [
    "y_train_scaled.head()"
   ]
  },
  {
   "cell_type": "code",
   "execution_count": 28,
   "id": "20966ac4",
   "metadata": {},
   "outputs": [
    {
     "data": {
      "text/plain": [
       "((16166, 34),)"
      ]
     },
     "execution_count": 28,
     "metadata": {},
     "output_type": "execute_result"
    }
   ],
   "source": [
    "validate_scaled.shape, "
   ]
  },
  {
   "cell_type": "code",
   "execution_count": 29,
   "id": "db47e90c",
   "metadata": {},
   "outputs": [
    {
     "data": {
      "text/plain": [
       "((16166, 33),)"
      ]
     },
     "execution_count": 29,
     "metadata": {},
     "output_type": "execute_result"
    }
   ],
   "source": [
    "X_validate_scaled.shape, "
   ]
  },
  {
   "cell_type": "code",
   "execution_count": 30,
   "id": "27ccf53e",
   "metadata": {},
   "outputs": [
    {
     "data": {
      "text/plain": [
       "(16166, 1)"
      ]
     },
     "execution_count": 30,
     "metadata": {},
     "output_type": "execute_result"
    }
   ],
   "source": [
    "y_validate_scaled.shape"
   ]
  },
  {
   "cell_type": "code",
   "execution_count": 31,
   "id": "628ac546",
   "metadata": {},
   "outputs": [
    {
     "data": {
      "text/plain": [
       "(13471, 34)"
      ]
     },
     "execution_count": 31,
     "metadata": {},
     "output_type": "execute_result"
    }
   ],
   "source": [
    "test_scaled.shape"
   ]
  },
  {
   "cell_type": "code",
   "execution_count": 32,
   "id": "41c5312e",
   "metadata": {},
   "outputs": [
    {
     "data": {
      "text/plain": [
       "(13471, 33)"
      ]
     },
     "execution_count": 32,
     "metadata": {},
     "output_type": "execute_result"
    }
   ],
   "source": [
    "X_test_scaled.shape"
   ]
  },
  {
   "cell_type": "code",
   "execution_count": 33,
   "id": "fec2324a",
   "metadata": {},
   "outputs": [
    {
     "data": {
      "text/plain": [
       "(13471, 1)"
      ]
     },
     "execution_count": 33,
     "metadata": {},
     "output_type": "execute_result"
    }
   ],
   "source": [
    "y_test_scaled.shape"
   ]
  },
  {
   "cell_type": "code",
   "execution_count": null,
   "id": "7167d3fa",
   "metadata": {},
   "outputs": [],
   "source": []
  }
 ],
 "metadata": {
  "kernelspec": {
   "display_name": "Python 3",
   "language": "python",
   "name": "python3"
  },
  "language_info": {
   "codemirror_mode": {
    "name": "ipython",
    "version": 3
   },
   "file_extension": ".py",
   "mimetype": "text/x-python",
   "name": "python",
   "nbconvert_exporter": "python",
   "pygments_lexer": "ipython3",
   "version": "3.8.8"
  }
 },
 "nbformat": 4,
 "nbformat_minor": 5
}
