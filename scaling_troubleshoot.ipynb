{
 "cells": [
  {
   "cell_type": "code",
   "execution_count": 1,
   "id": "67689f17",
   "metadata": {},
   "outputs": [],
   "source": [
    "import pandas as pd\n",
    "import numpy as np\n",
    "import wrangle_module"
   ]
  },
  {
   "cell_type": "code",
   "execution_count": 2,
   "id": "3949ae42",
   "metadata": {},
   "outputs": [
    {
     "name": "stderr",
     "output_type": "stream",
     "text": [
      "/Users/brianclements/codeup-data-science/Individual_Project/wrangle_module.py:157: SettingWithCopyWarning: \n",
      "A value is trying to be set on a copy of a slice from a DataFrame.\n",
      "Try using .loc[row_indexer,col_indexer] = value instead\n",
      "\n",
      "See the caveats in the documentation: https://pandas.pydata.org/pandas-docs/stable/user_guide/indexing.html#returning-a-view-versus-a-copy\n",
      "  test['Depth_scaled'] = scaler.transform(test[['Total_Depth']])\n"
     ]
    }
   ],
   "source": [
    "permits, train, validate, test, explore, X_train, y_train, X_validate, y_validate, X_test, y_test, \\\n",
    "train_scaled, X_train_scaled, validate_scaled, X_validate_scaled, test_scaled, X_test_scaled \\\n",
    "= wrangle_module.wrangle_df()"
   ]
  },
  {
   "cell_type": "code",
   "execution_count": 4,
   "id": "ddc00c03",
   "metadata": {},
   "outputs": [
    {
     "data": {
      "text/html": [
       "<div>\n",
       "<style scoped>\n",
       "    .dataframe tbody tr th:only-of-type {\n",
       "        vertical-align: middle;\n",
       "    }\n",
       "\n",
       "    .dataframe tbody tr th {\n",
       "        vertical-align: top;\n",
       "    }\n",
       "\n",
       "    .dataframe thead th {\n",
       "        text-align: right;\n",
       "    }\n",
       "</style>\n",
       "<table border=\"1\" class=\"dataframe\">\n",
       "  <thead>\n",
       "    <tr style=\"text-align: right;\">\n",
       "      <th>Permit_approved</th>\n",
       "      <th>2016-01-04</th>\n",
       "    </tr>\n",
       "  </thead>\n",
       "  <tbody>\n",
       "    <tr>\n",
       "      <th>API_NO.</th>\n",
       "      <td>28531642</td>\n",
       "    </tr>\n",
       "    <tr>\n",
       "      <th>Operator_Name_Number</th>\n",
       "      <td>CANTERA OPERATING, LLC (129692)</td>\n",
       "    </tr>\n",
       "    <tr>\n",
       "      <th>Lease_Name</th>\n",
       "      <td>O. A. LAMPLEY GU 1</td>\n",
       "    </tr>\n",
       "    <tr>\n",
       "      <th>Well</th>\n",
       "      <td>1</td>\n",
       "    </tr>\n",
       "    <tr>\n",
       "      <th>District</th>\n",
       "      <td>02</td>\n",
       "    </tr>\n",
       "    <tr>\n",
       "      <th>County</th>\n",
       "      <td>LAVACA</td>\n",
       "    </tr>\n",
       "    <tr>\n",
       "      <th>Wellbore_Profile</th>\n",
       "      <td>Vertical</td>\n",
       "    </tr>\n",
       "    <tr>\n",
       "      <th>Filing_Purpose</th>\n",
       "      <td>Recompletion</td>\n",
       "    </tr>\n",
       "    <tr>\n",
       "      <th>Amend</th>\n",
       "      <td>N</td>\n",
       "    </tr>\n",
       "    <tr>\n",
       "      <th>Total_Depth</th>\n",
       "      <td>13606</td>\n",
       "    </tr>\n",
       "    <tr>\n",
       "      <th>Current_Queue</th>\n",
       "      <td>APPROVED</td>\n",
       "    </tr>\n",
       "    <tr>\n",
       "      <th>Permit_submitted</th>\n",
       "      <td>2016-01-04 00:00:00</td>\n",
       "    </tr>\n",
       "    <tr>\n",
       "      <th>Approval_time_days</th>\n",
       "      <td>0</td>\n",
       "    </tr>\n",
       "    <tr>\n",
       "      <th>SHALE</th>\n",
       "      <td>EAGLE FORD</td>\n",
       "    </tr>\n",
       "    <tr>\n",
       "      <th>Depth_bin</th>\n",
       "      <td>Deep</td>\n",
       "    </tr>\n",
       "  </tbody>\n",
       "</table>\n",
       "</div>"
      ],
      "text/plain": [
       "Permit_approved                            2016-01-04\n",
       "API_NO.                                      28531642\n",
       "Operator_Name_Number  CANTERA OPERATING, LLC (129692)\n",
       "Lease_Name                         O. A. LAMPLEY GU 1\n",
       "Well                                                1\n",
       "District                                           02\n",
       "County                                         LAVACA\n",
       "Wellbore_Profile                             Vertical\n",
       "Filing_Purpose                           Recompletion\n",
       "Amend                                               N\n",
       "Total_Depth                                     13606\n",
       "Current_Queue                                APPROVED\n",
       "Permit_submitted                  2016-01-04 00:00:00\n",
       "Approval_time_days                                  0\n",
       "SHALE                                      EAGLE FORD\n",
       "Depth_bin                                        Deep"
      ]
     },
     "execution_count": 4,
     "metadata": {},
     "output_type": "execute_result"
    }
   ],
   "source": [
    "explore.head(1).T"
   ]
  },
  {
   "cell_type": "code",
   "execution_count": 5,
   "id": "f8d95ffb",
   "metadata": {},
   "outputs": [
    {
     "data": {
      "text/plain": [
       "(67355, 15)"
      ]
     },
     "execution_count": 5,
     "metadata": {},
     "output_type": "execute_result"
    }
   ],
   "source": [
    "explore.shape"
   ]
  },
  {
   "cell_type": "code",
   "execution_count": null,
   "id": "2c88f7d7",
   "metadata": {},
   "outputs": [],
   "source": []
  },
  {
   "cell_type": "code",
   "execution_count": null,
   "id": "6c127557",
   "metadata": {},
   "outputs": [],
   "source": []
  },
  {
   "cell_type": "code",
   "execution_count": null,
   "id": "77b1f284",
   "metadata": {},
   "outputs": [],
   "source": []
  },
  {
   "cell_type": "code",
   "execution_count": null,
   "id": "3e9afe50",
   "metadata": {},
   "outputs": [],
   "source": []
  },
  {
   "cell_type": "code",
   "execution_count": null,
   "id": "f1173552",
   "metadata": {},
   "outputs": [],
   "source": []
  },
  {
   "cell_type": "code",
   "execution_count": null,
   "id": "28fde491",
   "metadata": {},
   "outputs": [],
   "source": [
    "permits = wrangle_module.acquire_permits()"
   ]
  },
  {
   "cell_type": "code",
   "execution_count": null,
   "id": "7beb0b91",
   "metadata": {},
   "outputs": [],
   "source": [
    "permits.shape"
   ]
  },
  {
   "cell_type": "code",
   "execution_count": null,
   "id": "bde6ca53",
   "metadata": {},
   "outputs": [],
   "source": [
    "permits.head(1)"
   ]
  },
  {
   "cell_type": "code",
   "execution_count": null,
   "id": "bb446bd7",
   "metadata": {},
   "outputs": [],
   "source": [
    "permits = wrangle_module.prep_permits(permits)\n",
    "permits.shape"
   ]
  },
  {
   "cell_type": "code",
   "execution_count": null,
   "id": "a86e5841",
   "metadata": {},
   "outputs": [],
   "source": [
    "permits.head(1)"
   ]
  },
  {
   "cell_type": "code",
   "execution_count": null,
   "id": "56e4c602",
   "metadata": {},
   "outputs": [],
   "source": [
    "permits = wrangle_module.encode_permits(permits)\n",
    "permits.shape"
   ]
  },
  {
   "cell_type": "code",
   "execution_count": null,
   "id": "5be2bf28",
   "metadata": {},
   "outputs": [],
   "source": [
    "permits.head(1)"
   ]
  },
  {
   "cell_type": "code",
   "execution_count": null,
   "id": "6e6b719d",
   "metadata": {},
   "outputs": [],
   "source": [
    "train, validate, test, X_train, y_train, X_validate, y_validate, X_test, y_test = \\\n",
    "wrangle_module.split_permits(permits)"
   ]
  },
  {
   "cell_type": "code",
   "execution_count": null,
   "id": "313240f3",
   "metadata": {},
   "outputs": [],
   "source": [
    "train.shape, "
   ]
  },
  {
   "cell_type": "code",
   "execution_count": null,
   "id": "e9348d51",
   "metadata": {},
   "outputs": [],
   "source": [
    "train.head(1)"
   ]
  },
  {
   "cell_type": "code",
   "execution_count": null,
   "id": "54dcd950",
   "metadata": {},
   "outputs": [],
   "source": [
    "validate.shape, "
   ]
  },
  {
   "cell_type": "code",
   "execution_count": null,
   "id": "6ea7bf7a",
   "metadata": {},
   "outputs": [],
   "source": [
    "test.shape, "
   ]
  },
  {
   "cell_type": "code",
   "execution_count": null,
   "id": "afe5431a",
   "metadata": {},
   "outputs": [],
   "source": [
    "X_train.shape, "
   ]
  },
  {
   "cell_type": "code",
   "execution_count": null,
   "id": "1a0ff798",
   "metadata": {},
   "outputs": [],
   "source": [
    "y_train.shape, "
   ]
  },
  {
   "cell_type": "code",
   "execution_count": null,
   "id": "de61b2ec",
   "metadata": {},
   "outputs": [],
   "source": [
    "y_train.head(1)"
   ]
  },
  {
   "cell_type": "code",
   "execution_count": null,
   "id": "cc6a96b1",
   "metadata": {},
   "outputs": [],
   "source": [
    "X_validate.shape, "
   ]
  },
  {
   "cell_type": "code",
   "execution_count": null,
   "id": "bbfc424f",
   "metadata": {},
   "outputs": [],
   "source": [
    "y_validate.shape, "
   ]
  },
  {
   "cell_type": "code",
   "execution_count": null,
   "id": "52a76d37",
   "metadata": {},
   "outputs": [],
   "source": [
    "X_test.shape, "
   ]
  },
  {
   "cell_type": "code",
   "execution_count": null,
   "id": "7746feb8",
   "metadata": {},
   "outputs": [],
   "source": [
    "y_test.shape"
   ]
  },
  {
   "cell_type": "code",
   "execution_count": null,
   "id": "342a6b22",
   "metadata": {},
   "outputs": [],
   "source": [
    "train_scaled, X_train_scaled, y_train_scaled, validate_scaled, X_validate_scaled, y_validate_scaled, test_scaled, X_test_scaled, y_test_scaled = wrangle_module.scale_permits(train,validate,test)\n"
   ]
  },
  {
   "cell_type": "code",
   "execution_count": null,
   "id": "98765876",
   "metadata": {},
   "outputs": [],
   "source": [
    "train_scaled.shape, "
   ]
  },
  {
   "cell_type": "code",
   "execution_count": null,
   "id": "439ed6fd",
   "metadata": {},
   "outputs": [],
   "source": [
    "train_scaled.head()"
   ]
  },
  {
   "cell_type": "code",
   "execution_count": null,
   "id": "5b1b5e3b",
   "metadata": {},
   "outputs": [],
   "source": [
    "X_train_scaled.shape, "
   ]
  },
  {
   "cell_type": "code",
   "execution_count": null,
   "id": "eb12c80d",
   "metadata": {},
   "outputs": [],
   "source": [
    "X_train_scaled.head(1)"
   ]
  },
  {
   "cell_type": "code",
   "execution_count": null,
   "id": "e5d79bd1",
   "metadata": {},
   "outputs": [],
   "source": [
    "y_train_scaled.shape, "
   ]
  },
  {
   "cell_type": "code",
   "execution_count": null,
   "id": "a2c9b33e",
   "metadata": {},
   "outputs": [],
   "source": [
    "y_train_scaled.head()"
   ]
  },
  {
   "cell_type": "code",
   "execution_count": null,
   "id": "20966ac4",
   "metadata": {},
   "outputs": [],
   "source": [
    "validate_scaled.shape, "
   ]
  },
  {
   "cell_type": "code",
   "execution_count": null,
   "id": "db47e90c",
   "metadata": {},
   "outputs": [],
   "source": [
    "X_validate_scaled.shape, "
   ]
  },
  {
   "cell_type": "code",
   "execution_count": null,
   "id": "27ccf53e",
   "metadata": {},
   "outputs": [],
   "source": [
    "y_validate_scaled.shape"
   ]
  },
  {
   "cell_type": "code",
   "execution_count": null,
   "id": "628ac546",
   "metadata": {},
   "outputs": [],
   "source": [
    "test_scaled.shape"
   ]
  },
  {
   "cell_type": "code",
   "execution_count": null,
   "id": "41c5312e",
   "metadata": {},
   "outputs": [],
   "source": [
    "X_test_scaled.shape"
   ]
  },
  {
   "cell_type": "code",
   "execution_count": null,
   "id": "fec2324a",
   "metadata": {},
   "outputs": [],
   "source": [
    "y_test_scaled.shape"
   ]
  },
  {
   "cell_type": "code",
   "execution_count": null,
   "id": "7167d3fa",
   "metadata": {},
   "outputs": [],
   "source": []
  }
 ],
 "metadata": {
  "kernelspec": {
   "display_name": "Python 3",
   "language": "python",
   "name": "python3"
  },
  "language_info": {
   "codemirror_mode": {
    "name": "ipython",
    "version": 3
   },
   "file_extension": ".py",
   "mimetype": "text/x-python",
   "name": "python",
   "nbconvert_exporter": "python",
   "pygments_lexer": "ipython3",
   "version": "3.8.8"
  }
 },
 "nbformat": 4,
 "nbformat_minor": 5
}
