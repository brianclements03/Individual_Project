{
 "cells": [
  {
   "cell_type": "code",
   "execution_count": 3,
   "id": "9f8c537c",
   "metadata": {},
   "outputs": [],
   "source": [
    "import pandas as pd\n",
    "import numpy as np"
   ]
  },
  {
   "cell_type": "code",
   "execution_count": 7,
   "id": "0c5d75b9",
   "metadata": {},
   "outputs": [
    {
     "data": {
      "text/plain": [
       "(227770, 8)"
      ]
     },
     "execution_count": 7,
     "metadata": {},
     "output_type": "execute_result"
    }
   ],
   "source": [
    "prod_16 = pd.read_csv('ProductionDataQuery_Lease_ReportCsv_2016_D1.csv', sep = ',')\\\n",
    ".append(pd.read_csv('ProductionDataQuery_Lease_ReportCsv_2016_D2.csv'))\\\n",
    ".append(pd.read_csv('ProductionDataQuery_Lease_ReportCsv_2016_D3.csv'))\\\n",
    ".append(pd.read_csv('ProductionDataQuery_Lease_ReportCsv_2016_D4.csv'))\\\n",
    ".append(pd.read_csv('ProductionDataQuery_Lease_ReportCsv_2016_D5.csv'))\\\n",
    ".append(pd.read_csv('ProductionDataQuery_Lease_ReportCsv_2016_D6.csv'))\\\n",
    ".append(pd.read_csv('ProductionDataQuery_Lease_ReportCsv_2016_D6E.csv'))\\\n",
    ".append(pd.read_csv('ProductionDataQuery_Lease_ReportCsv_2016_D7B.csv'))\\\n",
    ".append(pd.read_csv('ProductionDataQuery_Lease_ReportCsv_2016_D7C.csv'))\\\n",
    ".append(pd.read_csv('ProductionDataQuery_Lease_ReportCsv_2016_D8.csv'))\\\n",
    ".append(pd.read_csv('ProductionDataQuery_Lease_ReportCsv_2016_D8A.csv'))\\\n",
    ".append(pd.read_csv('ProductionDataQuery_Lease_ReportCsv_2016_D9.csv'))\\\n",
    ".append(pd.read_csv('ProductionDataQuery_Lease_ReportCsv_2016_D10.csv'))\n",
    "\n",
    "\n",
    "prod_16.shape"
   ]
  },
  {
   "cell_type": "code",
   "execution_count": 9,
   "id": "632eb706",
   "metadata": {},
   "outputs": [],
   "source": [
    "prod_16['Production_year'] = int(2016)"
   ]
  },
  {
   "cell_type": "code",
   "execution_count": 14,
   "id": "0b0146aa",
   "metadata": {},
   "outputs": [],
   "source": [
    "prod_16 = prod_16.rename(columns={'Lease Name':'Lease_Name', 'Lease No.':'Lease_No.', 'District No.':'District'\n",
    " , 'Well No.':'Well', 'Oil (BBL)': 'Oil_BBL',\n",
    "       'Casinghead (MCF)':'Casinghead_MCF', 'GW Gas (MCF)':'GW_Gas_MCF'\n",
    " , 'Condensate (BBL)':'Condensate_BBL',})\n"
   ]
  },
  {
   "cell_type": "code",
   "execution_count": 15,
   "id": "6b9ccea9",
   "metadata": {
    "scrolled": true
   },
   "outputs": [
    {
     "data": {
      "text/html": [
       "<div>\n",
       "<style scoped>\n",
       "    .dataframe tbody tr th:only-of-type {\n",
       "        vertical-align: middle;\n",
       "    }\n",
       "\n",
       "    .dataframe tbody tr th {\n",
       "        vertical-align: top;\n",
       "    }\n",
       "\n",
       "    .dataframe thead th {\n",
       "        text-align: right;\n",
       "    }\n",
       "</style>\n",
       "<table border=\"1\" class=\"dataframe\">\n",
       "  <thead>\n",
       "    <tr style=\"text-align: right;\">\n",
       "      <th></th>\n",
       "      <th>Lease_Name</th>\n",
       "      <th>Lease_No.</th>\n",
       "      <th>District</th>\n",
       "      <th>Well</th>\n",
       "      <th>Oil_BBL</th>\n",
       "      <th>Casinghead_MCF</th>\n",
       "      <th>GW_Gas_MCF</th>\n",
       "      <th>Condensate_BBL</th>\n",
       "      <th>Production_year</th>\n",
       "    </tr>\n",
       "  </thead>\n",
       "  <tbody>\n",
       "    <tr>\n",
       "      <th>0</th>\n",
       "      <td>ALTIZER \"B\"</td>\n",
       "      <td>167077</td>\n",
       "      <td>01</td>\n",
       "      <td>7B</td>\n",
       "      <td>0</td>\n",
       "      <td>0</td>\n",
       "      <td>29948</td>\n",
       "      <td>0</td>\n",
       "      <td>2016</td>\n",
       "    </tr>\n",
       "    <tr>\n",
       "      <th>1</th>\n",
       "      <td>REEVES</td>\n",
       "      <td>12813</td>\n",
       "      <td>01</td>\n",
       "      <td></td>\n",
       "      <td>441</td>\n",
       "      <td>0</td>\n",
       "      <td>0</td>\n",
       "      <td>0</td>\n",
       "      <td>2016</td>\n",
       "    </tr>\n",
       "    <tr>\n",
       "      <th>2</th>\n",
       "      <td>(S.A.H.) V.H. HRBACEK</td>\n",
       "      <td>04024</td>\n",
       "      <td>01</td>\n",
       "      <td></td>\n",
       "      <td>0</td>\n",
       "      <td>0</td>\n",
       "      <td>0</td>\n",
       "      <td>0</td>\n",
       "      <td>2016</td>\n",
       "    </tr>\n",
       "    <tr>\n",
       "      <th>3</th>\n",
       "      <td>0AUER, OLGA</td>\n",
       "      <td>02065</td>\n",
       "      <td>01</td>\n",
       "      <td></td>\n",
       "      <td>82</td>\n",
       "      <td>0</td>\n",
       "      <td>0</td>\n",
       "      <td>0</td>\n",
       "      <td>2016</td>\n",
       "    </tr>\n",
       "    <tr>\n",
       "      <th>4</th>\n",
       "      <td>1ST LOCKHART NATIONAL BANK</td>\n",
       "      <td>09481</td>\n",
       "      <td>01</td>\n",
       "      <td></td>\n",
       "      <td>0</td>\n",
       "      <td>0</td>\n",
       "      <td>0</td>\n",
       "      <td>0</td>\n",
       "      <td>2016</td>\n",
       "    </tr>\n",
       "  </tbody>\n",
       "</table>\n",
       "</div>"
      ],
      "text/plain": [
       "                   Lease_Name Lease_No. District Well  Oil_BBL  \\\n",
       "0                 ALTIZER \"B\"    167077       01   7B        0   \n",
       "1                      REEVES     12813       01           441   \n",
       "2       (S.A.H.) V.H. HRBACEK     04024       01             0   \n",
       "3                 0AUER, OLGA     02065       01            82   \n",
       "4  1ST LOCKHART NATIONAL BANK     09481       01             0   \n",
       "\n",
       "   Casinghead_MCF  GW_Gas_MCF  Condensate_BBL  Production_year  \n",
       "0               0       29948               0             2016  \n",
       "1               0           0               0             2016  \n",
       "2               0           0               0             2016  \n",
       "3               0           0               0             2016  \n",
       "4               0           0               0             2016  "
      ]
     },
     "execution_count": 15,
     "metadata": {},
     "output_type": "execute_result"
    }
   ],
   "source": [
    "prod_16.head()"
   ]
  },
  {
   "cell_type": "code",
   "execution_count": 16,
   "id": "c6ed1b1b",
   "metadata": {},
   "outputs": [],
   "source": [
    "prod_16.to_csv('prod_16.csv')"
   ]
  },
  {
   "cell_type": "code",
   "execution_count": null,
   "id": "bcc28607",
   "metadata": {},
   "outputs": [],
   "source": []
  }
 ],
 "metadata": {
  "kernelspec": {
   "display_name": "Python 3",
   "language": "python",
   "name": "python3"
  },
  "language_info": {
   "codemirror_mode": {
    "name": "ipython",
    "version": 3
   },
   "file_extension": ".py",
   "mimetype": "text/x-python",
   "name": "python",
   "nbconvert_exporter": "python",
   "pygments_lexer": "ipython3",
   "version": "3.8.8"
  }
 },
 "nbformat": 4,
 "nbformat_minor": 5
}
