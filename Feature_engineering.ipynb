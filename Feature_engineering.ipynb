{
 "cells": [
  {
   "cell_type": "code",
   "execution_count": 1,
   "id": "04f5c0c3",
   "metadata": {},
   "outputs": [],
   "source": [
    "# the imports required for this notebook\n",
    "import pandas as pd\n",
    "import numpy as np \n",
    "import matplotlib.pyplot as plt\n",
    "import seaborn as sns\n",
    "import statsmodels.api as sm\n",
    "from sklearn.model_selection import train_test_split\n",
    "from sklearn.preprocessing import MinMaxScaler\n",
    "from sklearn.impute import SimpleImputer\n",
    "import scipy.stats as stats\n",
    "import sklearn.linear_model\n",
    "import sklearn.preprocessing\n",
    "import statsmodels.api as sm\n",
    "from sklearn.feature_selection import SelectKBest, f_regression\n",
    "from sklearn.linear_model import LinearRegression, LassoLars, TweedieRegressor\n",
    "from sklearn.preprocessing import PolynomialFeatures\n",
    "from sklearn.metrics import mean_squared_error\n",
    "# plotting defaults\n",
    "plt.rc('figure', figsize=(13, 7))\n",
    "plt.style.use('seaborn-whitegrid')\n",
    "plt.rc('font', size=16)\n",
    "\n",
    "import wrangle_module\n",
    "import model\n",
    "import viz\n",
    "import hypothesis_testing"
   ]
  },
  {
   "cell_type": "code",
   "execution_count": 2,
   "id": "3d1b8bb4",
   "metadata": {},
   "outputs": [],
   "source": [
    "# Wrangling function that creates all dfs, splits, encoding and scaling \n",
    "# in one fell swoop.  \n",
    "permits, copy, train, validate, test, explore, X_train, y_train, X_validate, y_validate, \\\n",
    "X_test, y_test, train_scaled, X_train_scaled, validate_scaled, X_validate_scaled, \\\n",
    "test_scaled, X_test_scaled \\\n",
    "= wrangle_module.wrangle_df()"
   ]
  },
  {
   "cell_type": "markdown",
   "id": "c32f80be",
   "metadata": {},
   "source": [
    "## clustering not executed"
   ]
  },
  {
   "cell_type": "code",
   "execution_count": null,
   "id": "c6f09d0a",
   "metadata": {},
   "outputs": [],
   "source": []
  },
  {
   "cell_type": "markdown",
   "id": "07320f56",
   "metadata": {},
   "source": [
    "## features here"
   ]
  },
  {
   "cell_type": "code",
   "execution_count": 3,
   "id": "9c70cb8d",
   "metadata": {},
   "outputs": [],
   "source": [
    "# drop all rows not being fed into any model/feature selector\n",
    "X_train_model, X_validate_model, X_test_model = \\\n",
    "model.create_data_for_models(X_train_scaled, X_validate_scaled, X_test_scaled)"
   ]
  },
  {
   "cell_type": "code",
   "execution_count": null,
   "id": "03ac7de7",
   "metadata": {},
   "outputs": [],
   "source": []
  },
  {
   "cell_type": "code",
   "execution_count": 4,
   "id": "45047022",
   "metadata": {},
   "outputs": [
    {
     "data": {
      "text/plain": [
       "['SHALE_EAGLE FORD', 'SHALE_PERMIAN BASIN', 'District_01', 'District_08']"
      ]
     },
     "execution_count": 4,
     "metadata": {},
     "output_type": "execute_result"
    }
   ],
   "source": [
    "model.select_kbest(X_train_model, y_train, 4)"
   ]
  },
  {
   "cell_type": "code",
   "execution_count": 5,
   "id": "8e0a4bb2",
   "metadata": {},
   "outputs": [
    {
     "data": {
      "text/plain": [
       "['District_01', 'District_02', 'District_05', 'District_06']"
      ]
     },
     "execution_count": 5,
     "metadata": {},
     "output_type": "execute_result"
    }
   ],
   "source": [
    "model.select_rfe(X_train_model, y_train, 4)"
   ]
  },
  {
   "cell_type": "code",
   "execution_count": 6,
   "id": "42afc32c",
   "metadata": {},
   "outputs": [],
   "source": [
    "# # Create dataframes for modeling purposes from the model module. Just dropping the \n",
    "# # appropriate columns according to the model\n",
    "X_train_kbest, X_validate_kbest, X_test_kbest, X_train_rfe, X_validate_rfe, X_test_rfe \\\n",
    "= model.create_features(X_train_model, X_validate_model, X_test_model)"
   ]
  },
  {
   "cell_type": "code",
   "execution_count": 7,
   "id": "d89324c6",
   "metadata": {},
   "outputs": [],
   "source": [
    "# add baseline prediction to all y_ dataframes using function in my model file\n",
    "y_train,y_validate,y_test = model.add_pred_mean(y_train,y_validate,y_test)"
   ]
  },
  {
   "cell_type": "code",
   "execution_count": 8,
   "id": "db6b990f",
   "metadata": {},
   "outputs": [
    {
     "name": "stdout",
     "output_type": "stream",
     "text": [
      "RMSE using Mean\n",
      "Train/In-Sample:  5.6746 \n",
      "Validate/Out-of-Sample:  5.5954\n"
     ]
    }
   ],
   "source": [
    "# using a function to print the rmse of the model on train and validate, using baseline\n",
    "rmse_train, rmse_validate = model.get_rmse_in_sample(y_train,y_validate)"
   ]
  },
  {
   "cell_type": "code",
   "execution_count": 9,
   "id": "2f55c58e",
   "metadata": {},
   "outputs": [
    {
     "data": {
      "text/html": [
       "<div>\n",
       "<style scoped>\n",
       "    .dataframe tbody tr th:only-of-type {\n",
       "        vertical-align: middle;\n",
       "    }\n",
       "\n",
       "    .dataframe tbody tr th {\n",
       "        vertical-align: top;\n",
       "    }\n",
       "\n",
       "    .dataframe thead th {\n",
       "        text-align: right;\n",
       "    }\n",
       "</style>\n",
       "<table border=\"1\" class=\"dataframe\">\n",
       "  <thead>\n",
       "    <tr style=\"text-align: right;\">\n",
       "      <th></th>\n",
       "      <th>model</th>\n",
       "      <th>RMSE_train</th>\n",
       "      <th>RMSE_validate</th>\n",
       "    </tr>\n",
       "  </thead>\n",
       "  <tbody>\n",
       "    <tr>\n",
       "      <th>0</th>\n",
       "      <td>mean_baseline</td>\n",
       "      <td>5.674629</td>\n",
       "      <td>5.595407</td>\n",
       "    </tr>\n",
       "  </tbody>\n",
       "</table>\n",
       "</div>"
      ],
      "text/plain": [
       "           model  RMSE_train  RMSE_validate\n",
       "0  mean_baseline    5.674629       5.595407"
      ]
     },
     "execution_count": 9,
     "metadata": {},
     "output_type": "execute_result"
    }
   ],
   "source": [
    "metric_df = model.create_eval_df(rmse_train, rmse_validate)\n",
    "metric_df"
   ]
  },
  {
   "cell_type": "code",
   "execution_count": 10,
   "id": "264c10e0",
   "metadata": {},
   "outputs": [
    {
     "data": {
      "text/html": [
       "<div>\n",
       "<style scoped>\n",
       "    .dataframe tbody tr th:only-of-type {\n",
       "        vertical-align: middle;\n",
       "    }\n",
       "\n",
       "    .dataframe tbody tr th {\n",
       "        vertical-align: top;\n",
       "    }\n",
       "\n",
       "    .dataframe thead th {\n",
       "        text-align: right;\n",
       "    }\n",
       "</style>\n",
       "<table border=\"1\" class=\"dataframe\">\n",
       "  <thead>\n",
       "    <tr style=\"text-align: right;\">\n",
       "      <th></th>\n",
       "      <th>model</th>\n",
       "      <th>RMSE_train</th>\n",
       "      <th>RMSE_validate</th>\n",
       "    </tr>\n",
       "  </thead>\n",
       "  <tbody>\n",
       "    <tr>\n",
       "      <th>0</th>\n",
       "      <td>mean_baseline</td>\n",
       "      <td>5.674629</td>\n",
       "      <td>5.595407</td>\n",
       "    </tr>\n",
       "    <tr>\n",
       "      <th>1</th>\n",
       "      <td>OLS Regressor all features</td>\n",
       "      <td>5.661146</td>\n",
       "      <td>5.586228</td>\n",
       "    </tr>\n",
       "    <tr>\n",
       "      <th>2</th>\n",
       "      <td>OLS Regressor k_best</td>\n",
       "      <td>5.668417</td>\n",
       "      <td>5.592183</td>\n",
       "    </tr>\n",
       "    <tr>\n",
       "      <th>3</th>\n",
       "      <td>OLS Regressor rfe</td>\n",
       "      <td>5.665753</td>\n",
       "      <td>5.588958</td>\n",
       "    </tr>\n",
       "    <tr>\n",
       "      <th>4</th>\n",
       "      <td>Lasso_alpha1 all features</td>\n",
       "      <td>5.674629</td>\n",
       "      <td>5.595407</td>\n",
       "    </tr>\n",
       "    <tr>\n",
       "      <th>5</th>\n",
       "      <td>Lasso_alpha1 k_best</td>\n",
       "      <td>5.674629</td>\n",
       "      <td>5.595407</td>\n",
       "    </tr>\n",
       "    <tr>\n",
       "      <th>6</th>\n",
       "      <td>Lasso_alpha1 rfe</td>\n",
       "      <td>5.674629</td>\n",
       "      <td>5.595407</td>\n",
       "    </tr>\n",
       "    <tr>\n",
       "      <th>7</th>\n",
       "      <td>glm_compound all features</td>\n",
       "      <td>5.660915</td>\n",
       "      <td>5.585307</td>\n",
       "    </tr>\n",
       "    <tr>\n",
       "      <th>8</th>\n",
       "      <td>glm_compound k_best</td>\n",
       "      <td>5.668405</td>\n",
       "      <td>5.592182</td>\n",
       "    </tr>\n",
       "    <tr>\n",
       "      <th>9</th>\n",
       "      <td>glm_compound rfe</td>\n",
       "      <td>5.665753</td>\n",
       "      <td>5.588957</td>\n",
       "    </tr>\n",
       "    <tr>\n",
       "      <th>10</th>\n",
       "      <td>quadratic_deg2 all features</td>\n",
       "      <td>5.652545</td>\n",
       "      <td>5.578995</td>\n",
       "    </tr>\n",
       "    <tr>\n",
       "      <th>11</th>\n",
       "      <td>quadratic_deg2 k_best</td>\n",
       "      <td>5.668236</td>\n",
       "      <td>5.592003</td>\n",
       "    </tr>\n",
       "    <tr>\n",
       "      <th>12</th>\n",
       "      <td>quadratic_deg2 rfe</td>\n",
       "      <td>5.665940</td>\n",
       "      <td>5.589117</td>\n",
       "    </tr>\n",
       "    <tr>\n",
       "      <th>13</th>\n",
       "      <td>quadratic_deg3 all features</td>\n",
       "      <td>5.649677</td>\n",
       "      <td>5.574972</td>\n",
       "    </tr>\n",
       "    <tr>\n",
       "      <th>14</th>\n",
       "      <td>quadratic_deg3 k_best</td>\n",
       "      <td>5.668110</td>\n",
       "      <td>5.592044</td>\n",
       "    </tr>\n",
       "    <tr>\n",
       "      <th>15</th>\n",
       "      <td>quadratic_deg3 rfe</td>\n",
       "      <td>5.665975</td>\n",
       "      <td>5.588850</td>\n",
       "    </tr>\n",
       "  </tbody>\n",
       "</table>\n",
       "</div>"
      ],
      "text/plain": [
       "                          model  RMSE_train  RMSE_validate\n",
       "0                 mean_baseline    5.674629       5.595407\n",
       "1    OLS Regressor all features    5.661146       5.586228\n",
       "2          OLS Regressor k_best    5.668417       5.592183\n",
       "3             OLS Regressor rfe    5.665753       5.588958\n",
       "4     Lasso_alpha1 all features    5.674629       5.595407\n",
       "5           Lasso_alpha1 k_best    5.674629       5.595407\n",
       "6              Lasso_alpha1 rfe    5.674629       5.595407\n",
       "7     glm_compound all features    5.660915       5.585307\n",
       "8           glm_compound k_best    5.668405       5.592182\n",
       "9              glm_compound rfe    5.665753       5.588957\n",
       "10  quadratic_deg2 all features    5.652545       5.578995\n",
       "11        quadratic_deg2 k_best    5.668236       5.592003\n",
       "12           quadratic_deg2 rfe    5.665940       5.589117\n",
       "13  quadratic_deg3 all features    5.649677       5.574972\n",
       "14        quadratic_deg3 k_best    5.668110       5.592044\n",
       "15           quadratic_deg3 rfe    5.665975       5.588850"
      ]
     },
     "execution_count": 10,
     "metadata": {},
     "output_type": "execute_result"
    }
   ],
   "source": [
    "# assigning and displaying the evaluation df for the various models i've run\n",
    "# in my model module\n",
    "metric_df = model.run_all_models(X_train_model, X_train_kbest, X_train_rfe, y_train, \n",
    "                                 X_validate_model,X_validate_kbest, X_validate_rfe, \n",
    "                                 y_validate, metric_df)\n",
    "metric_df"
   ]
  },
  {
   "cell_type": "code",
   "execution_count": null,
   "id": "68d13076",
   "metadata": {},
   "outputs": [],
   "source": []
  },
  {
   "cell_type": "code",
   "execution_count": null,
   "id": "e30af879",
   "metadata": {},
   "outputs": [],
   "source": []
  },
  {
   "cell_type": "code",
   "execution_count": null,
   "id": "265cd40c",
   "metadata": {},
   "outputs": [],
   "source": []
  },
  {
   "cell_type": "code",
   "execution_count": null,
   "id": "5e28e527",
   "metadata": {},
   "outputs": [],
   "source": []
  }
 ],
 "metadata": {
  "kernelspec": {
   "display_name": "Python 3",
   "language": "python",
   "name": "python3"
  },
  "language_info": {
   "codemirror_mode": {
    "name": "ipython",
    "version": 3
   },
   "file_extension": ".py",
   "mimetype": "text/x-python",
   "name": "python",
   "nbconvert_exporter": "python",
   "pygments_lexer": "ipython3",
   "version": "3.8.8"
  }
 },
 "nbformat": 4,
 "nbformat_minor": 5
}
